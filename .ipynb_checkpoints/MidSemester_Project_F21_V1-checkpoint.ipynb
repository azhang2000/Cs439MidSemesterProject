{
 "cells": [
  {
   "cell_type": "markdown",
   "metadata": {
    "id": "6uBju7svapPs"
   },
   "source": [
    "<div class=\"alert alert-block alert-info\">\n",
    "<h3>Student(s) Information</h3> Please provide information about yourself.<br>\n",
    "<b>Name1</b>: Allen Zhang <br>\n",
    "<b>Name2 (optional) </b>: Andrew Cheng<br>\n",
    "<b>NetID 1</b>: axz3<br>\n",
    "<b>NetID 2 (optional)</b>: ac1972<br>\n",
    "<b>Notes to Grader</b> (optional):<br>\n",
    "<br><br>\n",
    "<b>IMPORTANT</b>\n",
    "Your work will not be graded withour your initials below<br>\n",
    "I certify that this lab represents my own work and I have read the RU academic intergrity policies at<br>\n",
    "<a href=\"https://www.cs.rutgers.edu/academic-integrity/introduction\">https://www.cs.rutgers.edu/academic-integrity/introduction </a><br>\n",
    "<b>Initials</b>: AZ     \n",
    "\n",
    "<h3>Grader Notes</h3>\n",
    "<b>Your Grade<b>:<br>\n",
    "<b>Grader Initials</b>:<br>\n",
    "<b>Grader Comments</b> (optional):<br>\n",
    "</div>\n",
    "\n",
    "### CS 439 - Introduction to Data Science\n",
    "### Fall 2021\n",
    "\n",
    "# Midsemester Project : Twitter Data Analysis\n",
    "\n",
    "### Due Date : November 14th, 2021 by 11:59 PM\n",
    "\n",
    "\n",
    "### About this project\n",
    "This is your mid-semester project. You are allowed to work with a partner (if you'd like). Only one partner (or max two per group is allowed). The goal of this mid-semester project is to work with Twitter API to analyze tweets from a person, and in this case, President Donald Trump.  @RealDonaldTrump tweets provide a great opportunity to understand how online media can be used to communicate over the traditional media. Moreoover, Trump tweets has become so consequential, they actually can move the stock market on short term and get network TV to debate and discuss hours and hours about what Trump meant.\n",
    "\n",
    "We hope this project will be fun as we can analyze range of emotions, hope, controversy, vagueness that are part of Trump tweets. We are interested in seeing what conclusions you can draw from US Presidents tweets. \n",
    "* DISCLAIMER: This project is not designed with any bias in mind. Note that we could pick either candiadate (Hillary Clinton or Donald Trump) or anyone else to do the same analysis. We hope your analysis is objective, independent of any political bias you may have. As Data Scientists, it is our responsiblity to do independent analysis of the data we try to understand. You should follow data and interpret w/o any bias.\n"
   ]
  },
  {
   "cell_type": "markdown",
   "metadata": {
    "id": "nrwHuwfbapPw"
   },
   "source": [
    "## Set up\n",
    "Let us get all the libaries initialized as necessary"
   ]
  },
  {
   "cell_type": "code",
   "execution_count": 1,
   "metadata": {
    "id": "M_FL--h5apPw"
   },
   "outputs": [],
   "source": [
    "# Run this cell to set up your notebook\n",
    "import csv\n",
    "import numpy as np\n",
    "import pandas as pd\n",
    "import matplotlib.pyplot as plt\n",
    "import zipfile\n",
    "import json\n",
    "\n",
    "# Ensure that Pandas shows at least 280 characters in columns, so we can see full tweets\n",
    "pd.set_option('max_colwidth', 280)\n",
    "\n",
    "%matplotlib inline\n",
    "plt.style.use('fivethirtyeight')\n",
    "import seaborn as sns\n",
    "sns.set()\n",
    "sns.set_context(\"talk\")\n",
    "import re"
   ]
  },
  {
   "cell_type": "markdown",
   "metadata": {
    "id": "6ORGPFVgapPx"
   },
   "source": [
    "## Downloading Recent Tweets\n",
    "It is important to download the most recent tweets (especially if you are working as a group). Those who are working by themselves are allowed to use the downloaded files w/o setting up access to any twitter API (which can sometime be bit complicated). Twitter provides the API Tweepy (http://www.tweepy.org/) that makes it easy to access twitter content that is publicly available. We will also provide example code as needed."
   ]
  },
  {
   "cell_type": "code",
   "execution_count": 2,
   "metadata": {
    "id": "JOOqNiaJapPy"
   },
   "outputs": [],
   "source": [
    "## Make sure you have set up tweepy if you are working locally.\n",
    "# https://www.pythoncentral.io/introduction-to-tweepy-twitter-for-python/\n",
    "# After set up, the following should run:\n",
    "import tweepy"
   ]
  },
  {
   "cell_type": "markdown",
   "metadata": {
    "id": "pSnwuTGlapPy"
   },
   "source": [
    "## PART 1:  Accessing Twitter API  (optional for individuals)\n",
    "In order to access Twitter API, you need to get keys by signing up as a Twitter developer. We will walk you through this process. \n",
    "* if you are working by yourself on this project, you can skip PART 1, and complete the project using the data files provided in the data folder. PART 1 is optional for those working by themselves. However, we highly recommend that you do Part 1 (after completing the project with offline data) if you would like to \"learn\" how to use Twitter API that might be useful."
   ]
  },
  {
   "cell_type": "markdown",
   "metadata": {
    "id": "4ua3d1joapPz"
   },
   "source": [
    "### Task 1.1\n",
    "\n",
    "Follow the instructions below to get your Twitter API keys.  **Read the instructions completely before starting.**\n",
    "\n",
    "1. [Create a Twitter account](https://twitter.com/).  You can use an existing account if you have one; if you prefer to not do this assignment under your regular account, feel free to create a throw-away account.\n",
    "2. Under account settings, add your phone number to the account.\n",
    "3. [Create a Twitter developer account](https://developer.twitter.com/en/apply/) by clicking the 'Apply' button on the top right of the page. Attach it to your Twitter account. You'll have to fill out a form describing what you want to do with the developer account. Explain that you are doing this for a class at Rutgers University and that you don't know exactly what you're building yet and just need the account to get started. These applications are approved by some sort of AI system, so it doesn't matter exactly what you write. Just don't enter a bunch of alweiofalwiuhflawiuehflawuihflaiwhfe type stuff or you might get rejected.\n",
    "4. Once you're logged into your developer account, [create an application for this assignment](https://apps.twitter.com/app/new).  You can call it whatever you want, and you can write any URL when it asks for a web site.  You don't need to provide a callback URL.\n",
    "5. On the page for that application, find your Consumer Key and Consumer Secret.\n",
    "6. On the same page, create an Access Token.  Record the resulting Access Token and Access Token Secret.\n",
    "7. Edit the file [keys.json](keys.json) and replace the placeholders with your keys."
   ]
  },
  {
   "cell_type": "markdown",
   "metadata": {
    "id": "1OgUJbFCapP0"
   },
   "source": [
    "## WARNING (Please Read) !!!!\n",
    "\n",
    "\n",
    "### Protect your Twitter Keys\n",
    "<span style=\"color:red\">\n",
    "If someone has your authentication keys, they can access your Twitter account and post as you!  So don't give them to anyone, and **don't write them down in this notebook**. \n",
    "</span>\n",
    "The usual way to store sensitive information like this is to put it in a separate file and read it programmatically.  That way, you can share the rest of your code without sharing your keys.  That's why we're asking you to put your keys in `keys.json` for this assignment.\n",
    "\n",
    "\n",
    "### Avoid making too many API calls.\n",
    "\n",
    "<span style=\"color:red\">\n",
    "Twitter limits developers to a certain rate of requests for data.  If you make too many requests in a short period of time, you'll have to wait awhile (around 15 minutes) before you can make more.  </span> \n",
    "So carefully follow the code examples you see and don't rerun cells without thinking.  Instead, always save the data you've collected to a file.  We've provided templates to help you do that.\n",
    "\n",
    "\n",
    "### Be careful about which functions you call!\n",
    "\n",
    "<span style=\"color:red\">\n",
    "This API can retweet tweets, follow and unfollow people, and modify your twitter settings.  Be careful which functions you invoke! </span> It is possible that you can accidentally re-tweet some tweets because you typed `retweet` instead of `retweet_count`. \n",
    "</span>\n"
   ]
  },
  {
   "cell_type": "code",
   "execution_count": 3,
   "metadata": {
    "colab": {
     "base_uri": "https://localhost:8080/",
     "height": 232
    },
    "id": "s3GABOPEapP0",
    "outputId": "22edcb96-5f48-4682-8d8c-ed669bca9294"
   },
   "outputs": [],
   "source": [
    "import json\n",
    "key_file = 'keys.json'\n",
    "# Loading your keys from keys.json (which you should have filled\n",
    "# in in question 1):\n",
    "with open(key_file) as f:\n",
    "    keys = json.load(f)\n",
    "# if you print or view the contents of keys be sure to delete the cell!"
   ]
  },
  {
   "cell_type": "markdown",
   "metadata": {
    "id": "woTVwrZWapP1"
   },
   "source": [
    "### Task 1.2 Testing Twitter Authentication\n",
    "This following code should run w/o erros or warnings and display Rutgers University's twitter username"
   ]
  },
  {
   "cell_type": "code",
   "execution_count": 4,
   "metadata": {
    "id": "jeF48lesapP1",
    "outputId": "7d96ba32-cb41-4356-b10d-b0f57480bb96"
   },
   "outputs": [
    {
     "name": "stdout",
     "output_type": "stream",
     "text": [
      "Rutgers username is: Rutgers University\n"
     ]
    }
   ],
   "source": [
    "import tweepy\n",
    "from tweepy import TweepyException\n",
    "import logging\n",
    "\n",
    "try:\n",
    "    auth = tweepy.OAuthHandler(keys[\"consumer_key\"], keys[\"consumer_secret\"])\n",
    "    redirect_url = auth.get_authorization_url()\n",
    "    auth.set_access_token(keys[\"access_token\"], keys[\"access_token_secret\"])\n",
    "    api = tweepy.API(auth)\n",
    "    print(\"Rutgers username is:\", api.get_user(screen_name=\"RutgersU\").name)\n",
    "except TweepyException as e:\n",
    "    logging.warning(\"There was a Tweepy error. Double check your API keys and try again.\")\n",
    "    logging.warning(e)"
   ]
  },
  {
   "cell_type": "markdown",
   "metadata": {
    "id": "usVPef0dapP2"
   },
   "source": [
    "## PART 2 - Working with Twitter\n",
    "The json file in data folder contains (to be downloaded by you) some loaded tweets from @RutgersU. Run it and read the code. You can also try other json files in the data folder to try this. "
   ]
  },
  {
   "cell_type": "code",
   "execution_count": 5,
   "metadata": {
    "id": "LtJWj1sVapP2"
   },
   "outputs": [],
   "source": [
    "from pathlib import Path\n",
    "import json\n",
    "\n",
    "ds_tweets_save_path = \"data/RutgersU_recent_tweets.json\"   # need to get this file\n",
    "\n",
    "# Guarding against attempts to download the data multiple\n",
    "# times:\n",
    "if not Path(ds_tweets_save_path).is_file():\n",
    "    # Getting as many recent tweets by @RutgersU as Twitter will let us have.\n",
    "    # We use tweet_mode='extended' so that Twitter gives us full 280 character tweets.\n",
    "    # This was a change introduced in September 2017.\n",
    "    \n",
    "    # The tweepy Cursor API actually returns \"sophisticated\" Status objects but we \n",
    "    # will use the basic Python dictionaries stored in the _json field. \n",
    "    example_tweets = [t._json for t in tweepy.Cursor(api.user_timeline, screen_name=\"RutgersU\", \n",
    "                                             tweet_mode='extended').items()]\n",
    "    \n",
    "    # Saving the tweets to a json file on disk for future analysis\n",
    "    with open(ds_tweets_save_path, \"w\") as f:        \n",
    "        json.dump(example_tweets, f)\n",
    "\n",
    "# Re-loading the json file:\n",
    "with open(ds_tweets_save_path, \"r\") as f:\n",
    "    example_tweets = json.load(f)"
   ]
  },
  {
   "cell_type": "markdown",
   "metadata": {
    "id": "hPx2hgTcapP3"
   },
   "source": [
    "If things ran as expected, you should be able to look at the first tweet by running the code below. It probabably does not make sense to view all tweets in a notebook, as size of the tweets can freeze your browser (always a good idea to press ctrl-S to save the latest, in case you have to restart Jupyter)"
   ]
  },
  {
   "cell_type": "code",
   "execution_count": 6,
   "metadata": {
    "id": "V6YxFwAKapP3",
    "outputId": "9c8bb2ee-4f49-4f05-cc2b-546fd168dd25",
    "scrolled": true
   },
   "outputs": [
    {
     "name": "stdout",
     "output_type": "stream",
     "text": [
      "{'contributors': None,\n",
      " 'coordinates': None,\n",
      " 'created_at': 'Sat Nov 02 23:02:49 +0000 2019',\n",
      " 'display_text_range': [0, 140],\n",
      " 'entities': {'hashtags': [{'indices': [22, 31], 'text': 'internet'}],\n",
      "              'symbols': [],\n",
      "              'urls': [],\n",
      "              'user_mentions': [{'id': 955836661702774784,\n",
      "                                 'id_str': '955836661702774784',\n",
      "                                 'indices': [3, 13],\n",
      "                                 'name': 'Rutgers University–New Brunswick',\n",
      "                                 'screen_name': 'RutgersNB'},\n",
      "                                {'id': 52517689,\n",
      "                                 'id_str': '52517689',\n",
      "                                 'indices': [42, 58],\n",
      "                                 'name': 'Rutgers School of Communication and '\n",
      "                                         'Information',\n",
      "                                 'screen_name': 'RutgersCommInfo'},\n",
      "                                {'id': 392737670,\n",
      "                                 'id_str': '392737670',\n",
      "                                 'indices': [61, 72],\n",
      "                                 'name': 'Mary Chayko',\n",
      "                                 'screen_name': 'MaryChayko'}]},\n",
      " 'favorite_count': 0,\n",
      " 'favorited': False,\n",
      " 'full_text': \"RT @RutgersNB: As the #internet turns 50, @RutgersCommInfo's \"\n",
      "              '@MaryChayko focuses on how we have used the innovation and what '\n",
      "              'it has meant f…',\n",
      " 'geo': None,\n",
      " 'id': 1190766238110236673,\n",
      " 'id_str': '1190766238110236673',\n",
      " 'in_reply_to_screen_name': None,\n",
      " 'in_reply_to_status_id': None,\n",
      " 'in_reply_to_status_id_str': None,\n",
      " 'in_reply_to_user_id': None,\n",
      " 'in_reply_to_user_id_str': None,\n",
      " 'is_quote_status': False,\n",
      " 'lang': 'en',\n",
      " 'place': None,\n",
      " 'retweet_count': 3,\n",
      " 'retweeted': False,\n",
      " 'retweeted_status': {'contributors': None,\n",
      "                      'coordinates': None,\n",
      "                      'created_at': 'Sat Nov 02 18:26:39 +0000 2019',\n",
      "                      'display_text_range': [0, 191],\n",
      "                      'entities': {'hashtags': [{'indices': [7, 16],\n",
      "                                                 'text': 'internet'}],\n",
      "                                   'symbols': [],\n",
      "                                   'urls': [{'display_url': 'nbcnews.com/think/opinion/…',\n",
      "                                             'expanded_url': 'https://www.nbcnews.com/think/opinion/what-50-years-spent-internet-worth-humanity-ncna1073656',\n",
      "                                             'indices': [168, 191],\n",
      "                                             'url': 'https://t.co/dmxjKYGmvU'}],\n",
      "                                   'user_mentions': [{'id': 52517689,\n",
      "                                                      'id_str': '52517689',\n",
      "                                                      'indices': [27, 43],\n",
      "                                                      'name': 'Rutgers School '\n",
      "                                                              'of '\n",
      "                                                              'Communication '\n",
      "                                                              'and Information',\n",
      "                                                      'screen_name': 'RutgersCommInfo'},\n",
      "                                                     {'id': 392737670,\n",
      "                                                      'id_str': '392737670',\n",
      "                                                      'indices': [46, 57],\n",
      "                                                      'name': 'Mary Chayko',\n",
      "                                                      'screen_name': 'MaryChayko'}]},\n",
      "                      'favorite_count': 6,\n",
      "                      'favorited': False,\n",
      "                      'full_text': 'As the #internet turns 50, '\n",
      "                                   \"@RutgersCommInfo's @MaryChayko focuses on \"\n",
      "                                   'how we have used the innovation and what '\n",
      "                                   'it has meant for the way we communicate '\n",
      "                                   'with each other.\\n'\n",
      "                                   '\\n'\n",
      "                                   'https://t.co/dmxjKYGmvU',\n",
      "                      'geo': None,\n",
      "                      'id': 1190696737868001280,\n",
      "                      'id_str': '1190696737868001280',\n",
      "                      'in_reply_to_screen_name': None,\n",
      "                      'in_reply_to_status_id': None,\n",
      "                      'in_reply_to_status_id_str': None,\n",
      "                      'in_reply_to_user_id': None,\n",
      "                      'in_reply_to_user_id_str': None,\n",
      "                      'is_quote_status': False,\n",
      "                      'lang': 'en',\n",
      "                      'place': None,\n",
      "                      'possibly_sensitive': False,\n",
      "                      'retweet_count': 3,\n",
      "                      'retweeted': False,\n",
      "                      'source': '<a href=\"https://sproutsocial.com\" '\n",
      "                                'rel=\"nofollow\">Sprout Social</a>',\n",
      "                      'truncated': False,\n",
      "                      'user': {'can_media_tag': True,\n",
      "                               'contributors_enabled': False,\n",
      "                               'created_at': 'Tue Jan 23 16:16:33 +0000 2018',\n",
      "                               'default_profile': False,\n",
      "                               'default_profile_image': False,\n",
      "                               'description': 'The official Twitter account of '\n",
      "                                              'Rutgers University–New '\n",
      "                                              'Brunswick, the flagship home of '\n",
      "                                              'Rutgers, The State University '\n",
      "                                              'of New Jersey.',\n",
      "                               'entities': {'description': {'urls': []},\n",
      "                                            'url': {'urls': [{'display_url': 'newbrunswick.rutgers.edu',\n",
      "                                                              'expanded_url': 'https://newbrunswick.rutgers.edu/',\n",
      "                                                              'indices': [0,\n",
      "                                                                          23],\n",
      "                                                              'url': 'https://t.co/Pll3p27ECO'}]}},\n",
      "                               'favourites_count': 1274,\n",
      "                               'follow_request_sent': False,\n",
      "                               'followed_by': False,\n",
      "                               'followers_count': 2094,\n",
      "                               'following': False,\n",
      "                               'friends_count': 178,\n",
      "                               'geo_enabled': True,\n",
      "                               'has_extended_profile': False,\n",
      "                               'id': 955836661702774784,\n",
      "                               'id_str': '955836661702774784',\n",
      "                               'is_translation_enabled': False,\n",
      "                               'is_translator': False,\n",
      "                               'lang': None,\n",
      "                               'listed_count': 18,\n",
      "                               'location': 'New Brunswick, NJ',\n",
      "                               'name': 'Rutgers University–New Brunswick',\n",
      "                               'notifications': False,\n",
      "                               'profile_background_color': '000000',\n",
      "                               'profile_background_image_url': 'http://abs.twimg.com/images/themes/theme1/bg.png',\n",
      "                               'profile_background_image_url_https': 'https://abs.twimg.com/images/themes/theme1/bg.png',\n",
      "                               'profile_background_tile': False,\n",
      "                               'profile_banner_url': 'https://pbs.twimg.com/profile_banners/955836661702774784/1564589696',\n",
      "                               'profile_image_url': 'http://pbs.twimg.com/profile_images/1111272066609827848/9zSX0WEt_normal.png',\n",
      "                               'profile_image_url_https': 'https://pbs.twimg.com/profile_images/1111272066609827848/9zSX0WEt_normal.png',\n",
      "                               'profile_link_color': 'E81C4F',\n",
      "                               'profile_sidebar_border_color': '000000',\n",
      "                               'profile_sidebar_fill_color': '000000',\n",
      "                               'profile_text_color': '000000',\n",
      "                               'profile_use_background_image': False,\n",
      "                               'protected': False,\n",
      "                               'screen_name': 'RutgersNB',\n",
      "                               'statuses_count': 1679,\n",
      "                               'time_zone': None,\n",
      "                               'translator_type': 'none',\n",
      "                               'url': 'https://t.co/Pll3p27ECO',\n",
      "                               'utc_offset': None,\n",
      "                               'verified': False}},\n",
      " 'source': '<a href=\"http://twitter.com/download/iphone\" '\n",
      "           'rel=\"nofollow\">Twitter for iPhone</a>',\n",
      " 'truncated': False,\n",
      " 'user': {'can_media_tag': True,\n",
      "          'contributors_enabled': False,\n",
      "          'created_at': 'Wed Jan 21 02:57:47 +0000 2009',\n",
      "          'default_profile': False,\n",
      "          'default_profile_image': False,\n",
      "          'description': 'Rutgers, The State University of New Jersey, is a '\n",
      "                         'leading public research university. Follow us for '\n",
      "                         'all things Rutgers.',\n",
      "          'entities': {'description': {'urls': []},\n",
      "                       'url': {'urls': [{'display_url': 'rutgers.edu',\n",
      "                                         'expanded_url': 'http://www.rutgers.edu',\n",
      "                                         'indices': [0, 22],\n",
      "                                         'url': 'http://t.co/stAPJIzh8b'}]}},\n",
      "          'favourites_count': 4590,\n",
      "          'follow_request_sent': False,\n",
      "          'followed_by': False,\n",
      "          'followers_count': 132798,\n",
      "          'following': False,\n",
      "          'friends_count': 595,\n",
      "          'geo_enabled': True,\n",
      "          'has_extended_profile': False,\n",
      "          'id': 19272796,\n",
      "          'id_str': '19272796',\n",
      "          'is_translation_enabled': False,\n",
      "          'is_translator': False,\n",
      "          'lang': None,\n",
      "          'listed_count': 838,\n",
      "          'location': 'New Jersey',\n",
      "          'name': 'Rutgers University',\n",
      "          'notifications': False,\n",
      "          'profile_background_color': 'C7141C',\n",
      "          'profile_background_image_url': 'http://abs.twimg.com/images/themes/theme15/bg.png',\n",
      "          'profile_background_image_url_https': 'https://abs.twimg.com/images/themes/theme15/bg.png',\n",
      "          'profile_background_tile': False,\n",
      "          'profile_banner_url': 'https://pbs.twimg.com/profile_banners/19272796/1494779773',\n",
      "          'profile_image_url': 'http://pbs.twimg.com/profile_images/809450270375772160/rWmyBIig_normal.jpg',\n",
      "          'profile_image_url_https': 'https://pbs.twimg.com/profile_images/809450270375772160/rWmyBIig_normal.jpg',\n",
      "          'profile_link_color': '0084B4',\n",
      "          'profile_sidebar_border_color': '000205',\n",
      "          'profile_sidebar_fill_color': 'C0DFEC',\n",
      "          'profile_text_color': '333333',\n",
      "          'profile_use_background_image': False,\n",
      "          'protected': False,\n",
      "          'screen_name': 'RutgersU',\n",
      "          'statuses_count': 16165,\n",
      "          'time_zone': None,\n",
      "          'translator_type': 'none',\n",
      "          'url': 'http://t.co/stAPJIzh8b',\n",
      "          'utc_offset': None,\n",
      "          'verified': True}}\n"
     ]
    }
   ],
   "source": [
    "# Looking at one tweet object, which has type Status: \n",
    "from pprint import pprint # ...to get a more easily-readable view.\n",
    "pprint(example_tweets[0])"
   ]
  },
  {
   "cell_type": "markdown",
   "metadata": {
    "id": "YL8O3oWrapP3"
   },
   "source": [
    "### Task 2.1 (Optional for Individuals)\n",
    "\n",
    "### What you need to do. \n",
    "\n",
    "Re-factor the above code fragment into reusable snippets below.  You should not need to make major modifications; this is mostly an exercise in understanding the above code block. "
   ]
  },
  {
   "cell_type": "code",
   "execution_count": 7,
   "metadata": {
    "id": "Vac0VdRmapP4",
    "scrolled": false
   },
   "outputs": [],
   "source": [
    "def load_keys(path):\n",
    "    \"\"\"Loads your Twitter authentication keys from a file on disk.\n",
    "    \n",
    "    Args:\n",
    "        path (str): The path to your key file.  The file should\n",
    "          be in JSON format and look like this (but filled in):\n",
    "            {\n",
    "                \"consumer_key\": \"<your Consumer Key here>\",\n",
    "                \"consumer_secret\":  \"<your Consumer Secret here>\",\n",
    "                \"access_token\": \"<your Access Token here>\",\n",
    "                \"access_token_secret\": \"<your Access Token Secret here>\"\n",
    "            }\n",
    "    \n",
    "    Returns:\n",
    "        dict: A dictionary mapping key names (like \"consumer_key\") to\n",
    "          key values.\"\"\"\n",
    "    \n",
    "    ### BEGIN SOLUTION\n",
    "    with open(path, \"r\") as f:\n",
    "        return json.load(f)\n",
    "    ### END SOLUTION"
   ]
  },
  {
   "cell_type": "code",
   "execution_count": 8,
   "metadata": {
    "id": "Ei4KEzlnapP4"
   },
   "outputs": [],
   "source": [
    "def download_recent_tweets_by_user(user_account_name, keys):\n",
    "    \"\"\"Downloads tweets by one Twitter user.\n",
    "\n",
    "    Args:\n",
    "        user_account_name (str): The name of the Twitter account\n",
    "          whose tweets will be downloaded.\n",
    "        keys (dict): A Python dictionary with Twitter authentication\n",
    "          keys (strings), like this (but filled in):\n",
    "            {\n",
    "                \"consumer_key\": \"<your Consumer Key here>\",\n",
    "                \"consumer_secret\":  \"<your Consumer Secret here>\",\n",
    "                \"access_token\": \"<your Access Token here>\",\n",
    "                \"access_token_secret\": \"<your Access Token Secret here>\"\n",
    "            }\n",
    "\n",
    "    Returns:\n",
    "        list: A list of Dictonary objects, each representing one tweet.\"\"\"\n",
    "    import tweepy\n",
    "    \n",
    "    ### BEGIN SOLUTION\n",
    "    try:\n",
    "        auth = tweepy.OAuthHandler(keys[\"consumer_key\"], keys[\"consumer_secret\"])\n",
    "        redirect_url = auth.get_authorization_url()\n",
    "        auth.set_access_token(keys[\"access_token\"], keys[\"access_token_secret\"])\n",
    "        api = tweepy.API(auth)\n",
    "    except TweepyException as e:\n",
    "        #logging.warning(\"There was a Tweepy error. Double check your API keys and try again.\")\n",
    "        logging.warning(e)\n",
    "    return [t._json for t in tweepy.Cursor(api.user_timeline, screen_name=user_account_name, tweet_mode='extended').items()]\n",
    "    ### END SOLUTION"
   ]
  },
  {
   "cell_type": "code",
   "execution_count": 9,
   "metadata": {
    "id": "xCjxPXNzapP4"
   },
   "outputs": [],
   "source": [
    "def load_tweets(path):\n",
    "    \"\"\"Loads tweets that have previously been saved.\n",
    "    \n",
    "    Calling load_tweets(path) after save_tweets(tweets, path)\n",
    "    will produce the same list of tweets.\n",
    "    \n",
    "    Args:\n",
    "        path (str): The place where the tweets were be saved.\n",
    "\n",
    "    Returns:\n",
    "        list: A list of Dictionary objects, each representing one tweet.\"\"\"\n",
    "    \n",
    "    ### BEGIN SOLUTION\n",
    "    with open(path, \"r\") as f:\n",
    "        return json.load(f)\n",
    "    ### END SOLUTION"
   ]
  },
  {
   "cell_type": "code",
   "execution_count": 10,
   "metadata": {
    "id": "p6ckUKvJapP5"
   },
   "outputs": [],
   "source": [
    "def get_tweets_with_cache(user_account_name, keys_path):\n",
    "    \"\"\"Get recent tweets from one user, loading from a disk cache if available.\n",
    "    \n",
    "    The first time you call this function, it will download tweets by\n",
    "    a user.  Subsequent calls will not re-download the tweets; instead\n",
    "    they'll load the tweets from a save file in your local filesystem.\n",
    "    All this is done using the functions you defined in the previous cell.\n",
    "    This has benefits and drawbacks that often appear when you cache data:\n",
    "    \n",
    "    +: Using this function will prevent extraneous usage of the Twitter API.\n",
    "    +: You will get your data much faster after the first time it's called.\n",
    "    -: If you really want to re-download the tweets (say, to get newer ones,\n",
    "       or because you screwed up something in the previous cell and your\n",
    "       tweets aren't what you wanted), you'll have to find the save file\n",
    "       (which will look like <something>_recent_tweets.pkl) and delete it.\n",
    "    \n",
    "    Args:\n",
    "        user_account_name (str): The Twitter handle of a user, without the @.\n",
    "        keys_path (str): The path to a JSON keys file in your filesystem.\n",
    "    \"\"\"\n",
    "    \n",
    "    ### BEGIN SOLUTION\n",
    "    tweets_path = \"data/{}_recent_tweets.pkl\".format(user_account_name)\n",
    "    if not Path(tweets_path).is_file():\n",
    "        keys = load_keys(keys_path)\n",
    "        result = download_recent_tweets_by_user(user_account_name, keys)\n",
    "        #Save tweets\n",
    "        with open(tweets_path, \"w\") as f:        \n",
    "            json.dump(result, f)\n",
    "    else:\n",
    "        result = load_tweets(tweets_path)\n",
    "    return result\n",
    "    ### END SOLUTION"
   ]
  },
  {
   "cell_type": "markdown",
   "metadata": {
    "id": "-MZGu9P-apP5"
   },
   "source": [
    "If everything was implemented correctly you should be able to obtain roughly the last 3000 tweets by @RutgersU. (This may take a few minutes)"
   ]
  },
  {
   "cell_type": "code",
   "execution_count": 11,
   "metadata": {
    "id": "kdqvDP24apP5"
   },
   "outputs": [
    {
     "name": "stdout",
     "output_type": "stream",
     "text": [
      "Number of tweets downloaded: 3215\n"
     ]
    }
   ],
   "source": [
    "# When you are done, run this cell to load @RutgersU 's tweets.\n",
    "# Note the function get_tweets_with_cache.  You may find it useful\n",
    "# later.\n",
    "rutgers_tweets = get_tweets_with_cache(\"RutgersU\", key_file)\n",
    "print(\"Number of tweets downloaded:\", len(rutgers_tweets))"
   ]
  },
  {
   "cell_type": "markdown",
   "metadata": {
    "id": "6vhrwHw5apP5"
   },
   "source": [
    "### Task 2.2\n",
    "To be consistent we are going to use the same dataset no matter what you get from your twitter api. So from this point on, if you are working as a group or individually, be sure to use the data sets provided to you in the zip file. There should be two json files inside your data folder. One is '2017-2018.json', the other one is '2016-2017.json'. We will load the '2017-2018.json' first."
   ]
  },
  {
   "cell_type": "code",
   "execution_count": 12,
   "metadata": {
    "id": "xW1xN_3XapP6"
   },
   "outputs": [],
   "source": [
    "dest_path = \"data/2017-2018.json\"# Enter path of '2017-2018.json' here\n",
    "trump_tweets = load_tweets(dest_path)"
   ]
  },
  {
   "cell_type": "markdown",
   "metadata": {
    "id": "_i_aHCjSapP6"
   },
   "source": [
    "If everything is working correctly correctly this should load roughly the last 3000 tweets by `realdonaldtrump`."
   ]
  },
  {
   "cell_type": "code",
   "execution_count": 13,
   "metadata": {
    "id": "xr55obB8apP6"
   },
   "outputs": [],
   "source": [
    "assert 2000 <= len(trump_tweets) <= 4000"
   ]
  },
  {
   "cell_type": "markdown",
   "metadata": {
    "id": "WjYXBPCpapP6"
   },
   "source": [
    "If the assert statement above works, then continue on to task 2.3.\n",
    "\n",
    "### Task 2.3\n",
    "\n",
    "Find the number of the month of the oldest tweet."
   ]
  },
  {
   "cell_type": "code",
   "execution_count": 14,
   "metadata": {
    "id": "lYPMcwPdapP6"
   },
   "outputs": [
    {
     "data": {
      "text/html": [
       "<div>\n",
       "<style scoped>\n",
       "    .dataframe tbody tr th:only-of-type {\n",
       "        vertical-align: middle;\n",
       "    }\n",
       "\n",
       "    .dataframe tbody tr th {\n",
       "        vertical-align: top;\n",
       "    }\n",
       "\n",
       "    .dataframe thead th {\n",
       "        text-align: right;\n",
       "    }\n",
       "</style>\n",
       "<table border=\"1\" class=\"dataframe\">\n",
       "  <thead>\n",
       "    <tr style=\"text-align: right;\">\n",
       "      <th></th>\n",
       "      <th>created_at</th>\n",
       "      <th>id</th>\n",
       "      <th>id_str</th>\n",
       "      <th>full_text</th>\n",
       "      <th>truncated</th>\n",
       "      <th>display_text_range</th>\n",
       "      <th>entities</th>\n",
       "      <th>source</th>\n",
       "      <th>in_reply_to_status_id</th>\n",
       "      <th>in_reply_to_status_id_str</th>\n",
       "      <th>...</th>\n",
       "      <th>quoted_status_permalink</th>\n",
       "      <th>quoted_status</th>\n",
       "      <th>retweet_count</th>\n",
       "      <th>favorite_count</th>\n",
       "      <th>favorited</th>\n",
       "      <th>retweeted</th>\n",
       "      <th>possibly_sensitive</th>\n",
       "      <th>lang</th>\n",
       "      <th>extended_entities</th>\n",
       "      <th>retweeted_status</th>\n",
       "    </tr>\n",
       "  </thead>\n",
       "  <tbody>\n",
       "    <tr>\n",
       "      <th>3209</th>\n",
       "      <td>Fri Oct 20 02:53:42 +0000 2017</td>\n",
       "      <td>921207772233990144</td>\n",
       "      <td>921207772233990144</td>\n",
       "      <td>The Fake News is going crazy with wacky Congresswoman Wilson(D), who was SECRETLY on a very personal call, and gave a total lie on content!</td>\n",
       "      <td>False</td>\n",
       "      <td>[0, 139]</td>\n",
       "      <td>{'hashtags': [], 'symbols': [], 'user_mentions': [], 'urls': []}</td>\n",
       "      <td>&lt;a href=\"http://twitter.com/download/iphone\" rel=\"nofollow\"&gt;Twitter for iPhone&lt;/a&gt;</td>\n",
       "      <td>NaN</td>\n",
       "      <td>None</td>\n",
       "      <td>...</td>\n",
       "      <td>NaN</td>\n",
       "      <td>NaN</td>\n",
       "      <td>19277</td>\n",
       "      <td>85920</td>\n",
       "      <td>False</td>\n",
       "      <td>False</td>\n",
       "      <td>NaN</td>\n",
       "      <td>en</td>\n",
       "      <td>NaN</td>\n",
       "      <td>NaN</td>\n",
       "    </tr>\n",
       "    <tr>\n",
       "      <th>3210</th>\n",
       "      <td>Fri Oct 20 01:43:00 +0000 2017</td>\n",
       "      <td>921189980843663360</td>\n",
       "      <td>921189980843663360</td>\n",
       "      <td>Keep up the GREAT work. I am with you 100%!\\n\\n\"ISIS is losing its grip...\"\\nArmy Colonel Ryan Dillon\\nCJTF–OIR\\nhttps://t.co/jVGuvv5mzm https://t.co/PSCXg38CtS</td>\n",
       "      <td>False</td>\n",
       "      <td>[0, 131]</td>\n",
       "      <td>{'hashtags': [], 'symbols': [], 'user_mentions': [], 'urls': [{'url': 'https://t.co/jVGuvv5mzm', 'expanded_url': 'http://45.wh.gov/OIR', 'display_url': '45.wh.gov/OIR', 'indices': [108, 131]}], 'media': [{'id': 921178032366288897, 'id_str': '921178032366288897', 'indices': [1...</td>\n",
       "      <td>&lt;a href=\"https://studio.twitter.com\" rel=\"nofollow\"&gt;Media Studio&lt;/a&gt;</td>\n",
       "      <td>NaN</td>\n",
       "      <td>None</td>\n",
       "      <td>...</td>\n",
       "      <td>NaN</td>\n",
       "      <td>NaN</td>\n",
       "      <td>11882</td>\n",
       "      <td>52196</td>\n",
       "      <td>False</td>\n",
       "      <td>False</td>\n",
       "      <td>False</td>\n",
       "      <td>en</td>\n",
       "      <td>{'media': [{'id': 921178032366288897, 'id_str': '921178032366288897', 'indices': [132, 155], 'media_url': 'http://pbs.twimg.com/media/DMizJLXW0AE6O2l.jpg', 'media_url_https': 'https://pbs.twimg.com/media/DMizJLXW0AE6O2l.jpg', 'url': 'https://t.co/PSCXg38CtS', 'display_url': '...</td>\n",
       "      <td>NaN</td>\n",
       "    </tr>\n",
       "    <tr>\n",
       "      <th>3211</th>\n",
       "      <td>Thu Oct 19 20:40:21 +0000 2017</td>\n",
       "      <td>921113816053755904</td>\n",
       "      <td>921113816053755904</td>\n",
       "      <td>It was great to have Governor @RicardoRossello of #PuertoRico🇵🇷with us at the @WhiteHouse today. We are with you! #PRStrong https://t.co/Op2xDZxvNc</td>\n",
       "      <td>False</td>\n",
       "      <td>[0, 123]</td>\n",
       "      <td>{'hashtags': [{'text': 'PuertoRico', 'indices': [50, 61]}, {'text': 'PRStrong', 'indices': [114, 123]}], 'symbols': [], 'user_mentions': [{'screen_name': 'ricardorossello', 'name': 'Ricardo Rossello', 'id': 80013913, 'id_str': '80013913', 'indices': [30, 46]}, {'screen_name':...</td>\n",
       "      <td>&lt;a href=\"http://twitter.com/download/iphone\" rel=\"nofollow\"&gt;Twitter for iPhone&lt;/a&gt;</td>\n",
       "      <td>NaN</td>\n",
       "      <td>None</td>\n",
       "      <td>...</td>\n",
       "      <td>NaN</td>\n",
       "      <td>NaN</td>\n",
       "      <td>10158</td>\n",
       "      <td>47493</td>\n",
       "      <td>False</td>\n",
       "      <td>False</td>\n",
       "      <td>False</td>\n",
       "      <td>en</td>\n",
       "      <td>{'media': [{'id': 921113597752807431, 'id_str': '921113597752807431', 'indices': [124, 147], 'media_url': 'http://pbs.twimg.com/ext_tw_video_thumb/921113597752807431/pu/img/QO4Yk0jtqndc4snd.jpg', 'media_url_https': 'https://pbs.twimg.com/ext_tw_video_thumb/921113597752807431/...</td>\n",
       "      <td>NaN</td>\n",
       "    </tr>\n",
       "    <tr>\n",
       "      <th>3212</th>\n",
       "      <td>Thu Oct 19 12:21:18 +0000 2017</td>\n",
       "      <td>920988223362469891</td>\n",
       "      <td>920988223362469891</td>\n",
       "      <td>.@foxandfriends \"Russia sent millions to Clinton Foundation\"</td>\n",
       "      <td>False</td>\n",
       "      <td>[0, 60]</td>\n",
       "      <td>{'hashtags': [], 'symbols': [], 'user_mentions': [{'screen_name': 'foxandfriends', 'name': 'FOX &amp; friends', 'id': 15513604, 'id_str': '15513604', 'indices': [1, 15]}], 'urls': []}</td>\n",
       "      <td>&lt;a href=\"http://twitter.com/download/iphone\" rel=\"nofollow\"&gt;Twitter for iPhone&lt;/a&gt;</td>\n",
       "      <td>NaN</td>\n",
       "      <td>None</td>\n",
       "      <td>...</td>\n",
       "      <td>NaN</td>\n",
       "      <td>NaN</td>\n",
       "      <td>23219</td>\n",
       "      <td>69861</td>\n",
       "      <td>False</td>\n",
       "      <td>False</td>\n",
       "      <td>NaN</td>\n",
       "      <td>en</td>\n",
       "      <td>NaN</td>\n",
       "      <td>NaN</td>\n",
       "    </tr>\n",
       "    <tr>\n",
       "      <th>3213</th>\n",
       "      <td>Thu Oct 19 11:56:15 +0000 2017</td>\n",
       "      <td>920981920787386368</td>\n",
       "      <td>920981920787386368</td>\n",
       "      <td>Workers of firm involved with the discredited and Fake Dossier take the 5th. Who paid for it, Russia, the FBI or the Dems (or all)?</td>\n",
       "      <td>False</td>\n",
       "      <td>[0, 131]</td>\n",
       "      <td>{'hashtags': [], 'symbols': [], 'user_mentions': [], 'urls': []}</td>\n",
       "      <td>&lt;a href=\"http://twitter.com/download/iphone\" rel=\"nofollow\"&gt;Twitter for iPhone&lt;/a&gt;</td>\n",
       "      <td>NaN</td>\n",
       "      <td>None</td>\n",
       "      <td>...</td>\n",
       "      <td>NaN</td>\n",
       "      <td>NaN</td>\n",
       "      <td>24788</td>\n",
       "      <td>83417</td>\n",
       "      <td>False</td>\n",
       "      <td>False</td>\n",
       "      <td>NaN</td>\n",
       "      <td>en</td>\n",
       "      <td>NaN</td>\n",
       "      <td>NaN</td>\n",
       "    </tr>\n",
       "  </tbody>\n",
       "</table>\n",
       "<p>5 rows × 31 columns</p>\n",
       "</div>"
      ],
      "text/plain": [
       "                          created_at                  id              id_str  \\\n",
       "3209  Fri Oct 20 02:53:42 +0000 2017  921207772233990144  921207772233990144   \n",
       "3210  Fri Oct 20 01:43:00 +0000 2017  921189980843663360  921189980843663360   \n",
       "3211  Thu Oct 19 20:40:21 +0000 2017  921113816053755904  921113816053755904   \n",
       "3212  Thu Oct 19 12:21:18 +0000 2017  920988223362469891  920988223362469891   \n",
       "3213  Thu Oct 19 11:56:15 +0000 2017  920981920787386368  920981920787386368   \n",
       "\n",
       "                                                                                                                                                             full_text  \\\n",
       "3209                       The Fake News is going crazy with wacky Congresswoman Wilson(D), who was SECRETLY on a very personal call, and gave a total lie on content!   \n",
       "3210  Keep up the GREAT work. I am with you 100%!\\n\\n\"ISIS is losing its grip...\"\\nArmy Colonel Ryan Dillon\\nCJTF–OIR\\nhttps://t.co/jVGuvv5mzm https://t.co/PSCXg38CtS   \n",
       "3211               It was great to have Governor @RicardoRossello of #PuertoRico🇵🇷with us at the @WhiteHouse today. We are with you! #PRStrong https://t.co/Op2xDZxvNc   \n",
       "3212                                                                                                      .@foxandfriends \"Russia sent millions to Clinton Foundation\"   \n",
       "3213                               Workers of firm involved with the discredited and Fake Dossier take the 5th. Who paid for it, Russia, the FBI or the Dems (or all)?   \n",
       "\n",
       "      truncated display_text_range  \\\n",
       "3209      False           [0, 139]   \n",
       "3210      False           [0, 131]   \n",
       "3211      False           [0, 123]   \n",
       "3212      False            [0, 60]   \n",
       "3213      False           [0, 131]   \n",
       "\n",
       "                                                                                                                                                                                                                                                                                     entities  \\\n",
       "3209                                                                                                                                                                                                                         {'hashtags': [], 'symbols': [], 'user_mentions': [], 'urls': []}   \n",
       "3210  {'hashtags': [], 'symbols': [], 'user_mentions': [], 'urls': [{'url': 'https://t.co/jVGuvv5mzm', 'expanded_url': 'http://45.wh.gov/OIR', 'display_url': '45.wh.gov/OIR', 'indices': [108, 131]}], 'media': [{'id': 921178032366288897, 'id_str': '921178032366288897', 'indices': [1...   \n",
       "3211  {'hashtags': [{'text': 'PuertoRico', 'indices': [50, 61]}, {'text': 'PRStrong', 'indices': [114, 123]}], 'symbols': [], 'user_mentions': [{'screen_name': 'ricardorossello', 'name': 'Ricardo Rossello', 'id': 80013913, 'id_str': '80013913', 'indices': [30, 46]}, {'screen_name':...   \n",
       "3212                                                                                                      {'hashtags': [], 'symbols': [], 'user_mentions': [{'screen_name': 'foxandfriends', 'name': 'FOX & friends', 'id': 15513604, 'id_str': '15513604', 'indices': [1, 15]}], 'urls': []}   \n",
       "3213                                                                                                                                                                                                                         {'hashtags': [], 'symbols': [], 'user_mentions': [], 'urls': []}   \n",
       "\n",
       "                                                                                  source  \\\n",
       "3209  <a href=\"http://twitter.com/download/iphone\" rel=\"nofollow\">Twitter for iPhone</a>   \n",
       "3210                <a href=\"https://studio.twitter.com\" rel=\"nofollow\">Media Studio</a>   \n",
       "3211  <a href=\"http://twitter.com/download/iphone\" rel=\"nofollow\">Twitter for iPhone</a>   \n",
       "3212  <a href=\"http://twitter.com/download/iphone\" rel=\"nofollow\">Twitter for iPhone</a>   \n",
       "3213  <a href=\"http://twitter.com/download/iphone\" rel=\"nofollow\">Twitter for iPhone</a>   \n",
       "\n",
       "      in_reply_to_status_id in_reply_to_status_id_str  ...  \\\n",
       "3209                    NaN                      None  ...   \n",
       "3210                    NaN                      None  ...   \n",
       "3211                    NaN                      None  ...   \n",
       "3212                    NaN                      None  ...   \n",
       "3213                    NaN                      None  ...   \n",
       "\n",
       "      quoted_status_permalink quoted_status retweet_count favorite_count  \\\n",
       "3209                      NaN           NaN         19277          85920   \n",
       "3210                      NaN           NaN         11882          52196   \n",
       "3211                      NaN           NaN         10158          47493   \n",
       "3212                      NaN           NaN         23219          69861   \n",
       "3213                      NaN           NaN         24788          83417   \n",
       "\n",
       "     favorited retweeted possibly_sensitive lang  \\\n",
       "3209     False     False                NaN   en   \n",
       "3210     False     False              False   en   \n",
       "3211     False     False              False   en   \n",
       "3212     False     False                NaN   en   \n",
       "3213     False     False                NaN   en   \n",
       "\n",
       "                                                                                                                                                                                                                                                                            extended_entities  \\\n",
       "3209                                                                                                                                                                                                                                                                                      NaN   \n",
       "3210  {'media': [{'id': 921178032366288897, 'id_str': '921178032366288897', 'indices': [132, 155], 'media_url': 'http://pbs.twimg.com/media/DMizJLXW0AE6O2l.jpg', 'media_url_https': 'https://pbs.twimg.com/media/DMizJLXW0AE6O2l.jpg', 'url': 'https://t.co/PSCXg38CtS', 'display_url': '...   \n",
       "3211  {'media': [{'id': 921113597752807431, 'id_str': '921113597752807431', 'indices': [124, 147], 'media_url': 'http://pbs.twimg.com/ext_tw_video_thumb/921113597752807431/pu/img/QO4Yk0jtqndc4snd.jpg', 'media_url_https': 'https://pbs.twimg.com/ext_tw_video_thumb/921113597752807431/...   \n",
       "3212                                                                                                                                                                                                                                                                                      NaN   \n",
       "3213                                                                                                                                                                                                                                                                                      NaN   \n",
       "\n",
       "      retweeted_status  \n",
       "3209               NaN  \n",
       "3210               NaN  \n",
       "3211               NaN  \n",
       "3212               NaN  \n",
       "3213               NaN  \n",
       "\n",
       "[5 rows x 31 columns]"
      ]
     },
     "execution_count": 14,
     "metadata": {},
     "output_type": "execute_result"
    }
   ],
   "source": [
    "# Enter the number of the month of the oldest tweet (e.g. 1 for January)\n",
    "oldest_month = 10 #Enter answer here and code below this\n",
    "\n",
    "\n",
    "trump_tweets = pd.DataFrame(trump_tweets)\n",
    "### BEGIN SOLUTION\n",
    "\n",
    "trump_tweets.tail()\n",
    "### END SOLUTION"
   ]
  },
  {
   "cell_type": "markdown",
   "metadata": {
    "id": "cNdIIfM4apP6"
   },
   "source": [
    "## PART 3  Twitter Source Analysis\n",
    "\n"
   ]
  },
  {
   "cell_type": "markdown",
   "metadata": {
    "id": "bnZTwTGRapP6"
   },
   "source": [
    "### Task 3.1\n",
    "\n",
    "Create a new data frame from `2016-2017.json` and merge with `trump_tweets` \n",
    "\n",
    "**Important:** There may/will be some overlap so be sure to __eliminate duplicate tweets__. If you do not eliminate the duplicates properly, your results might not be compatible with the test solution. \n",
    "**Hint:** the `id` of a tweet is always unique."
   ]
  },
  {
   "cell_type": "code",
   "execution_count": 15,
   "metadata": {
    "id": "UKw0vaWTapP6"
   },
   "outputs": [
    {
     "data": {
      "text/plain": [
       "331452"
      ]
     },
     "metadata": {},
     "output_type": "display_data"
    }
   ],
   "source": [
    "# if you do not have new tweets, then all_tweets is the same as  old_trump_tweets\n",
    "\n",
    "### BEGIN SOLUTION\n",
    "a = pd.DataFrame(load_tweets(\"data/2016-2017.json\"))\n",
    "\n",
    "all_tweets = pd.concat([trump_tweets,a], ignore_index=True, axis = 0, join = 'outer')\n",
    "\n",
    "#all_tweets.drop_duplicates('id', inplace=True)\n",
    "display(all_tweets.size)\n",
    "#print(all_tweets)\n",
    "### END SOLUTION\n",
    "\n",
    "assert(all_tweets.size == 331452) \n"
   ]
  },
  {
   "cell_type": "markdown",
   "metadata": {
    "id": "w2f3pX1TapP6"
   },
   "source": [
    "### Task 3.2\n",
    "Construct a DataFrame called `df_trump` containing all the tweets stored in `all_tweets`. The index of the dataframe should be the ID of each tweet (looks something like `907698529606541312`). It should have these columns:\n",
    "\n",
    "- `time`: The time the tweet was created encoded as a datetime object. (Use `pd.to_datetime` to encode the timestamp.)\n",
    "- `source`: The source device of the tweet.\n",
    "- `text`: The text of the tweet.\n",
    "- `retweet_count`: The retweet count of the tweet. \n",
    "\n",
    "Finally, **the resulting dataframe should be sorted by the index.**\n",
    "\n",
    "**Warning:** *Some tweets will store the text in the `text` field and other will use the `full_text` field.*\n",
    "\n",
    "**Warning:** *Don't forget to check the type of index*"
   ]
  },
  {
   "cell_type": "code",
   "execution_count": 16,
   "metadata": {
    "id": "BaBrQPLNapP6"
   },
   "outputs": [
    {
     "data": {
      "text/html": [
       "<div>\n",
       "<style scoped>\n",
       "    .dataframe tbody tr th:only-of-type {\n",
       "        vertical-align: middle;\n",
       "    }\n",
       "\n",
       "    .dataframe tbody tr th {\n",
       "        vertical-align: top;\n",
       "    }\n",
       "\n",
       "    .dataframe thead th {\n",
       "        text-align: right;\n",
       "    }\n",
       "</style>\n",
       "<table border=\"1\" class=\"dataframe\">\n",
       "  <thead>\n",
       "    <tr style=\"text-align: right;\">\n",
       "      <th></th>\n",
       "      <th>source</th>\n",
       "      <th>text</th>\n",
       "      <th>retweet_count</th>\n",
       "      <th>time</th>\n",
       "    </tr>\n",
       "    <tr>\n",
       "      <th>id</th>\n",
       "      <th></th>\n",
       "      <th></th>\n",
       "      <th></th>\n",
       "      <th></th>\n",
       "    </tr>\n",
       "  </thead>\n",
       "  <tbody>\n",
       "    <tr>\n",
       "      <th>682723973449289728</th>\n",
       "      <td>Twitter for Android</td>\n",
       "      <td>I will be on @FoxNews live,  with members of my family, at 11:50 P.M. We will ring in the New Year together! MAKE AMERICA GREAT AGAIN!</td>\n",
       "      <td>2108</td>\n",
       "      <td>2016-01-01 00:44:14+00:00</td>\n",
       "    </tr>\n",
       "    <tr>\n",
       "      <th>682764544402440192</th>\n",
       "      <td>Twitter for iPhone</td>\n",
       "      <td>HAPPY NEW YEAR &amp;amp; THANK YOU! https://t.co/YO1Yi8QbZy https://t.co/uxUXWJ1Rbv</td>\n",
       "      <td>3460</td>\n",
       "      <td>2016-01-01 03:25:27+00:00</td>\n",
       "    </tr>\n",
       "    <tr>\n",
       "      <th>682792967736848385</th>\n",
       "      <td>Twitter for iPhone</td>\n",
       "      <td>#HappyNewYearAmerica! https://t.co/EeQb8PDrUe</td>\n",
       "      <td>3434</td>\n",
       "      <td>2016-01-01 05:18:23+00:00</td>\n",
       "    </tr>\n",
       "    <tr>\n",
       "      <th>682805320217980929</th>\n",
       "      <td>Twitter for iPhone</td>\n",
       "      <td>Happy New Year from #MarALago! Thank you to my great family for all of their support. https://t.co/6UsqSiaaj7</td>\n",
       "      <td>1948</td>\n",
       "      <td>2016-01-01 06:07:28+00:00</td>\n",
       "    </tr>\n",
       "    <tr>\n",
       "      <th>682805477168779264</th>\n",
       "      <td>Twitter for Android</td>\n",
       "      <td>\"@jallenaip: Hillary said she was in a \"Fog of War\" as explanation for the lies about Benghazi. No fog allowed in WH. Vote Trump POTUS!\"</td>\n",
       "      <td>2721</td>\n",
       "      <td>2016-01-01 06:08:06+00:00</td>\n",
       "    </tr>\n",
       "    <tr>\n",
       "      <th>...</th>\n",
       "      <td>...</td>\n",
       "      <td>...</td>\n",
       "      <td>...</td>\n",
       "      <td>...</td>\n",
       "    </tr>\n",
       "    <tr>\n",
       "      <th>1052213711295930368</th>\n",
       "      <td>&lt;a href=\"http://twitter.com/download/iphone\" rel=\"nofollow\"&gt;Twitter for iPhone&lt;/a&gt;</td>\n",
       "      <td>“Federal Judge throws out Stormy Danials lawsuit versus Trump. Trump is entitled to full legal fees.” @FoxNews Great, now I can go after Horseface and her 3rd rate lawyer in the Great State of Texas. She will confirm the letter she signed! She knows nothing about me, a total ...</td>\n",
       "      <td>14594</td>\n",
       "      <td>2018-10-16 15:04:32+00:00</td>\n",
       "    </tr>\n",
       "    <tr>\n",
       "      <th>1052217314463100928</th>\n",
       "      <td>&lt;a href=\"http://twitter.com/download/iphone\" rel=\"nofollow\"&gt;Twitter for iPhone&lt;/a&gt;</td>\n",
       "      <td>“Conflict between Glen Simpson’s testimony to another House Panel about his contact with Justice Department official Bruce Ohr. Ohr was used by Simpson and Steele as a Back Channel to get (FAKE) Dossier to FBI. Simpson pleading Fifth.” Catherine Herridge. Where is Jeff Sessions?</td>\n",
       "      <td>6271</td>\n",
       "      <td>2018-10-16 15:18:51+00:00</td>\n",
       "    </tr>\n",
       "    <tr>\n",
       "      <th>1052219253384994816</th>\n",
       "      <td>&lt;a href=\"http://twitter.com/download/iphone\" rel=\"nofollow\"&gt;Twitter for iPhone&lt;/a&gt;</td>\n",
       "      <td>Is it really possible that Bruce Ohr, whose wife Nellie was paid by Simpson and GPS Fusion for work done on the Fake Dossier, and who was used as a Pawn in this whole SCAM (WITCH HUNT), is still working for the Department of Justice????? Can this really be so?????</td>\n",
       "      <td>13103</td>\n",
       "      <td>2018-10-16 15:26:33+00:00</td>\n",
       "    </tr>\n",
       "    <tr>\n",
       "      <th>1052232230972678145</th>\n",
       "      <td>&lt;a href=\"http://twitter.com/download/iphone\" rel=\"nofollow\"&gt;Twitter for iPhone&lt;/a&gt;</td>\n",
       "      <td>RT @WhiteHouse: https://t.co/RNqLpOtS3O</td>\n",
       "      <td>4478</td>\n",
       "      <td>2018-10-16 16:18:08+00:00</td>\n",
       "    </tr>\n",
       "    <tr>\n",
       "      <th>1052233253040640001</th>\n",
       "      <td>&lt;a href=\"http://twitter.com/download/iphone\" rel=\"nofollow\"&gt;Twitter for iPhone&lt;/a&gt;</td>\n",
       "      <td>REGISTER TO https://t.co/0pWiwCHGbh! #MAGA🇺🇸 https://t.co/ACTMe53TZU</td>\n",
       "      <td>5415</td>\n",
       "      <td>2018-10-16 16:22:11+00:00</td>\n",
       "    </tr>\n",
       "  </tbody>\n",
       "</table>\n",
       "<p>9478 rows × 4 columns</p>\n",
       "</div>"
      ],
      "text/plain": [
       "                                                                                                 source  \\\n",
       "id                                                                                                        \n",
       "682723973449289728                                                                  Twitter for Android   \n",
       "682764544402440192                                                                   Twitter for iPhone   \n",
       "682792967736848385                                                                   Twitter for iPhone   \n",
       "682805320217980929                                                                   Twitter for iPhone   \n",
       "682805477168779264                                                                  Twitter for Android   \n",
       "...                                                                                                 ...   \n",
       "1052213711295930368  <a href=\"http://twitter.com/download/iphone\" rel=\"nofollow\">Twitter for iPhone</a>   \n",
       "1052217314463100928  <a href=\"http://twitter.com/download/iphone\" rel=\"nofollow\">Twitter for iPhone</a>   \n",
       "1052219253384994816  <a href=\"http://twitter.com/download/iphone\" rel=\"nofollow\">Twitter for iPhone</a>   \n",
       "1052232230972678145  <a href=\"http://twitter.com/download/iphone\" rel=\"nofollow\">Twitter for iPhone</a>   \n",
       "1052233253040640001  <a href=\"http://twitter.com/download/iphone\" rel=\"nofollow\">Twitter for iPhone</a>   \n",
       "\n",
       "                                                                                                                                                                                                                                                                                                        text  \\\n",
       "id                                                                                                                                                                                                                                                                                                             \n",
       "682723973449289728                                                                                                                                                    I will be on @FoxNews live,  with members of my family, at 11:50 P.M. We will ring in the New Year together! MAKE AMERICA GREAT AGAIN!   \n",
       "682764544402440192                                                                                                                                                                                                           HAPPY NEW YEAR &amp; THANK YOU! https://t.co/YO1Yi8QbZy https://t.co/uxUXWJ1Rbv   \n",
       "682792967736848385                                                                                                                                                                                                                                             #HappyNewYearAmerica! https://t.co/EeQb8PDrUe   \n",
       "682805320217980929                                                                                                                                                                             Happy New Year from #MarALago! Thank you to my great family for all of their support. https://t.co/6UsqSiaaj7   \n",
       "682805477168779264                                                                                                                                                  \"@jallenaip: Hillary said she was in a \"Fog of War\" as explanation for the lies about Benghazi. No fog allowed in WH. Vote Trump POTUS!\"   \n",
       "...                                                                                                                                                                                                                                                                                                      ...   \n",
       "1052213711295930368  “Federal Judge throws out Stormy Danials lawsuit versus Trump. Trump is entitled to full legal fees.” @FoxNews Great, now I can go after Horseface and her 3rd rate lawyer in the Great State of Texas. She will confirm the letter she signed! She knows nothing about me, a total ...   \n",
       "1052217314463100928  “Conflict between Glen Simpson’s testimony to another House Panel about his contact with Justice Department official Bruce Ohr. Ohr was used by Simpson and Steele as a Back Channel to get (FAKE) Dossier to FBI. Simpson pleading Fifth.” Catherine Herridge. Where is Jeff Sessions?   \n",
       "1052219253384994816                 Is it really possible that Bruce Ohr, whose wife Nellie was paid by Simpson and GPS Fusion for work done on the Fake Dossier, and who was used as a Pawn in this whole SCAM (WITCH HUNT), is still working for the Department of Justice????? Can this really be so?????   \n",
       "1052232230972678145                                                                                                                                                                                                                                                  RT @WhiteHouse: https://t.co/RNqLpOtS3O   \n",
       "1052233253040640001                                                                                                                                                                                                                     REGISTER TO https://t.co/0pWiwCHGbh! #MAGA🇺🇸 https://t.co/ACTMe53TZU   \n",
       "\n",
       "                     retweet_count                      time  \n",
       "id                                                            \n",
       "682723973449289728            2108 2016-01-01 00:44:14+00:00  \n",
       "682764544402440192            3460 2016-01-01 03:25:27+00:00  \n",
       "682792967736848385            3434 2016-01-01 05:18:23+00:00  \n",
       "682805320217980929            1948 2016-01-01 06:07:28+00:00  \n",
       "682805477168779264            2721 2016-01-01 06:08:06+00:00  \n",
       "...                            ...                       ...  \n",
       "1052213711295930368          14594 2018-10-16 15:04:32+00:00  \n",
       "1052217314463100928           6271 2018-10-16 15:18:51+00:00  \n",
       "1052219253384994816          13103 2018-10-16 15:26:33+00:00  \n",
       "1052232230972678145           4478 2018-10-16 16:18:08+00:00  \n",
       "1052233253040640001           5415 2018-10-16 16:22:11+00:00  \n",
       "\n",
       "[9478 rows x 4 columns]"
      ]
     },
     "execution_count": 16,
     "metadata": {},
     "output_type": "execute_result"
    }
   ],
   "source": [
    "### BEGIN SOLUTION\n",
    "import re\n",
    "\n",
    "df_trump = all_tweets\n",
    "df_trump['id'] = df_trump['id'].astype(np.int64)\n",
    "df_trump.drop_duplicates(subset = 'id', inplace=True)\n",
    "df_trump = df_trump.loc[:,['id','created_at','source','text','retweet_count','full_text']]\n",
    "df_trump['created_at'] = df_trump['created_at'].str.replace(re.escape('+0000 '), \"\", regex=True)\n",
    "df_trump['time'] = pd.to_datetime(df_trump.loc[:,\"created_at\"], format='%c', errors = 'coerce', utc=True)\n",
    "df_trump.drop('created_at', axis = 1, inplace=True)\n",
    "\n",
    "df_trump['text'] = df_trump['text'].combine_first(df_trump['full_text'])\n",
    "df_trump.drop('full_text', axis = 1, inplace=True)\n",
    "df_trump.set_index('id',inplace=True)\n",
    "df_trump.sort_index(inplace=True)\n",
    "df_trump\n",
    "### END SOLUTION"
   ]
  },
  {
   "cell_type": "markdown",
   "metadata": {
    "id": "w8WbUgNBapP7"
   },
   "source": [
    "In the following questions, we are going to find out the charateristics of Trump tweets and the devices used for the tweets.\n",
    "\n",
    "First let's examine the source field:"
   ]
  },
  {
   "cell_type": "code",
   "execution_count": 17,
   "metadata": {
    "id": "NiXXHDmpapP7"
   },
   "outputs": [
    {
     "data": {
      "text/plain": [
       "array(['Twitter for Android', 'Twitter for iPhone', 'Twitter Web Client',\n",
       "       'Mobile Web (M5)', 'Instagram', 'Twitter Ads', 'Twitter for iPad',\n",
       "       'Media Studio', 'TweetDeck', 'Periscope',\n",
       "       '<a href=\"http://twitter.com/download/iphone\" rel=\"nofollow\">Twitter for iPhone</a>',\n",
       "       '<a href=\"https://studio.twitter.com\" rel=\"nofollow\">Media Studio</a>',\n",
       "       '<a href=\"http://twitter.com/#!/download/ipad\" rel=\"nofollow\">Twitter for iPad</a>',\n",
       "       '<a href=\"http://twitter.com\" rel=\"nofollow\">Twitter Web Client</a>'],\n",
       "      dtype=object)"
      ]
     },
     "execution_count": 17,
     "metadata": {},
     "output_type": "execute_result"
    }
   ],
   "source": [
    "df_trump['source'].unique()"
   ]
  },
  {
   "cell_type": "markdown",
   "metadata": {
    "id": "pR-pQJ-FapP7"
   },
   "source": [
    "## Task 3.3\n",
    "\n",
    "Remove the HTML tags from the source field. \n",
    "\n",
    "**Hint:** Use `df_trump['source'].str.replace` and your favorite regular expression."
   ]
  },
  {
   "cell_type": "code",
   "execution_count": 18,
   "metadata": {
    "id": "uys4JaIuapP7"
   },
   "outputs": [
    {
     "data": {
      "text/plain": [
       "Twitter for iPhone     6649\n",
       "Twitter for Android    2116\n",
       "Twitter Web Client      395\n",
       "Media Studio            157\n",
       "Twitter Ads              96\n",
       "Twitter for iPad         59\n",
       "Instagram                 2\n",
       "TweetDeck                 2\n",
       "Mobile Web (M5)           1\n",
       "Periscope                 1\n",
       "Name: source, dtype: int64"
      ]
     },
     "execution_count": 18,
     "metadata": {},
     "output_type": "execute_result"
    }
   ],
   "source": [
    "### BEGIN SOLUTION\n",
    "import re\n",
    "\n",
    "df_trump['source'] = df_trump['source'].str.replace('<.*?>','', regex=True)\n",
    "\n",
    "df_trump['source'].value_counts()\n",
    "### END SOLUTION"
   ]
  },
  {
   "cell_type": "markdown",
   "metadata": {
    "id": "PZo4QU7MapP7"
   },
   "source": [
    "### Make a plot to find out the most common device types used in accessing twitter\n",
    "\n",
    "Sort the plot in decreasing order of the most common device type"
   ]
  },
  {
   "cell_type": "code",
   "execution_count": 19,
   "metadata": {
    "id": "WOdz32WZapP7"
   },
   "outputs": [
    {
     "data": {
      "image/png": "[encoded data removed]",
      "text/plain": [
       "<Figure size 792x576 with 1 Axes>"
      ]
     },
     "metadata": {},
     "output_type": "display_data"
    }
   ],
   "source": [
    "### BEGIN SOLUTION\n",
    "fig, ax = plt.subplots()\n",
    "fig.set_size_inches(11, 8)\n",
    "ax = sns.countplot(data = df_trump,y = 'source', order = df_trump['source'].value_counts(ascending=False).index)\n",
    "ax.set(xlabel='Number of Tweets', ylabel='Device Type', title = 'Number of Tweets By Device Type');\n",
    "\n",
    "### END SOLUTION"
   ]
  },
  {
   "cell_type": "markdown",
   "metadata": {
    "id": "ZatUeX2capP7"
   },
   "source": [
    "### Task 3.4\n",
    "Is there a difference between his Tweet behavior across these devices? We will attempt to answer this question in our subsequent analysis.\n",
    "\n",
    "First, we'll take a look at whether Trump's tweets from an Android come at different times than his tweets from an iPhone. Note that Twitter gives us his tweets in the [UTC timezone](https://www.wikiwand.com/en/List_of_UTC_time_offsets) (notice the `+0000` in the first few tweets)\n",
    "\n",
    "**Note** - If your `time` column is not in datetime format, the following code will not work."
   ]
  },
  {
   "cell_type": "code",
   "execution_count": 20,
   "metadata": {
    "id": "VhBLwCxcapP7"
   },
   "outputs": [
    {
     "data": {
      "text/plain": [
       "id\n",
       "682723973449289728   2016-01-01 00:44:14+00:00\n",
       "682764544402440192   2016-01-01 03:25:27+00:00\n",
       "682792967736848385   2016-01-01 05:18:23+00:00\n",
       "Name: time, dtype: datetime64[ns, UTC]"
      ]
     },
     "execution_count": 20,
     "metadata": {},
     "output_type": "execute_result"
    }
   ],
   "source": [
    "df_trump['time'][0:3]"
   ]
  },
  {
   "cell_type": "markdown",
   "metadata": {
    "id": "CN0KG6ktapP7"
   },
   "source": [
    "We'll convert the tweet times to US Eastern Time, the timezone of New York and Washington D.C., since those are the places we would expect the most tweet activity from Trump."
   ]
  },
  {
   "cell_type": "code",
   "execution_count": 21,
   "metadata": {
    "id": "0uB-3WK4apP7"
   },
   "outputs": [
    {
     "data": {
      "text/html": [
       "<div>\n",
       "<style scoped>\n",
       "    .dataframe tbody tr th:only-of-type {\n",
       "        vertical-align: middle;\n",
       "    }\n",
       "\n",
       "    .dataframe tbody tr th {\n",
       "        vertical-align: top;\n",
       "    }\n",
       "\n",
       "    .dataframe thead th {\n",
       "        text-align: right;\n",
       "    }\n",
       "</style>\n",
       "<table border=\"1\" class=\"dataframe\">\n",
       "  <thead>\n",
       "    <tr style=\"text-align: right;\">\n",
       "      <th></th>\n",
       "      <th>source</th>\n",
       "      <th>text</th>\n",
       "      <th>retweet_count</th>\n",
       "      <th>time</th>\n",
       "      <th>est_time</th>\n",
       "    </tr>\n",
       "    <tr>\n",
       "      <th>id</th>\n",
       "      <th></th>\n",
       "      <th></th>\n",
       "      <th></th>\n",
       "      <th></th>\n",
       "      <th></th>\n",
       "    </tr>\n",
       "  </thead>\n",
       "  <tbody>\n",
       "    <tr>\n",
       "      <th>682723973449289728</th>\n",
       "      <td>Twitter for Android</td>\n",
       "      <td>I will be on @FoxNews live,  with members of my family, at 11:50 P.M. We will ring in the New Year together! MAKE AMERICA GREAT AGAIN!</td>\n",
       "      <td>2108</td>\n",
       "      <td>2016-01-01 00:44:14+00:00</td>\n",
       "      <td>2015-12-31 19:44:14-05:00</td>\n",
       "    </tr>\n",
       "    <tr>\n",
       "      <th>682764544402440192</th>\n",
       "      <td>Twitter for iPhone</td>\n",
       "      <td>HAPPY NEW YEAR &amp;amp; THANK YOU! https://t.co/YO1Yi8QbZy https://t.co/uxUXWJ1Rbv</td>\n",
       "      <td>3460</td>\n",
       "      <td>2016-01-01 03:25:27+00:00</td>\n",
       "      <td>2015-12-31 22:25:27-05:00</td>\n",
       "    </tr>\n",
       "    <tr>\n",
       "      <th>682792967736848385</th>\n",
       "      <td>Twitter for iPhone</td>\n",
       "      <td>#HappyNewYearAmerica! https://t.co/EeQb8PDrUe</td>\n",
       "      <td>3434</td>\n",
       "      <td>2016-01-01 05:18:23+00:00</td>\n",
       "      <td>2016-01-01 00:18:23-05:00</td>\n",
       "    </tr>\n",
       "    <tr>\n",
       "      <th>682805320217980929</th>\n",
       "      <td>Twitter for iPhone</td>\n",
       "      <td>Happy New Year from #MarALago! Thank you to my great family for all of their support. https://t.co/6UsqSiaaj7</td>\n",
       "      <td>1948</td>\n",
       "      <td>2016-01-01 06:07:28+00:00</td>\n",
       "      <td>2016-01-01 01:07:28-05:00</td>\n",
       "    </tr>\n",
       "    <tr>\n",
       "      <th>682805477168779264</th>\n",
       "      <td>Twitter for Android</td>\n",
       "      <td>\"@jallenaip: Hillary said she was in a \"Fog of War\" as explanation for the lies about Benghazi. No fog allowed in WH. Vote Trump POTUS!\"</td>\n",
       "      <td>2721</td>\n",
       "      <td>2016-01-01 06:08:06+00:00</td>\n",
       "      <td>2016-01-01 01:08:06-05:00</td>\n",
       "    </tr>\n",
       "  </tbody>\n",
       "</table>\n",
       "</div>"
      ],
      "text/plain": [
       "                                 source  \\\n",
       "id                                        \n",
       "682723973449289728  Twitter for Android   \n",
       "682764544402440192   Twitter for iPhone   \n",
       "682792967736848385   Twitter for iPhone   \n",
       "682805320217980929   Twitter for iPhone   \n",
       "682805477168779264  Twitter for Android   \n",
       "\n",
       "                                                                                                                                                        text  \\\n",
       "id                                                                                                                                                             \n",
       "682723973449289728    I will be on @FoxNews live,  with members of my family, at 11:50 P.M. We will ring in the New Year together! MAKE AMERICA GREAT AGAIN!   \n",
       "682764544402440192                                                           HAPPY NEW YEAR &amp; THANK YOU! https://t.co/YO1Yi8QbZy https://t.co/uxUXWJ1Rbv   \n",
       "682792967736848385                                                                                             #HappyNewYearAmerica! https://t.co/EeQb8PDrUe   \n",
       "682805320217980929                             Happy New Year from #MarALago! Thank you to my great family for all of their support. https://t.co/6UsqSiaaj7   \n",
       "682805477168779264  \"@jallenaip: Hillary said she was in a \"Fog of War\" as explanation for the lies about Benghazi. No fog allowed in WH. Vote Trump POTUS!\"   \n",
       "\n",
       "                    retweet_count                      time  \\\n",
       "id                                                            \n",
       "682723973449289728           2108 2016-01-01 00:44:14+00:00   \n",
       "682764544402440192           3460 2016-01-01 03:25:27+00:00   \n",
       "682792967736848385           3434 2016-01-01 05:18:23+00:00   \n",
       "682805320217980929           1948 2016-01-01 06:07:28+00:00   \n",
       "682805477168779264           2721 2016-01-01 06:08:06+00:00   \n",
       "\n",
       "                                    est_time  \n",
       "id                                            \n",
       "682723973449289728 2015-12-31 19:44:14-05:00  \n",
       "682764544402440192 2015-12-31 22:25:27-05:00  \n",
       "682792967736848385 2016-01-01 00:18:23-05:00  \n",
       "682805320217980929 2016-01-01 01:07:28-05:00  \n",
       "682805477168779264 2016-01-01 01:08:06-05:00  "
      ]
     },
     "execution_count": 21,
     "metadata": {},
     "output_type": "execute_result"
    }
   ],
   "source": [
    "df_trump['est_time'] = (\n",
    "    df_trump['time'] # Set initial timezone to UTC\n",
    "                 .dt.tz_convert(\"EST\") # Convert to Eastern Time\n",
    ")\n",
    "df_trump.head()"
   ]
  },
  {
   "cell_type": "markdown",
   "metadata": {
    "id": "pTusdoO5apP7"
   },
   "source": [
    "**What you need to do:**\n",
    "\n",
    "Add a column called `hour` to the `df_trump` table which contains the hour of the day as floating point number computed by:\n",
    "\n",
    "$$\n",
    "\\text{hour} + \\frac{\\text{minute}}{60} + \\frac{\\text{second}}{60^2}\n",
    "$$"
   ]
  },
  {
   "cell_type": "code",
   "execution_count": 22,
   "metadata": {
    "id": "UhkJKBxeapP8"
   },
   "outputs": [
    {
     "data": {
      "text/html": [
       "<div>\n",
       "<style scoped>\n",
       "    .dataframe tbody tr th:only-of-type {\n",
       "        vertical-align: middle;\n",
       "    }\n",
       "\n",
       "    .dataframe tbody tr th {\n",
       "        vertical-align: top;\n",
       "    }\n",
       "\n",
       "    .dataframe thead th {\n",
       "        text-align: right;\n",
       "    }\n",
       "</style>\n",
       "<table border=\"1\" class=\"dataframe\">\n",
       "  <thead>\n",
       "    <tr style=\"text-align: right;\">\n",
       "      <th></th>\n",
       "      <th>source</th>\n",
       "      <th>text</th>\n",
       "      <th>retweet_count</th>\n",
       "      <th>time</th>\n",
       "      <th>est_time</th>\n",
       "      <th>hour</th>\n",
       "      <th>roundhour</th>\n",
       "    </tr>\n",
       "    <tr>\n",
       "      <th>id</th>\n",
       "      <th></th>\n",
       "      <th></th>\n",
       "      <th></th>\n",
       "      <th></th>\n",
       "      <th></th>\n",
       "      <th></th>\n",
       "      <th></th>\n",
       "    </tr>\n",
       "  </thead>\n",
       "  <tbody>\n",
       "    <tr>\n",
       "      <th>682723973449289728</th>\n",
       "      <td>Twitter for Android</td>\n",
       "      <td>I will be on @FoxNews live,  with members of my family, at 11:50 P.M. We will ring in the New Year together! MAKE AMERICA GREAT AGAIN!</td>\n",
       "      <td>2108</td>\n",
       "      <td>2016-01-01 00:44:14+00:00</td>\n",
       "      <td>2015-12-31 19:44:14-05:00</td>\n",
       "      <td>19.737222</td>\n",
       "      <td>20.0</td>\n",
       "    </tr>\n",
       "    <tr>\n",
       "      <th>682764544402440192</th>\n",
       "      <td>Twitter for iPhone</td>\n",
       "      <td>HAPPY NEW YEAR &amp;amp; THANK YOU! https://t.co/YO1Yi8QbZy https://t.co/uxUXWJ1Rbv</td>\n",
       "      <td>3460</td>\n",
       "      <td>2016-01-01 03:25:27+00:00</td>\n",
       "      <td>2015-12-31 22:25:27-05:00</td>\n",
       "      <td>22.424167</td>\n",
       "      <td>22.0</td>\n",
       "    </tr>\n",
       "    <tr>\n",
       "      <th>682792967736848385</th>\n",
       "      <td>Twitter for iPhone</td>\n",
       "      <td>#HappyNewYearAmerica! https://t.co/EeQb8PDrUe</td>\n",
       "      <td>3434</td>\n",
       "      <td>2016-01-01 05:18:23+00:00</td>\n",
       "      <td>2016-01-01 00:18:23-05:00</td>\n",
       "      <td>0.306389</td>\n",
       "      <td>0.0</td>\n",
       "    </tr>\n",
       "    <tr>\n",
       "      <th>682805320217980929</th>\n",
       "      <td>Twitter for iPhone</td>\n",
       "      <td>Happy New Year from #MarALago! Thank you to my great family for all of their support. https://t.co/6UsqSiaaj7</td>\n",
       "      <td>1948</td>\n",
       "      <td>2016-01-01 06:07:28+00:00</td>\n",
       "      <td>2016-01-01 01:07:28-05:00</td>\n",
       "      <td>1.124444</td>\n",
       "      <td>1.0</td>\n",
       "    </tr>\n",
       "    <tr>\n",
       "      <th>682805477168779264</th>\n",
       "      <td>Twitter for Android</td>\n",
       "      <td>\"@jallenaip: Hillary said she was in a \"Fog of War\" as explanation for the lies about Benghazi. No fog allowed in WH. Vote Trump POTUS!\"</td>\n",
       "      <td>2721</td>\n",
       "      <td>2016-01-01 06:08:06+00:00</td>\n",
       "      <td>2016-01-01 01:08:06-05:00</td>\n",
       "      <td>1.135000</td>\n",
       "      <td>1.0</td>\n",
       "    </tr>\n",
       "  </tbody>\n",
       "</table>\n",
       "</div>"
      ],
      "text/plain": [
       "                                 source  \\\n",
       "id                                        \n",
       "682723973449289728  Twitter for Android   \n",
       "682764544402440192   Twitter for iPhone   \n",
       "682792967736848385   Twitter for iPhone   \n",
       "682805320217980929   Twitter for iPhone   \n",
       "682805477168779264  Twitter for Android   \n",
       "\n",
       "                                                                                                                                                        text  \\\n",
       "id                                                                                                                                                             \n",
       "682723973449289728    I will be on @FoxNews live,  with members of my family, at 11:50 P.M. We will ring in the New Year together! MAKE AMERICA GREAT AGAIN!   \n",
       "682764544402440192                                                           HAPPY NEW YEAR &amp; THANK YOU! https://t.co/YO1Yi8QbZy https://t.co/uxUXWJ1Rbv   \n",
       "682792967736848385                                                                                             #HappyNewYearAmerica! https://t.co/EeQb8PDrUe   \n",
       "682805320217980929                             Happy New Year from #MarALago! Thank you to my great family for all of their support. https://t.co/6UsqSiaaj7   \n",
       "682805477168779264  \"@jallenaip: Hillary said she was in a \"Fog of War\" as explanation for the lies about Benghazi. No fog allowed in WH. Vote Trump POTUS!\"   \n",
       "\n",
       "                    retweet_count                      time  \\\n",
       "id                                                            \n",
       "682723973449289728           2108 2016-01-01 00:44:14+00:00   \n",
       "682764544402440192           3460 2016-01-01 03:25:27+00:00   \n",
       "682792967736848385           3434 2016-01-01 05:18:23+00:00   \n",
       "682805320217980929           1948 2016-01-01 06:07:28+00:00   \n",
       "682805477168779264           2721 2016-01-01 06:08:06+00:00   \n",
       "\n",
       "                                    est_time       hour  roundhour  \n",
       "id                                                                  \n",
       "682723973449289728 2015-12-31 19:44:14-05:00  19.737222       20.0  \n",
       "682764544402440192 2015-12-31 22:25:27-05:00  22.424167       22.0  \n",
       "682792967736848385 2016-01-01 00:18:23-05:00   0.306389        0.0  \n",
       "682805320217980929 2016-01-01 01:07:28-05:00   1.124444        1.0  \n",
       "682805477168779264 2016-01-01 01:08:06-05:00   1.135000        1.0  "
      ]
     },
     "metadata": {},
     "output_type": "display_data"
    }
   ],
   "source": [
    "df_trump['hour'] = df_trump.est_time.dt.hour + df_trump.est_time.dt.minute / 60 + df_trump.est_time.dt.second / 3600\n",
    "df_trump['roundhour']=round(df_trump['hour'])\n",
    "display(df_trump.head())\n"
   ]
  },
  {
   "cell_type": "code",
   "execution_count": 23,
   "metadata": {
    "id": "EkFBxTQOapP8"
   },
   "outputs": [],
   "source": [
    "assert np.isclose(df_trump.loc[690171032150237184]['hour'], 8.93639)\n"
   ]
  },
  {
   "cell_type": "markdown",
   "metadata": {
    "id": "Ib6CTpMTapP8"
   },
   "source": [
    "Use the `roundhour` column and plot the number of tweets at every hour of the day.\n",
    "Order the plot using the hour of the day (1 to 24). Use seaborn `countplot`"
   ]
  },
  {
   "cell_type": "code",
   "execution_count": 24,
   "metadata": {
    "id": "MQkwODiAapP8"
   },
   "outputs": [
    {
     "data": {
      "image/png": "[encoded data removed]",
      "text/plain": [
       "<Figure size 792x576 with 1 Axes>"
      ]
     },
     "metadata": {},
     "output_type": "display_data"
    }
   ],
   "source": [
    "# make a bar plot here\n",
    "### BEGIN SOLUTION\n",
    "\n",
    "fig, ax = plt.subplots()\n",
    "fig.set_size_inches(11, 8)\n",
    "ax = sns.countplot(data = df_trump,y = 'roundhour')\n",
    "ax.set(xlabel='Number of Tweets', ylabel='Time', title = 'Number of Trump Tweets By Hour');\n",
    "\n",
    "\n",
    "### END SOLUTION"
   ]
  },
  {
   "cell_type": "markdown",
   "metadata": {
    "id": "mGD_SCtAapP8"
   },
   "source": [
    "Now, use this data along with the seaborn `distplot` function to examine the distribution over hours of the day in eastern time that trump tweets on each device for the 2 most commonly used devices.  Your plot should look somewhat similar to the following. \n",
    "![device_hour2.png](attachment:device_hour2.png)\n"
   ]
  },
  {
   "cell_type": "code",
   "execution_count": 25,
   "metadata": {
    "id": "_lXwAyKFapP8"
   },
   "outputs": [
    {
     "name": "stderr",
     "output_type": "stream",
     "text": [
      "C:\\ProgramData\\Anaconda3\\lib\\site-packages\\seaborn\\distributions.py:2557: FutureWarning: `distplot` is a deprecated function and will be removed in a future version. Please adapt your code to use either `displot` (a figure-level function with similar flexibility) or `kdeplot` (an axes-level function for kernel density plots).\n",
      "  warnings.warn(msg, FutureWarning)\n",
      "C:\\ProgramData\\Anaconda3\\lib\\site-packages\\seaborn\\distributions.py:2557: FutureWarning: `distplot` is a deprecated function and will be removed in a future version. Please adapt your code to use either `displot` (a figure-level function with similar flexibility) or `kdeplot` (an axes-level function for kernel density plots).\n",
      "  warnings.warn(msg, FutureWarning)\n"
     ]
    },
    {
     "data": {
      "text/plain": [
       "<matplotlib.legend.Legend at 0x27e5e5e4fa0>"
      ]
     },
     "execution_count": 25,
     "metadata": {},
     "output_type": "execute_result"
    },
    {
     "data": {
      "image/png": "[encoded data removed]",
      "text/plain": [
       "<Figure size 792x576 with 1 Axes>"
      ]
     },
     "metadata": {},
     "output_type": "display_data"
    }
   ],
   "source": [
    "### BEGIN SOLUTION\n",
    "### make your plot here\n",
    "\n",
    "fig, ax = plt.subplots()\n",
    "fig.set_size_inches(11, 8)\n",
    "\n",
    "ax = sns.distplot(a = df_trump[df_trump['source'] == 'Twitter for iPhone']['roundhour'], hist=False, label = 'iPhone');\n",
    "ax = sns.distplot(a = df_trump[df_trump['source'] == 'Twitter for Android']['roundhour'],hist=False, label = 'Android');\n",
    "ax.set(xlabel='Hour', ylabel='Fraction', title = 'Distribution of Trump Tweets By Hour by Device');\n",
    "\n",
    "plt.legend()\n",
    "\n",
    "#ax = sns.kdeplot(data = df_trump[(df_trump['source'] == 'Twitter for Android') | (df_trump['source'] == 'Twitter for iPhone')], x = 'roundhour', hue = 'source');\n",
    "\n",
    "### END SOLUTION"
   ]
  },
  {
   "cell_type": "markdown",
   "metadata": {
    "id": "L1jbqJBqapP8"
   },
   "source": [
    "### Task 3.5\n",
    "\n",
    "According to [this Verge article](https://www.theverge.com/2017/3/29/15103504/donald-trump-iphone-using-switched-android), Donald Trump switched from an Android to an iPhone sometime in March 2017.\n",
    "\n",
    "Create a figure identical to your figure from 3.4, except that you should show the results only from 2016. If you get stuck consider looking at the `year_fraction` function from the next problem.\n",
    "\n",
    "Use this data along with the seaborn `distplot` function to examine the distribution over hours of the day in eastern time that trump tweets on each device for the 2 most commonly used devices.  Your plot should look somewhat similar to the following. \n",
    "\n",
    "During the campaign, it was theorized that Donald Trump's tweets from Android were written by him personally, and the tweets from iPhone were from his staff. Does your figure give support the theory?\n",
    "\n",
    "Response: In 2016, the time allocation for the usage of the iphone centered in the afternoon, while his tweets from 2015 to present shows that he mostly tweets in the morning. It seems that the tweets from iphone in 2016 were from his staff, not himself."
   ]
  },
  {
   "cell_type": "markdown",
   "metadata": {
    "id": "BKGr1_ULapP8"
   },
   "source": [
    "![title](images/device_hour2.png)"
   ]
  },
  {
   "cell_type": "code",
   "execution_count": 26,
   "metadata": {
    "id": "QHtptHMCapP8"
   },
   "outputs": [
    {
     "name": "stderr",
     "output_type": "stream",
     "text": [
      "C:\\ProgramData\\Anaconda3\\lib\\site-packages\\seaborn\\distributions.py:2557: FutureWarning: `distplot` is a deprecated function and will be removed in a future version. Please adapt your code to use either `displot` (a figure-level function with similar flexibility) or `kdeplot` (an axes-level function for kernel density plots).\n",
      "  warnings.warn(msg, FutureWarning)\n",
      "C:\\ProgramData\\Anaconda3\\lib\\site-packages\\seaborn\\distributions.py:2557: FutureWarning: `distplot` is a deprecated function and will be removed in a future version. Please adapt your code to use either `displot` (a figure-level function with similar flexibility) or `kdeplot` (an axes-level function for kernel density plots).\n",
      "  warnings.warn(msg, FutureWarning)\n"
     ]
    },
    {
     "data": {
      "text/plain": [
       "<matplotlib.legend.Legend at 0x27e5ee68bb0>"
      ]
     },
     "execution_count": 26,
     "metadata": {},
     "output_type": "execute_result"
    },
    {
     "data": {
      "image/png": "[encoded data removed]",
      "text/plain": [
       "<Figure size 792x576 with 1 Axes>"
      ]
     },
     "metadata": {},
     "output_type": "display_data"
    }
   ],
   "source": [
    "### BEGIN SOLUTION\n",
    "\n",
    "fig, ax = plt.subplots()\n",
    "fig.set_size_inches(11, 8)\n",
    "\n",
    "ax = sns.distplot(a = df_trump[(df_trump['source'] == 'Twitter for iPhone')  & (df_trump.est_time.dt.year == 2016)]['roundhour'], hist=False, label = 'iPhone');\n",
    "ax = sns.distplot(a = df_trump[(df_trump['source'] == 'Twitter for Android') & (df_trump.est_time.dt.year == 2016)]['roundhour'],hist=False, label = 'Android');\n",
    "ax.set(xlabel='Hour', ylabel='Fraction', title = 'Distribution of Trump Tweets By Hour by Device');\n",
    "plt.legend()\n",
    "#ax = sns.kdeplot(data = df_trump[(df_trump['source'] == 'Twitter for Android') | (df_trump['source'] == 'Twitter for iPhone')], x = 'roundhour', hue = 'source');\n",
    "\n",
    "\n",
    "### END SOLUTION"
   ]
  },
  {
   "cell_type": "markdown",
   "metadata": {
    "id": "1XFRyB9FapP8"
   },
   "source": [
    "### Task 3.6\n",
    "Edit this cell to answer the following questions.\n",
    "* What time of the day the Android tweets were made by Trump himself? (eg: morning, late night etc)  \n",
    "If we assume that the frequency of posting by the staff was constant, we can see a large spike in the frequency of tweets in the early morning for iPhones after 2016, which is the same time that Trump switched to an iPhone. We can assume Trump likes to post Tweets early in the morning.\n",
    "\n",
    "* What time of the day the Android tweets were made by paid staff?  \n",
    "We can assume that Android tweets made by paid staff were more commonly occurring later in the day, around the afternoon. This is because the iPhone data for 2016 showed most of the tweets in the midday, which had to be by his staff, which used iPhones. This also makes sense since that would coincide with the hours of a workday for an employee. Assuming that Android and iPhones are both used by staff, we can assume the same posting habits for posts by staff using Androids.\n",
    "\n",
    "Note that these are speculations based on what you observe in the data set."
   ]
  },
  {
   "cell_type": "markdown",
   "metadata": {
    "id": "P0zbpLZUapP9"
   },
   "source": [
    "### Task 3.7 Device Analysis\n",
    "Let's now look at which device he has used over the entire time period of this dataset.\n",
    "\n",
    "To examine the distribution of dates we will convert the date to a fractional year that can be plotted as a distribution.\n",
    "\n",
    "(Code borrowed from https://stackoverflow.com/questions/6451655/python-how-to-convert-datetime-dates-to-decimal-years)"
   ]
  },
  {
   "cell_type": "code",
   "execution_count": 27,
   "metadata": {
    "id": "4OEbR4afapP9"
   },
   "outputs": [],
   "source": [
    "import datetime\n",
    "def year_fraction(date):\n",
    "    start = datetime.date(date.year, 1, 1).toordinal()\n",
    "    year_length = datetime.date(date.year+1, 1, 1).toordinal() - start\n",
    "    return date.year + float(date.toordinal() - start) / year_length\n",
    "\n",
    "\n",
    "df_trump['year'] = df_trump['time'].apply(year_fraction) #should be df_trump"
   ]
  },
  {
   "cell_type": "markdown",
   "metadata": {
    "id": "7j4xEBAOapP9"
   },
   "source": [
    "Use the `sns.distplot` to overlay the distributions of the 2 most frequently used web technologies over the years.  Your final plot should be similar to:\n",
    "\n",
    "![source_years.png](attachment:source_years.png)"
   ]
  },
  {
   "cell_type": "code",
   "execution_count": 28,
   "metadata": {
    "id": "oRdFIObiapP9"
   },
   "outputs": [
    {
     "name": "stderr",
     "output_type": "stream",
     "text": [
      "C:\\ProgramData\\Anaconda3\\lib\\site-packages\\seaborn\\distributions.py:2557: FutureWarning: `distplot` is a deprecated function and will be removed in a future version. Please adapt your code to use either `displot` (a figure-level function with similar flexibility) or `histplot` (an axes-level function for histograms).\n",
      "  warnings.warn(msg, FutureWarning)\n",
      "C:\\ProgramData\\Anaconda3\\lib\\site-packages\\seaborn\\distributions.py:2557: FutureWarning: `distplot` is a deprecated function and will be removed in a future version. Please adapt your code to use either `displot` (a figure-level function with similar flexibility) or `histplot` (an axes-level function for histograms).\n",
      "  warnings.warn(msg, FutureWarning)\n"
     ]
    },
    {
     "data": {
      "image/png": "[encoded data removed]",
      "text/plain": [
       "<Figure size 1080x1080 with 1 Axes>"
      ]
     },
     "metadata": {},
     "output_type": "display_data"
    }
   ],
   "source": [
    "### BEGIN SOLUTION\n",
    "plt.figure(figsize=(15,15))\n",
    "\n",
    "ax = sns.distplot(a = df_trump[(df_trump['source'] == 'Twitter for iPhone')]['year'], label = 'iPhone');\n",
    "ax = sns.distplot(a = df_trump[(df_trump['source'] == 'Twitter for Android')]['year'], label = 'Android');\n",
    "ax.set(xlabel='Year', ylabel='Fraction', title = 'Distribution of Trump Tweets By Hour by Device');\n",
    "plt.legend();\n",
    "\n",
    "\n",
    "### END SOLUTION"
   ]
  },
  {
   "cell_type": "markdown",
   "metadata": {
    "id": "Nn0opKxWapP9"
   },
   "source": [
    "## PART 4 - Sentiment Analysis\n",
    "\n",
    "It turns out that we can use the words in Trump's tweets to calculate a measure of the sentiment of the tweet. For example, the sentence \"I love America!\" has positive sentiment, whereas the sentence \"I hate taxes!\" has a negative sentiment. In addition, some words have stronger positive / negative sentiment than others: \"I love America.\" is more positive than \"I like America.\"\n",
    "\n",
    "We will use the [VADER (Valence Aware Dictionary and sEntiment Reasoner)](https://github.com/cjhutto/vaderSentiment) lexicon to analyze the sentiment of Trump's tweets. VADER is a lexicon and rule-based sentiment analysis tool that is specifically attuned to sentiments expressed in social media which is great for our usage.\n",
    "\n",
    "The VADER lexicon gives the sentiment of individual words. Run the following cell to show the first few rows of the lexicon:"
   ]
  },
  {
   "cell_type": "code",
   "execution_count": 29,
   "metadata": {
    "id": "NICSCaj_apP9",
    "outputId": "f2ddb09d-b75a-41c9-a12b-89eec667c346"
   },
   "outputs": [
    {
     "name": "stdout",
     "output_type": "stream",
     "text": [
      "$:\t-1.5\t0.80623\t[-1, -1, -1, -1, -3, -1, -3, -1, -2, -1]\n",
      "%)\t-0.4\t1.0198\t[-1, 0, -1, 0, 0, -2, -1, 2, -1, 0]\n",
      "%-)\t-1.5\t1.43178\t[-2, 0, -2, -2, -1, 2, -2, -3, -2, -3]\n",
      "&-:\t-0.4\t1.42829\t[-3, -1, 0, 0, -1, -1, -1, 2, -1, 2]\n",
      "&:\t-0.7\t0.64031\t[0, -1, -1, -1, 1, -1, -1, -1, -1, -1]\n",
      "( '}{' )\t1.6\t0.66332\t[1, 2, 2, 1, 1, 2, 2, 1, 3, 1]\n",
      "(%\t-0.9\t0.9434\t[0, 0, 1, -1, -1, -1, -2, -2, -1, -2]\n",
      "('-:\t2.2\t1.16619\t[4, 1, 4, 3, 1, 2, 3, 1, 2, 1]\n",
      "(':\t2.3\t0.9\t[1, 3, 3, 2, 2, 4, 2, 3, 1, 2]\n",
      "((-:\t2.1\t0.53852\t[2, 2, 2, 1, 2, 3, 2, 2, 3, 2]\n",
      "\n"
     ]
    }
   ],
   "source": [
    "print(''.join(open(\"data/vader_lexicon.txt\").readlines()[:10]))"
   ]
  },
  {
   "cell_type": "markdown",
   "metadata": {
    "id": "Cqr5pItGapP9"
   },
   "source": [
    "### Task 4.1\n",
    "\n",
    "As you can see, the lexicon contains emojis too! The first column of the lexicon is the *token*, or the word itself. The second column is the *polarity* of the word, or how positive / negative it is.\n",
    "\n",
    "(How did they decide the polarities of these words? What are the other two columns in the lexicon? See the link above.)\n",
    "\n",
    " Read in the lexicon into a DataFrame called `df_sent`. The index of the DF should be the tokens in the lexicon. `df_sent` should have one column: `polarity`: The polarity of each token."
   ]
  },
  {
   "cell_type": "code",
   "execution_count": 30,
   "metadata": {
    "id": "TR_upovHapP9"
   },
   "outputs": [
    {
     "data": {
      "text/html": [
       "<div>\n",
       "<style scoped>\n",
       "    .dataframe tbody tr th:only-of-type {\n",
       "        vertical-align: middle;\n",
       "    }\n",
       "\n",
       "    .dataframe tbody tr th {\n",
       "        vertical-align: top;\n",
       "    }\n",
       "\n",
       "    .dataframe thead th {\n",
       "        text-align: right;\n",
       "    }\n",
       "</style>\n",
       "<table border=\"1\" class=\"dataframe\">\n",
       "  <thead>\n",
       "    <tr style=\"text-align: right;\">\n",
       "      <th></th>\n",
       "      <th>Polarity</th>\n",
       "    </tr>\n",
       "    <tr>\n",
       "      <th>0</th>\n",
       "      <th></th>\n",
       "    </tr>\n",
       "  </thead>\n",
       "  <tbody>\n",
       "    <tr>\n",
       "      <th>$:</th>\n",
       "      <td>-1.5</td>\n",
       "    </tr>\n",
       "    <tr>\n",
       "      <th>%)</th>\n",
       "      <td>-0.4</td>\n",
       "    </tr>\n",
       "    <tr>\n",
       "      <th>%-)</th>\n",
       "      <td>-1.5</td>\n",
       "    </tr>\n",
       "    <tr>\n",
       "      <th>&amp;-:</th>\n",
       "      <td>-0.4</td>\n",
       "    </tr>\n",
       "    <tr>\n",
       "      <th>&amp;:</th>\n",
       "      <td>-0.7</td>\n",
       "    </tr>\n",
       "    <tr>\n",
       "      <th>...</th>\n",
       "      <td>...</td>\n",
       "    </tr>\n",
       "    <tr>\n",
       "      <th>}:</th>\n",
       "      <td>-2.1</td>\n",
       "    </tr>\n",
       "    <tr>\n",
       "      <th>}:(</th>\n",
       "      <td>-2.0</td>\n",
       "    </tr>\n",
       "    <tr>\n",
       "      <th>}:)</th>\n",
       "      <td>0.4</td>\n",
       "    </tr>\n",
       "    <tr>\n",
       "      <th>}:-(</th>\n",
       "      <td>-2.1</td>\n",
       "    </tr>\n",
       "    <tr>\n",
       "      <th>}:-)</th>\n",
       "      <td>0.3</td>\n",
       "    </tr>\n",
       "  </tbody>\n",
       "</table>\n",
       "<p>7520 rows × 1 columns</p>\n",
       "</div>"
      ],
      "text/plain": [
       "      Polarity\n",
       "0             \n",
       "$:        -1.5\n",
       "%)        -0.4\n",
       "%-)       -1.5\n",
       "&-:       -0.4\n",
       "&:        -0.7\n",
       "...        ...\n",
       "}:        -2.1\n",
       "}:(       -2.0\n",
       "}:)        0.4\n",
       "}:-(      -2.1\n",
       "}:-)       0.3\n",
       "\n",
       "[7520 rows x 1 columns]"
      ]
     },
     "execution_count": 30,
     "metadata": {},
     "output_type": "execute_result"
    }
   ],
   "source": [
    "### BEGIN SOLUTION\n",
    "df_sent = pd.read_csv(\"data/vader_lexicon.txt\", sep=\"\\t\", index_col = 0, header=None)\n",
    "df_sent['Polarity'] = df_sent.iloc[:,[0]]\n",
    "df_sent = df_sent[['Polarity']]\n",
    "df_sent\n",
    "\n",
    "### END SOLUTION"
   ]
  },
  {
   "cell_type": "markdown",
   "metadata": {
    "id": "rP0VMBSFapP9"
   },
   "source": [
    "### Task 4.2\n",
    "\n",
    "Now, let's use this lexicon to calculate the overall sentiment for each of Trump's tweets. Here's the basic idea:\n",
    "\n",
    "1. For each tweet, find the sentiment of each word.\n",
    "2. Calculate the sentiment of each tweet by taking the sum of the sentiments of its words.\n",
    "\n",
    "First, let's lowercase the text in the tweets since the lexicon is also lowercase. Set the `text` column of the `df_trump` DF to be the lowercased text of each tweet."
   ]
  },
  {
   "cell_type": "code",
   "execution_count": 31,
   "metadata": {
    "id": "s5sBadfbapP9"
   },
   "outputs": [
    {
     "data": {
      "text/html": [
       "<div>\n",
       "<style scoped>\n",
       "    .dataframe tbody tr th:only-of-type {\n",
       "        vertical-align: middle;\n",
       "    }\n",
       "\n",
       "    .dataframe tbody tr th {\n",
       "        vertical-align: top;\n",
       "    }\n",
       "\n",
       "    .dataframe thead th {\n",
       "        text-align: right;\n",
       "    }\n",
       "</style>\n",
       "<table border=\"1\" class=\"dataframe\">\n",
       "  <thead>\n",
       "    <tr style=\"text-align: right;\">\n",
       "      <th></th>\n",
       "      <th>source</th>\n",
       "      <th>text</th>\n",
       "      <th>retweet_count</th>\n",
       "      <th>time</th>\n",
       "      <th>est_time</th>\n",
       "      <th>hour</th>\n",
       "      <th>roundhour</th>\n",
       "      <th>year</th>\n",
       "    </tr>\n",
       "    <tr>\n",
       "      <th>id</th>\n",
       "      <th></th>\n",
       "      <th></th>\n",
       "      <th></th>\n",
       "      <th></th>\n",
       "      <th></th>\n",
       "      <th></th>\n",
       "      <th></th>\n",
       "      <th></th>\n",
       "    </tr>\n",
       "  </thead>\n",
       "  <tbody>\n",
       "    <tr>\n",
       "      <th>682723973449289728</th>\n",
       "      <td>Twitter for Android</td>\n",
       "      <td>i will be on @foxnews live,  with members of my family, at 11:50 p.m. we will ring in the new year together! make america great again!</td>\n",
       "      <td>2108</td>\n",
       "      <td>2016-01-01 00:44:14+00:00</td>\n",
       "      <td>2015-12-31 19:44:14-05:00</td>\n",
       "      <td>19.737222</td>\n",
       "      <td>20.0</td>\n",
       "      <td>2016.000000</td>\n",
       "    </tr>\n",
       "    <tr>\n",
       "      <th>682764544402440192</th>\n",
       "      <td>Twitter for iPhone</td>\n",
       "      <td>happy new year &amp;amp; thank you! https://t.co/yo1yi8qbzy https://t.co/uxuxwj1rbv</td>\n",
       "      <td>3460</td>\n",
       "      <td>2016-01-01 03:25:27+00:00</td>\n",
       "      <td>2015-12-31 22:25:27-05:00</td>\n",
       "      <td>22.424167</td>\n",
       "      <td>22.0</td>\n",
       "      <td>2016.000000</td>\n",
       "    </tr>\n",
       "    <tr>\n",
       "      <th>682792967736848385</th>\n",
       "      <td>Twitter for iPhone</td>\n",
       "      <td>#happynewyearamerica! https://t.co/eeqb8pdrue</td>\n",
       "      <td>3434</td>\n",
       "      <td>2016-01-01 05:18:23+00:00</td>\n",
       "      <td>2016-01-01 00:18:23-05:00</td>\n",
       "      <td>0.306389</td>\n",
       "      <td>0.0</td>\n",
       "      <td>2016.000000</td>\n",
       "    </tr>\n",
       "    <tr>\n",
       "      <th>682805320217980929</th>\n",
       "      <td>Twitter for iPhone</td>\n",
       "      <td>happy new year from #maralago! thank you to my great family for all of their support. https://t.co/6usqsiaaj7</td>\n",
       "      <td>1948</td>\n",
       "      <td>2016-01-01 06:07:28+00:00</td>\n",
       "      <td>2016-01-01 01:07:28-05:00</td>\n",
       "      <td>1.124444</td>\n",
       "      <td>1.0</td>\n",
       "      <td>2016.000000</td>\n",
       "    </tr>\n",
       "    <tr>\n",
       "      <th>682805477168779264</th>\n",
       "      <td>Twitter for Android</td>\n",
       "      <td>\"@jallenaip: hillary said she was in a \"fog of war\" as explanation for the lies about benghazi. no fog allowed in wh. vote trump potus!\"</td>\n",
       "      <td>2721</td>\n",
       "      <td>2016-01-01 06:08:06+00:00</td>\n",
       "      <td>2016-01-01 01:08:06-05:00</td>\n",
       "      <td>1.135000</td>\n",
       "      <td>1.0</td>\n",
       "      <td>2016.000000</td>\n",
       "    </tr>\n",
       "    <tr>\n",
       "      <th>...</th>\n",
       "      <td>...</td>\n",
       "      <td>...</td>\n",
       "      <td>...</td>\n",
       "      <td>...</td>\n",
       "      <td>...</td>\n",
       "      <td>...</td>\n",
       "      <td>...</td>\n",
       "      <td>...</td>\n",
       "    </tr>\n",
       "    <tr>\n",
       "      <th>1052213711295930368</th>\n",
       "      <td>Twitter for iPhone</td>\n",
       "      <td>“federal judge throws out stormy danials lawsuit versus trump. trump is entitled to full legal fees.” @foxnews great, now i can go after horseface and her 3rd rate lawyer in the great state of texas. she will confirm the letter she signed! she knows nothing about me, a total ...</td>\n",
       "      <td>14594</td>\n",
       "      <td>2018-10-16 15:04:32+00:00</td>\n",
       "      <td>2018-10-16 10:04:32-05:00</td>\n",
       "      <td>10.075556</td>\n",
       "      <td>10.0</td>\n",
       "      <td>2018.789041</td>\n",
       "    </tr>\n",
       "    <tr>\n",
       "      <th>1052217314463100928</th>\n",
       "      <td>Twitter for iPhone</td>\n",
       "      <td>“conflict between glen simpson’s testimony to another house panel about his contact with justice department official bruce ohr. ohr was used by simpson and steele as a back channel to get (fake) dossier to fbi. simpson pleading fifth.” catherine herridge. where is jeff sessions?</td>\n",
       "      <td>6271</td>\n",
       "      <td>2018-10-16 15:18:51+00:00</td>\n",
       "      <td>2018-10-16 10:18:51-05:00</td>\n",
       "      <td>10.314167</td>\n",
       "      <td>10.0</td>\n",
       "      <td>2018.789041</td>\n",
       "    </tr>\n",
       "    <tr>\n",
       "      <th>1052219253384994816</th>\n",
       "      <td>Twitter for iPhone</td>\n",
       "      <td>is it really possible that bruce ohr, whose wife nellie was paid by simpson and gps fusion for work done on the fake dossier, and who was used as a pawn in this whole scam (witch hunt), is still working for the department of justice????? can this really be so?????</td>\n",
       "      <td>13103</td>\n",
       "      <td>2018-10-16 15:26:33+00:00</td>\n",
       "      <td>2018-10-16 10:26:33-05:00</td>\n",
       "      <td>10.442500</td>\n",
       "      <td>10.0</td>\n",
       "      <td>2018.789041</td>\n",
       "    </tr>\n",
       "    <tr>\n",
       "      <th>1052232230972678145</th>\n",
       "      <td>Twitter for iPhone</td>\n",
       "      <td>rt @whitehouse: https://t.co/rnqlpots3o</td>\n",
       "      <td>4478</td>\n",
       "      <td>2018-10-16 16:18:08+00:00</td>\n",
       "      <td>2018-10-16 11:18:08-05:00</td>\n",
       "      <td>11.302222</td>\n",
       "      <td>11.0</td>\n",
       "      <td>2018.789041</td>\n",
       "    </tr>\n",
       "    <tr>\n",
       "      <th>1052233253040640001</th>\n",
       "      <td>Twitter for iPhone</td>\n",
       "      <td>register to https://t.co/0pwiwchgbh! #maga🇺🇸 https://t.co/actme53tzu</td>\n",
       "      <td>5415</td>\n",
       "      <td>2018-10-16 16:22:11+00:00</td>\n",
       "      <td>2018-10-16 11:22:11-05:00</td>\n",
       "      <td>11.369722</td>\n",
       "      <td>11.0</td>\n",
       "      <td>2018.789041</td>\n",
       "    </tr>\n",
       "  </tbody>\n",
       "</table>\n",
       "<p>9478 rows × 8 columns</p>\n",
       "</div>"
      ],
      "text/plain": [
       "                                  source  \\\n",
       "id                                         \n",
       "682723973449289728   Twitter for Android   \n",
       "682764544402440192    Twitter for iPhone   \n",
       "682792967736848385    Twitter for iPhone   \n",
       "682805320217980929    Twitter for iPhone   \n",
       "682805477168779264   Twitter for Android   \n",
       "...                                  ...   \n",
       "1052213711295930368   Twitter for iPhone   \n",
       "1052217314463100928   Twitter for iPhone   \n",
       "1052219253384994816   Twitter for iPhone   \n",
       "1052232230972678145   Twitter for iPhone   \n",
       "1052233253040640001   Twitter for iPhone   \n",
       "\n",
       "                                                                                                                                                                                                                                                                                                        text  \\\n",
       "id                                                                                                                                                                                                                                                                                                             \n",
       "682723973449289728                                                                                                                                                    i will be on @foxnews live,  with members of my family, at 11:50 p.m. we will ring in the new year together! make america great again!   \n",
       "682764544402440192                                                                                                                                                                                                           happy new year &amp; thank you! https://t.co/yo1yi8qbzy https://t.co/uxuxwj1rbv   \n",
       "682792967736848385                                                                                                                                                                                                                                             #happynewyearamerica! https://t.co/eeqb8pdrue   \n",
       "682805320217980929                                                                                                                                                                             happy new year from #maralago! thank you to my great family for all of their support. https://t.co/6usqsiaaj7   \n",
       "682805477168779264                                                                                                                                                  \"@jallenaip: hillary said she was in a \"fog of war\" as explanation for the lies about benghazi. no fog allowed in wh. vote trump potus!\"   \n",
       "...                                                                                                                                                                                                                                                                                                      ...   \n",
       "1052213711295930368  “federal judge throws out stormy danials lawsuit versus trump. trump is entitled to full legal fees.” @foxnews great, now i can go after horseface and her 3rd rate lawyer in the great state of texas. she will confirm the letter she signed! she knows nothing about me, a total ...   \n",
       "1052217314463100928  “conflict between glen simpson’s testimony to another house panel about his contact with justice department official bruce ohr. ohr was used by simpson and steele as a back channel to get (fake) dossier to fbi. simpson pleading fifth.” catherine herridge. where is jeff sessions?   \n",
       "1052219253384994816                 is it really possible that bruce ohr, whose wife nellie was paid by simpson and gps fusion for work done on the fake dossier, and who was used as a pawn in this whole scam (witch hunt), is still working for the department of justice????? can this really be so?????   \n",
       "1052232230972678145                                                                                                                                                                                                                                                  rt @whitehouse: https://t.co/rnqlpots3o   \n",
       "1052233253040640001                                                                                                                                                                                                                     register to https://t.co/0pwiwchgbh! #maga🇺🇸 https://t.co/actme53tzu   \n",
       "\n",
       "                     retweet_count                      time  \\\n",
       "id                                                             \n",
       "682723973449289728            2108 2016-01-01 00:44:14+00:00   \n",
       "682764544402440192            3460 2016-01-01 03:25:27+00:00   \n",
       "682792967736848385            3434 2016-01-01 05:18:23+00:00   \n",
       "682805320217980929            1948 2016-01-01 06:07:28+00:00   \n",
       "682805477168779264            2721 2016-01-01 06:08:06+00:00   \n",
       "...                            ...                       ...   \n",
       "1052213711295930368          14594 2018-10-16 15:04:32+00:00   \n",
       "1052217314463100928           6271 2018-10-16 15:18:51+00:00   \n",
       "1052219253384994816          13103 2018-10-16 15:26:33+00:00   \n",
       "1052232230972678145           4478 2018-10-16 16:18:08+00:00   \n",
       "1052233253040640001           5415 2018-10-16 16:22:11+00:00   \n",
       "\n",
       "                                     est_time       hour  roundhour  \\\n",
       "id                                                                    \n",
       "682723973449289728  2015-12-31 19:44:14-05:00  19.737222       20.0   \n",
       "682764544402440192  2015-12-31 22:25:27-05:00  22.424167       22.0   \n",
       "682792967736848385  2016-01-01 00:18:23-05:00   0.306389        0.0   \n",
       "682805320217980929  2016-01-01 01:07:28-05:00   1.124444        1.0   \n",
       "682805477168779264  2016-01-01 01:08:06-05:00   1.135000        1.0   \n",
       "...                                       ...        ...        ...   \n",
       "1052213711295930368 2018-10-16 10:04:32-05:00  10.075556       10.0   \n",
       "1052217314463100928 2018-10-16 10:18:51-05:00  10.314167       10.0   \n",
       "1052219253384994816 2018-10-16 10:26:33-05:00  10.442500       10.0   \n",
       "1052232230972678145 2018-10-16 11:18:08-05:00  11.302222       11.0   \n",
       "1052233253040640001 2018-10-16 11:22:11-05:00  11.369722       11.0   \n",
       "\n",
       "                            year  \n",
       "id                                \n",
       "682723973449289728   2016.000000  \n",
       "682764544402440192   2016.000000  \n",
       "682792967736848385   2016.000000  \n",
       "682805320217980929   2016.000000  \n",
       "682805477168779264   2016.000000  \n",
       "...                          ...  \n",
       "1052213711295930368  2018.789041  \n",
       "1052217314463100928  2018.789041  \n",
       "1052219253384994816  2018.789041  \n",
       "1052232230972678145  2018.789041  \n",
       "1052233253040640001  2018.789041  \n",
       "\n",
       "[9478 rows x 8 columns]"
      ]
     },
     "execution_count": 31,
     "metadata": {},
     "output_type": "execute_result"
    }
   ],
   "source": [
    "### BEGIN SOLUTION\n",
    "df_trump['text'] = df_trump['text'].str.lower()\n",
    "df_trump\n",
    "\n",
    "### END SOLUTION"
   ]
  },
  {
   "cell_type": "markdown",
   "metadata": {
    "id": "cqK4HQNVapP-"
   },
   "source": [
    "### Task 4.3\n",
    "\n",
    "Now, let's get rid of punctuation since it'll cause us to fail to match words. Create a new column called `no_punc` in the `df_trump` to be the lowercased text of each tweet with all punctuation replaced by a single space. We consider punctuation characters to be any character that isn't a Unicode word character or a whitespace character. You may want to consult the Python documentation on regexes for this problem.\n",
    "\n",
    "(Why don't we simply remove punctuation instead of replacing with a space? See if you can figure this out by looking at the tweet data.)"
   ]
  },
  {
   "cell_type": "code",
   "execution_count": 32,
   "metadata": {
    "id": "QNAvW1axapP-"
   },
   "outputs": [],
   "source": [
    "# Save your regex in punct_re\n",
    "punct_re = r'[^\\w\\s\\\\n]'\n",
    "\n",
    "\n",
    "### BEGIN SOLUTION\n",
    "df_trump['no_punc'] = df_trump['text'].apply(lambda s: re.sub(punct_re, \" \", s))\n",
    "\n",
    "\n",
    "### END SOLUTION"
   ]
  },
  {
   "cell_type": "code",
   "execution_count": 33,
   "metadata": {
    "id": "fmaOn2D7apP-"
   },
   "outputs": [],
   "source": [
    "assert isinstance(punct_re, str)\n",
    "assert re.search(punct_re, 'this') is None\n",
    "assert re.search(punct_re, 'this is ok') is None\n",
    "assert re.search(punct_re, 'this is\\nok') is None\n",
    "assert re.search(punct_re, 'this is not ok.') is not None\n",
    "assert re.search(punct_re, 'this#is#ok') is not None\n",
    "assert re.search(punct_re, 'this^is ok') is not None\n",
    "assert df_trump['no_punc'].loc[800329364986626048] == 'i watched parts of  nbcsnl saturday night live last night  it is a totally one sided  biased show   nothing funny at all  equal time for us '\n",
    "assert df_trump['text'].loc[884740553040175104] == 'working hard to get the olympics for the united states (l.a.). stay tuned!'\n"
   ]
  },
  {
   "cell_type": "markdown",
   "metadata": {
    "id": "2KsT--c-apP-"
   },
   "source": [
    "### Task 4.4\n",
    "\n",
    "\n",
    "Now, let's convert the tweets into what's called a [*tidy format*](https://cran.r-project.org/web/packages/tidyr/vignettes/tidy-data.html) to make the sentiments easier to calculate. Use the `no_punc` column of `df_trump` to create a table called `tidy_format`. The index of the table should be the IDs of the tweets, repeated once for every word in the tweet. It has two columns:\n",
    "\n",
    "1. `num`: The location of the word in the tweet. For example, if the tweet was \"i love america\", then the location of the word \"i\" is 0, \"love\" is 1, and \"america\" is 2.\n",
    "2. `word`: The individual words of each tweet.\n",
    "\n",
    "The first few rows of our `tidy_format` table look like:\n",
    "\n",
    "<table border=\"1\" class=\"dataframe\">\n",
    "  <thead>\n",
    "    <tr style=\"text-align: right;\">\n",
    "      <th></th>\n",
    "      <th>num</th>\n",
    "      <th>word</th>\n",
    "    </tr>\n",
    "  </thead>\n",
    "  <tbody>\n",
    "    <tr>\n",
    "      <th>894661651760377856</th>\n",
    "      <td>0</td>\n",
    "      <td>i</td>\n",
    "    </tr>\n",
    "    <tr>\n",
    "      <th>894661651760377856</th>\n",
    "      <td>1</td>\n",
    "      <td>think</td>\n",
    "    </tr>\n",
    "    <tr>\n",
    "      <th>894661651760377856</th>\n",
    "      <td>2</td>\n",
    "      <td>senator</td>\n",
    "    </tr>\n",
    "    <tr>\n",
    "      <th>894661651760377856</th>\n",
    "      <td>3</td>\n",
    "      <td>blumenthal</td>\n",
    "    </tr>\n",
    "    <tr>\n",
    "      <th>894661651760377856</th>\n",
    "      <td>4</td>\n",
    "      <td>should</td>\n",
    "    </tr>\n",
    "  </tbody>\n",
    "</table>\n",
    "\n",
    "You can double check that your tweet with ID `894661651760377856` has the same rows as ours. Our tests don't check whether your table looks exactly like ours.\n",
    "\n",
    "As usual, try to avoid using any for loops. Our solution uses a chain of 5 methods on the 'trump' DF, albeit using some rather advanced Pandas hacking.\n",
    "\n",
    "* **Hint 1:** Try looking at the `expand` argument to pandas' `str.split`.\n",
    "\n",
    "* **Hint 2:** Try looking at the `stack()` method.\n",
    "\n",
    "* **Hint 3:** Try looking at the `level` parameter of the `reset_index` method."
   ]
  },
  {
   "cell_type": "code",
   "execution_count": 34,
   "metadata": {
    "id": "BqaENYt3apP-"
   },
   "outputs": [
    {
     "data": {
      "text/html": [
       "<div>\n",
       "<style scoped>\n",
       "    .dataframe tbody tr th:only-of-type {\n",
       "        vertical-align: middle;\n",
       "    }\n",
       "\n",
       "    .dataframe tbody tr th {\n",
       "        vertical-align: top;\n",
       "    }\n",
       "\n",
       "    .dataframe thead th {\n",
       "        text-align: right;\n",
       "    }\n",
       "</style>\n",
       "<table border=\"1\" class=\"dataframe\">\n",
       "  <thead>\n",
       "    <tr style=\"text-align: right;\">\n",
       "      <th></th>\n",
       "      <th>num</th>\n",
       "      <th>word</th>\n",
       "    </tr>\n",
       "    <tr>\n",
       "      <th>id</th>\n",
       "      <th></th>\n",
       "      <th></th>\n",
       "    </tr>\n",
       "  </thead>\n",
       "  <tbody>\n",
       "    <tr>\n",
       "      <th>682723973449289728</th>\n",
       "      <td>0</td>\n",
       "      <td>i</td>\n",
       "    </tr>\n",
       "    <tr>\n",
       "      <th>682723973449289728</th>\n",
       "      <td>1</td>\n",
       "      <td>will</td>\n",
       "    </tr>\n",
       "    <tr>\n",
       "      <th>682723973449289728</th>\n",
       "      <td>2</td>\n",
       "      <td>be</td>\n",
       "    </tr>\n",
       "    <tr>\n",
       "      <th>682723973449289728</th>\n",
       "      <td>3</td>\n",
       "      <td>on</td>\n",
       "    </tr>\n",
       "    <tr>\n",
       "      <th>682723973449289728</th>\n",
       "      <td>4</td>\n",
       "      <td>foxnews</td>\n",
       "    </tr>\n",
       "    <tr>\n",
       "      <th>...</th>\n",
       "      <td>...</td>\n",
       "      <td>...</td>\n",
       "    </tr>\n",
       "    <tr>\n",
       "      <th>1052233253040640001</th>\n",
       "      <td>6</td>\n",
       "      <td>maga</td>\n",
       "    </tr>\n",
       "    <tr>\n",
       "      <th>1052233253040640001</th>\n",
       "      <td>7</td>\n",
       "      <td>https</td>\n",
       "    </tr>\n",
       "    <tr>\n",
       "      <th>1052233253040640001</th>\n",
       "      <td>8</td>\n",
       "      <td>t</td>\n",
       "    </tr>\n",
       "    <tr>\n",
       "      <th>1052233253040640001</th>\n",
       "      <td>9</td>\n",
       "      <td>co</td>\n",
       "    </tr>\n",
       "    <tr>\n",
       "      <th>1052233253040640001</th>\n",
       "      <td>10</td>\n",
       "      <td>actme53tzu</td>\n",
       "    </tr>\n",
       "  </tbody>\n",
       "</table>\n",
       "<p>225001 rows × 2 columns</p>\n",
       "</div>"
      ],
      "text/plain": [
       "                     num        word\n",
       "id                                  \n",
       "682723973449289728     0           i\n",
       "682723973449289728     1        will\n",
       "682723973449289728     2          be\n",
       "682723973449289728     3          on\n",
       "682723973449289728     4     foxnews\n",
       "...                  ...         ...\n",
       "1052233253040640001    6        maga\n",
       "1052233253040640001    7       https\n",
       "1052233253040640001    8           t\n",
       "1052233253040640001    9          co\n",
       "1052233253040640001   10  actme53tzu\n",
       "\n",
       "[225001 rows x 2 columns]"
      ]
     },
     "execution_count": 34,
     "metadata": {},
     "output_type": "execute_result"
    }
   ],
   "source": [
    "#tidy_format = ...\n",
    "\n",
    "### BEGIN SOLUTION\n",
    "tidy_format = df_trump['no_punc'].str.split(expand=True).stack().reset_index().set_index('id').rename({'level_1':'num', 0:'word'}, axis = 1)\n",
    "#tidy_format.loc[894661651760377856]\n",
    "tidy_format\n",
    "### END SOLUTION"
   ]
  },
  {
   "cell_type": "code",
   "execution_count": 35,
   "metadata": {
    "id": "WPHMJKK1apP-"
   },
   "outputs": [],
   "source": [
    "assert tidy_format.loc[894661651760377856].shape == (27, 2)\n",
    "assert ' '.join(list(tidy_format.loc[894661651760377856]['word'])) == 'i think senator blumenthal should take a nice long vacation in vietnam where he lied about his service so he can at least say he was there'"
   ]
  },
  {
   "cell_type": "markdown",
   "metadata": {
    "id": "LCkJmueyapP-"
   },
   "source": [
    "### Task 4.5\n",
    "\n",
    "Now that we have this table in the tidy format, it becomes much easier to find the sentiment of each tweet: we can join the table with the lexicon table. \n",
    "\n",
    "Add a `polarity` column to the `df_trump` table.  The `polarity` column should contain the sum of the sentiment polarity of each word in the text of the tweet.\n",
    "\n",
    "**Hint** you will need to merge the `tidy_format` and `df_sent` tables and group the final answer.\n"
   ]
  },
  {
   "cell_type": "code",
   "execution_count": 36,
   "metadata": {
    "id": "Aem_gXlMapP-"
   },
   "outputs": [
    {
     "data": {
      "text/html": [
       "<div>\n",
       "<style scoped>\n",
       "    .dataframe tbody tr th:only-of-type {\n",
       "        vertical-align: middle;\n",
       "    }\n",
       "\n",
       "    .dataframe tbody tr th {\n",
       "        vertical-align: top;\n",
       "    }\n",
       "\n",
       "    .dataframe thead th {\n",
       "        text-align: right;\n",
       "    }\n",
       "</style>\n",
       "<table border=\"1\" class=\"dataframe\">\n",
       "  <thead>\n",
       "    <tr style=\"text-align: right;\">\n",
       "      <th></th>\n",
       "      <th>source</th>\n",
       "      <th>text</th>\n",
       "      <th>retweet_count</th>\n",
       "      <th>time</th>\n",
       "      <th>est_time</th>\n",
       "      <th>hour</th>\n",
       "      <th>roundhour</th>\n",
       "      <th>year</th>\n",
       "      <th>no_punc</th>\n",
       "      <th>polarity</th>\n",
       "    </tr>\n",
       "    <tr>\n",
       "      <th>id</th>\n",
       "      <th></th>\n",
       "      <th></th>\n",
       "      <th></th>\n",
       "      <th></th>\n",
       "      <th></th>\n",
       "      <th></th>\n",
       "      <th></th>\n",
       "      <th></th>\n",
       "      <th></th>\n",
       "      <th></th>\n",
       "    </tr>\n",
       "  </thead>\n",
       "  <tbody>\n",
       "    <tr>\n",
       "      <th>682723973449289728</th>\n",
       "      <td>Twitter for Android</td>\n",
       "      <td>i will be on @foxnews live,  with members of my family, at 11:50 p.m. we will ring in the new year together! make america great again!</td>\n",
       "      <td>2108</td>\n",
       "      <td>2016-01-01 00:44:14+00:00</td>\n",
       "      <td>2015-12-31 19:44:14-05:00</td>\n",
       "      <td>19.737222</td>\n",
       "      <td>20.0</td>\n",
       "      <td>2016.000000</td>\n",
       "      <td>i will be on  foxnews live   with members of my family  at 11 50 p m  we will ring in the new year together  make america great again</td>\n",
       "      <td>3.1</td>\n",
       "    </tr>\n",
       "    <tr>\n",
       "      <th>682764544402440192</th>\n",
       "      <td>Twitter for iPhone</td>\n",
       "      <td>happy new year &amp;amp; thank you! https://t.co/yo1yi8qbzy https://t.co/uxuxwj1rbv</td>\n",
       "      <td>3460</td>\n",
       "      <td>2016-01-01 03:25:27+00:00</td>\n",
       "      <td>2015-12-31 22:25:27-05:00</td>\n",
       "      <td>22.424167</td>\n",
       "      <td>22.0</td>\n",
       "      <td>2016.000000</td>\n",
       "      <td>happy new year  amp  thank you  https   t co yo1yi8qbzy https   t co uxuxwj1rbv</td>\n",
       "      <td>4.2</td>\n",
       "    </tr>\n",
       "    <tr>\n",
       "      <th>682792967736848385</th>\n",
       "      <td>Twitter for iPhone</td>\n",
       "      <td>#happynewyearamerica! https://t.co/eeqb8pdrue</td>\n",
       "      <td>3434</td>\n",
       "      <td>2016-01-01 05:18:23+00:00</td>\n",
       "      <td>2016-01-01 00:18:23-05:00</td>\n",
       "      <td>0.306389</td>\n",
       "      <td>0.0</td>\n",
       "      <td>2016.000000</td>\n",
       "      <td>happynewyearamerica  https   t co eeqb8pdrue</td>\n",
       "      <td>0.0</td>\n",
       "    </tr>\n",
       "    <tr>\n",
       "      <th>682805320217980929</th>\n",
       "      <td>Twitter for iPhone</td>\n",
       "      <td>happy new year from #maralago! thank you to my great family for all of their support. https://t.co/6usqsiaaj7</td>\n",
       "      <td>1948</td>\n",
       "      <td>2016-01-01 06:07:28+00:00</td>\n",
       "      <td>2016-01-01 01:07:28-05:00</td>\n",
       "      <td>1.124444</td>\n",
       "      <td>1.0</td>\n",
       "      <td>2016.000000</td>\n",
       "      <td>happy new year from  maralago  thank you to my great family for all of their support  https   t co 6usqsiaaj7</td>\n",
       "      <td>9.0</td>\n",
       "    </tr>\n",
       "    <tr>\n",
       "      <th>682805477168779264</th>\n",
       "      <td>Twitter for Android</td>\n",
       "      <td>\"@jallenaip: hillary said she was in a \"fog of war\" as explanation for the lies about benghazi. no fog allowed in wh. vote trump potus!\"</td>\n",
       "      <td>2721</td>\n",
       "      <td>2016-01-01 06:08:06+00:00</td>\n",
       "      <td>2016-01-01 01:08:06-05:00</td>\n",
       "      <td>1.135000</td>\n",
       "      <td>1.0</td>\n",
       "      <td>2016.000000</td>\n",
       "      <td>jallenaip  hillary said she was in a  fog of war  as explanation for the lies about benghazi  no fog allowed in wh  vote trump potus</td>\n",
       "      <td>-5.9</td>\n",
       "    </tr>\n",
       "    <tr>\n",
       "      <th>...</th>\n",
       "      <td>...</td>\n",
       "      <td>...</td>\n",
       "      <td>...</td>\n",
       "      <td>...</td>\n",
       "      <td>...</td>\n",
       "      <td>...</td>\n",
       "      <td>...</td>\n",
       "      <td>...</td>\n",
       "      <td>...</td>\n",
       "      <td>...</td>\n",
       "    </tr>\n",
       "    <tr>\n",
       "      <th>1052213711295930368</th>\n",
       "      <td>Twitter for iPhone</td>\n",
       "      <td>“federal judge throws out stormy danials lawsuit versus trump. trump is entitled to full legal fees.” @foxnews great, now i can go after horseface and her 3rd rate lawyer in the great state of texas. she will confirm the letter she signed! she knows nothing about me, a total ...</td>\n",
       "      <td>14594</td>\n",
       "      <td>2018-10-16 15:04:32+00:00</td>\n",
       "      <td>2018-10-16 10:04:32-05:00</td>\n",
       "      <td>10.075556</td>\n",
       "      <td>10.0</td>\n",
       "      <td>2018.789041</td>\n",
       "      <td>federal judge throws out stormy danials lawsuit versus trump  trump is entitled to full legal fees    foxnews great  now i can go after horseface and her 3rd rate lawyer in the great state of texas  she will confirm the letter she signed  she knows nothing about me  a total ...</td>\n",
       "      <td>6.9</td>\n",
       "    </tr>\n",
       "    <tr>\n",
       "      <th>1052217314463100928</th>\n",
       "      <td>Twitter for iPhone</td>\n",
       "      <td>“conflict between glen simpson’s testimony to another house panel about his contact with justice department official bruce ohr. ohr was used by simpson and steele as a back channel to get (fake) dossier to fbi. simpson pleading fifth.” catherine herridge. where is jeff sessions?</td>\n",
       "      <td>6271</td>\n",
       "      <td>2018-10-16 15:18:51+00:00</td>\n",
       "      <td>2018-10-16 10:18:51-05:00</td>\n",
       "      <td>10.314167</td>\n",
       "      <td>10.0</td>\n",
       "      <td>2018.789041</td>\n",
       "      <td>conflict between glen simpson s testimony to another house panel about his contact with justice department official bruce ohr  ohr was used by simpson and steele as a back channel to get  fake  dossier to fbi  simpson pleading fifth   catherine herridge  where is jeff sessions</td>\n",
       "      <td>-1.0</td>\n",
       "    </tr>\n",
       "    <tr>\n",
       "      <th>1052219253384994816</th>\n",
       "      <td>Twitter for iPhone</td>\n",
       "      <td>is it really possible that bruce ohr, whose wife nellie was paid by simpson and gps fusion for work done on the fake dossier, and who was used as a pawn in this whole scam (witch hunt), is still working for the department of justice????? can this really be so?????</td>\n",
       "      <td>13103</td>\n",
       "      <td>2018-10-16 15:26:33+00:00</td>\n",
       "      <td>2018-10-16 10:26:33-05:00</td>\n",
       "      <td>10.442500</td>\n",
       "      <td>10.0</td>\n",
       "      <td>2018.789041</td>\n",
       "      <td>is it really possible that bruce ohr  whose wife nellie was paid by simpson and gps fusion for work done on the fake dossier  and who was used as a pawn in this whole scam  witch hunt   is still working for the department of justice      can this really be so</td>\n",
       "      <td>-3.9</td>\n",
       "    </tr>\n",
       "    <tr>\n",
       "      <th>1052232230972678145</th>\n",
       "      <td>Twitter for iPhone</td>\n",
       "      <td>rt @whitehouse: https://t.co/rnqlpots3o</td>\n",
       "      <td>4478</td>\n",
       "      <td>2018-10-16 16:18:08+00:00</td>\n",
       "      <td>2018-10-16 11:18:08-05:00</td>\n",
       "      <td>11.302222</td>\n",
       "      <td>11.0</td>\n",
       "      <td>2018.789041</td>\n",
       "      <td>rt  whitehouse  https   t co rnqlpots3o</td>\n",
       "      <td>0.0</td>\n",
       "    </tr>\n",
       "    <tr>\n",
       "      <th>1052233253040640001</th>\n",
       "      <td>Twitter for iPhone</td>\n",
       "      <td>register to https://t.co/0pwiwchgbh! #maga🇺🇸 https://t.co/actme53tzu</td>\n",
       "      <td>5415</td>\n",
       "      <td>2018-10-16 16:22:11+00:00</td>\n",
       "      <td>2018-10-16 11:22:11-05:00</td>\n",
       "      <td>11.369722</td>\n",
       "      <td>11.0</td>\n",
       "      <td>2018.789041</td>\n",
       "      <td>register to https   t co 0pwiwchgbh   maga   https   t co actme53tzu</td>\n",
       "      <td>0.0</td>\n",
       "    </tr>\n",
       "  </tbody>\n",
       "</table>\n",
       "<p>9478 rows × 10 columns</p>\n",
       "</div>"
      ],
      "text/plain": [
       "                                  source  \\\n",
       "id                                         \n",
       "682723973449289728   Twitter for Android   \n",
       "682764544402440192    Twitter for iPhone   \n",
       "682792967736848385    Twitter for iPhone   \n",
       "682805320217980929    Twitter for iPhone   \n",
       "682805477168779264   Twitter for Android   \n",
       "...                                  ...   \n",
       "1052213711295930368   Twitter for iPhone   \n",
       "1052217314463100928   Twitter for iPhone   \n",
       "1052219253384994816   Twitter for iPhone   \n",
       "1052232230972678145   Twitter for iPhone   \n",
       "1052233253040640001   Twitter for iPhone   \n",
       "\n",
       "                                                                                                                                                                                                                                                                                                        text  \\\n",
       "id                                                                                                                                                                                                                                                                                                             \n",
       "682723973449289728                                                                                                                                                    i will be on @foxnews live,  with members of my family, at 11:50 p.m. we will ring in the new year together! make america great again!   \n",
       "682764544402440192                                                                                                                                                                                                           happy new year &amp; thank you! https://t.co/yo1yi8qbzy https://t.co/uxuxwj1rbv   \n",
       "682792967736848385                                                                                                                                                                                                                                             #happynewyearamerica! https://t.co/eeqb8pdrue   \n",
       "682805320217980929                                                                                                                                                                             happy new year from #maralago! thank you to my great family for all of their support. https://t.co/6usqsiaaj7   \n",
       "682805477168779264                                                                                                                                                  \"@jallenaip: hillary said she was in a \"fog of war\" as explanation for the lies about benghazi. no fog allowed in wh. vote trump potus!\"   \n",
       "...                                                                                                                                                                                                                                                                                                      ...   \n",
       "1052213711295930368  “federal judge throws out stormy danials lawsuit versus trump. trump is entitled to full legal fees.” @foxnews great, now i can go after horseface and her 3rd rate lawyer in the great state of texas. she will confirm the letter she signed! she knows nothing about me, a total ...   \n",
       "1052217314463100928  “conflict between glen simpson’s testimony to another house panel about his contact with justice department official bruce ohr. ohr was used by simpson and steele as a back channel to get (fake) dossier to fbi. simpson pleading fifth.” catherine herridge. where is jeff sessions?   \n",
       "1052219253384994816                 is it really possible that bruce ohr, whose wife nellie was paid by simpson and gps fusion for work done on the fake dossier, and who was used as a pawn in this whole scam (witch hunt), is still working for the department of justice????? can this really be so?????   \n",
       "1052232230972678145                                                                                                                                                                                                                                                  rt @whitehouse: https://t.co/rnqlpots3o   \n",
       "1052233253040640001                                                                                                                                                                                                                     register to https://t.co/0pwiwchgbh! #maga🇺🇸 https://t.co/actme53tzu   \n",
       "\n",
       "                     retweet_count                      time  \\\n",
       "id                                                             \n",
       "682723973449289728            2108 2016-01-01 00:44:14+00:00   \n",
       "682764544402440192            3460 2016-01-01 03:25:27+00:00   \n",
       "682792967736848385            3434 2016-01-01 05:18:23+00:00   \n",
       "682805320217980929            1948 2016-01-01 06:07:28+00:00   \n",
       "682805477168779264            2721 2016-01-01 06:08:06+00:00   \n",
       "...                            ...                       ...   \n",
       "1052213711295930368          14594 2018-10-16 15:04:32+00:00   \n",
       "1052217314463100928           6271 2018-10-16 15:18:51+00:00   \n",
       "1052219253384994816          13103 2018-10-16 15:26:33+00:00   \n",
       "1052232230972678145           4478 2018-10-16 16:18:08+00:00   \n",
       "1052233253040640001           5415 2018-10-16 16:22:11+00:00   \n",
       "\n",
       "                                     est_time       hour  roundhour  \\\n",
       "id                                                                    \n",
       "682723973449289728  2015-12-31 19:44:14-05:00  19.737222       20.0   \n",
       "682764544402440192  2015-12-31 22:25:27-05:00  22.424167       22.0   \n",
       "682792967736848385  2016-01-01 00:18:23-05:00   0.306389        0.0   \n",
       "682805320217980929  2016-01-01 01:07:28-05:00   1.124444        1.0   \n",
       "682805477168779264  2016-01-01 01:08:06-05:00   1.135000        1.0   \n",
       "...                                       ...        ...        ...   \n",
       "1052213711295930368 2018-10-16 10:04:32-05:00  10.075556       10.0   \n",
       "1052217314463100928 2018-10-16 10:18:51-05:00  10.314167       10.0   \n",
       "1052219253384994816 2018-10-16 10:26:33-05:00  10.442500       10.0   \n",
       "1052232230972678145 2018-10-16 11:18:08-05:00  11.302222       11.0   \n",
       "1052233253040640001 2018-10-16 11:22:11-05:00  11.369722       11.0   \n",
       "\n",
       "                            year  \\\n",
       "id                                 \n",
       "682723973449289728   2016.000000   \n",
       "682764544402440192   2016.000000   \n",
       "682792967736848385   2016.000000   \n",
       "682805320217980929   2016.000000   \n",
       "682805477168779264   2016.000000   \n",
       "...                          ...   \n",
       "1052213711295930368  2018.789041   \n",
       "1052217314463100928  2018.789041   \n",
       "1052219253384994816  2018.789041   \n",
       "1052232230972678145  2018.789041   \n",
       "1052233253040640001  2018.789041   \n",
       "\n",
       "                                                                                                                                                                                                                                                                                                     no_punc  \\\n",
       "id                                                                                                                                                                                                                                                                                                             \n",
       "682723973449289728                                                                                                                                                    i will be on  foxnews live   with members of my family  at 11 50 p m  we will ring in the new year together  make america great again    \n",
       "682764544402440192                                                                                                                                                                                                           happy new year  amp  thank you  https   t co yo1yi8qbzy https   t co uxuxwj1rbv   \n",
       "682792967736848385                                                                                                                                                                                                                                              happynewyearamerica  https   t co eeqb8pdrue   \n",
       "682805320217980929                                                                                                                                                                             happy new year from  maralago  thank you to my great family for all of their support  https   t co 6usqsiaaj7   \n",
       "682805477168779264                                                                                                                                                    jallenaip  hillary said she was in a  fog of war  as explanation for the lies about benghazi  no fog allowed in wh  vote trump potus     \n",
       "...                                                                                                                                                                                                                                                                                                      ...   \n",
       "1052213711295930368   federal judge throws out stormy danials lawsuit versus trump  trump is entitled to full legal fees    foxnews great  now i can go after horseface and her 3rd rate lawyer in the great state of texas  she will confirm the letter she signed  she knows nothing about me  a total ...   \n",
       "1052217314463100928   conflict between glen simpson s testimony to another house panel about his contact with justice department official bruce ohr  ohr was used by simpson and steele as a back channel to get  fake  dossier to fbi  simpson pleading fifth   catherine herridge  where is jeff sessions    \n",
       "1052219253384994816                 is it really possible that bruce ohr  whose wife nellie was paid by simpson and gps fusion for work done on the fake dossier  and who was used as a pawn in this whole scam  witch hunt   is still working for the department of justice      can this really be so        \n",
       "1052232230972678145                                                                                                                                                                                                                                                  rt  whitehouse  https   t co rnqlpots3o   \n",
       "1052233253040640001                                                                                                                                                                                                                     register to https   t co 0pwiwchgbh   maga   https   t co actme53tzu   \n",
       "\n",
       "                     polarity  \n",
       "id                             \n",
       "682723973449289728        3.1  \n",
       "682764544402440192        4.2  \n",
       "682792967736848385        0.0  \n",
       "682805320217980929        9.0  \n",
       "682805477168779264       -5.9  \n",
       "...                       ...  \n",
       "1052213711295930368       6.9  \n",
       "1052217314463100928      -1.0  \n",
       "1052219253384994816      -3.9  \n",
       "1052232230972678145       0.0  \n",
       "1052233253040640001       0.0  \n",
       "\n",
       "[9478 rows x 10 columns]"
      ]
     },
     "execution_count": 36,
     "metadata": {},
     "output_type": "execute_result"
    }
   ],
   "source": [
    "#df_trump['polarity'] = ...\n",
    "\n",
    "### BEGIN SOLUTION\n",
    "df_trump['polarity'] = tidy_format.merge(df_sent, left_on='word', right_index=True).groupby('id').sum()['Polarity']\n",
    "df_trump['polarity'] = df_trump['polarity'].fillna(0.0)\n",
    "df_trump\n",
    "### END SOLUTION"
   ]
  },
  {
   "cell_type": "code",
   "execution_count": 37,
   "metadata": {
    "id": "mhgNONHiapP-"
   },
   "outputs": [],
   "source": [
    "assert np.allclose(df_trump.loc[744701872456536064, 'polarity'], 8.4)\n",
    "assert np.allclose(df_trump.loc[745304731346702336, 'polarity'], 2.5)\n",
    "assert np.allclose(df_trump.loc[744519497764184064, 'polarity'], 1.7)\n",
    "assert np.allclose(df_trump.loc[894661651760377856, 'polarity'], 0.2)\n",
    "assert np.allclose(df_trump.loc[894620077634592769, 'polarity'], 5.4)\n",
    "# If you fail this test, you dropped tweets with 0 polarity\n",
    "#assert np.allclose(df_trump.loc[744355251365511169, 'polarity'], 0.0)\n"
   ]
  },
  {
   "cell_type": "markdown",
   "metadata": {
    "id": "7iNmWEDNapP-"
   },
   "source": [
    "### Task 4.6\n",
    "Now we have a measure of the sentiment of each of his tweets! You can read over the VADER readme to understand a more robust sentiment analysis.\n",
    "Now, write the code to see the most positive and most negative tweets from Trump in your dataset:\n",
    "Find the most negative and most positive tweets made by Trump"
   ]
  },
  {
   "cell_type": "code",
   "execution_count": 38,
   "metadata": {
    "id": "MFanLgGlapP-"
   },
   "outputs": [
    {
     "name": "stdout",
     "output_type": "stream",
     "text": [
      "Most negative tweets:\n"
     ]
    },
    {
     "data": {
      "text/plain": [
       "source                                                                                                                                                                                                                                                                               Twitter for iPhone\n",
       "text             it is outrageous that poisonous synthetic heroin fentanyl comes pouring into the u.s. postal system from china. we can, and must, end this now! the senate should pass the stop act – and firmly stop this poison from killing our children and destroying our country. no more delay!\n",
       "retweet_count                                                                                                                                                                                                                                                                                     28007\n",
       "time                                                                                                                                                                                                                                                                          2018-08-20 17:14:59+00:00\n",
       "est_time                                                                                                                                                                                                                                                                      2018-08-20 12:14:59-05:00\n",
       "hour                                                                                                                                                                                                                                                                                          12.249722\n",
       "roundhour                                                                                                                                                                                                                                                                                          12.0\n",
       "year                                                                                                                                                                                                                                                                                        2018.632877\n",
       "no_punc          it is outrageous that poisonous synthetic heroin fentanyl comes pouring into the u s  postal system from china  we can  and must  end this now  the senate should pass the stop act   and firmly stop this poison from killing our children and destroying our country  no more delay \n",
       "polarity                                                                                                                                                                                                                                                                                          -20.3\n",
       "Name: 1031590431379865600, dtype: object"
      ]
     },
     "execution_count": 38,
     "metadata": {},
     "output_type": "execute_result"
    }
   ],
   "source": [
    "### BEGIN SOLUTION\n",
    "\n",
    "print('Most negative tweets:')\n",
    "df_trump.loc[df_trump['polarity'].idxmin()]\n",
    "### END SOLUTION"
   ]
  },
  {
   "cell_type": "code",
   "execution_count": 39,
   "metadata": {
    "id": "b66zMSi6apP_"
   },
   "outputs": [
    {
     "name": "stdout",
     "output_type": "stream",
     "text": [
      "Most positive tweets:\n"
     ]
    },
    {
     "data": {
      "text/plain": [
       "source                                                                                                                                                                                                                Twitter for iPhone\n",
       "text             congratulations to patrick reed on his great and courageous masters win! when patrick had his amazing win at doral 5 years ago, people saw his great talent, and a bright future ahead. now he is the masters champion!\n",
       "retweet_count                                                                                                                                                                                                                      12169\n",
       "time                                                                                                                                                                                                           2018-04-09 00:43:27+00:00\n",
       "est_time                                                                                                                                                                                                       2018-04-08 19:43:27-05:00\n",
       "hour                                                                                                                                                                                                                           19.724167\n",
       "roundhour                                                                                                                                                                                                                           20.0\n",
       "year                                                                                                                                                                                                                         2018.268493\n",
       "no_punc          congratulations to patrick reed on his great and courageous masters win  when patrick had his amazing win at doral 5 years ago  people saw his great talent  and a bright future ahead  now he is the masters champion \n",
       "polarity                                                                                                                                                                                                                            26.5\n",
       "Name: 983143317889323008, dtype: object"
      ]
     },
     "execution_count": 39,
     "metadata": {},
     "output_type": "execute_result"
    }
   ],
   "source": [
    "### BEGIN SOLUTION\n",
    "\n",
    "print('Most positive tweets:')\n",
    "df_trump.loc[df_trump['polarity'].idxmax()]\n",
    "    \n",
    "### END SOLUTION"
   ]
  },
  {
   "cell_type": "markdown",
   "metadata": {
    "id": "rBTcV47lapP_"
   },
   "source": [
    "### Task 4.7\n",
    "Plot the distribution of tweet sentiments broken down by whether the text of the tweet contains `nyt` or `fox`.  Then in the box below comment on what we observe?\n",
    "\n",
    "![title](images/nyt_vs_fox.png)"
   ]
  },
  {
   "cell_type": "code",
   "execution_count": 40,
   "metadata": {
    "id": "0ktQdImsapP_"
   },
   "outputs": [
    {
     "name": "stderr",
     "output_type": "stream",
     "text": [
      "C:\\ProgramData\\Anaconda3\\lib\\site-packages\\seaborn\\distributions.py:2557: FutureWarning: `distplot` is a deprecated function and will be removed in a future version. Please adapt your code to use either `displot` (a figure-level function with similar flexibility) or `histplot` (an axes-level function for histograms).\n",
      "  warnings.warn(msg, FutureWarning)\n",
      "C:\\ProgramData\\Anaconda3\\lib\\site-packages\\seaborn\\distributions.py:2557: FutureWarning: `distplot` is a deprecated function and will be removed in a future version. Please adapt your code to use either `displot` (a figure-level function with similar flexibility) or `histplot` (an axes-level function for histograms).\n",
      "  warnings.warn(msg, FutureWarning)\n"
     ]
    },
    {
     "data": {
      "text/plain": [
       "Text(0.5, 1.0, 'Trump Tweet Sentiment Distributions: NYTimes Vs. Fox News')"
      ]
     },
     "execution_count": 40,
     "metadata": {},
     "output_type": "execute_result"
    },
    {
     "data": {
      "image/png": "[encoded data removed]",
      "text/plain": [
       "<Figure size 1008x432 with 1 Axes>"
      ]
     },
     "metadata": {},
     "output_type": "display_data"
    }
   ],
   "source": [
    "### BEGIN SOLUTION\n",
    "plt.figure(figsize=(14,6))\n",
    "sns.distplot(df_trump.loc[df_trump['text'].str.contains('nyt'), 'polarity'], label=\"nyt\", kde=True)\n",
    "sns.distplot(df_trump.loc[df_trump['text'].str.contains('fox'), 'polarity'], label=\"fox\", kde=True)\n",
    "plt.legend()\n",
    "plt.title(\"Trump Tweet Sentiment Distributions: NYTimes Vs. Fox News\")\n",
    "### END SOLUTION"
   ]
  },
  {
   "cell_type": "markdown",
   "metadata": {
    "id": "-Z4exTkuapP_"
   },
   "source": [
    "##### Comment on what you observe:\n",
    "\n",
    "#### BEGIN SOLUTION\n",
    "From the kdeplots above, we can see that the distribution of tweet sentiments between tweets containing \"nyt\" and \"fox\" have distinct means. Specifically, it seems that Trump's tweets containing \"nyt\" generally are more negative (according to our polarity metrics) because said distribution has a negative mean. On the other hand, his tweets that contain \"fox\" are overall slightly more positive than neutral.\n",
    "\n",
    "#### END SOLUTION"
   ]
  },
  {
   "cell_type": "markdown",
   "metadata": {
    "id": "RnpgkUcpapP_"
   },
   "source": [
    "## PART 5 - Principal Component Analysis (PCA) and Twitter\n",
    "A look at the top words used and the sentiments expressed in Trump tweets indicates that, some words are used with others almost all the time. A notable example is the slogan like Make America Great Again. As such, it may be beneficial to look at groups of words rather than individual words. For that, we will look at an approach applying a Principal Component Analysis. \n",
    "\n",
    "### The PCA\n",
    "The Principal Component Analysis, or PCA, is a tool generally used to identify patterns and to reduce the number of variables you have to consider in your analysis. For example, if you have data with 200 columns, it may be that a significant amount of the variance in your data can be explained by just 100 principal components. In the PCA, the first component is chosen in such a way that has the largest variance, subsequent components are orthogonal and continue covering as much variance as possible. In this way, the PCA samples as much of the variability in the data set with the first few components. Mathematically, each component is a linear combination of all the input parameters times coefficients specific for that component. These coefficients, or loading factors, are constrained such that the sum of the squares of them are equal to 1. As such, the loading factors serve as weights describing how strongly certain parameters contribute to the specific principal component. Parameters with large values of positive or negative loading factors are correlated with each other, which can serve to identify trends in your data."
   ]
  },
  {
   "cell_type": "markdown",
   "metadata": {
    "id": "o9zY4IQFapP_"
   },
   "source": [
    "### Task 5.1 Cleaning up the Data\n",
    "Using NLTK (Natural Language Toolkit) package for language processing and other python libraries, parse the json file to deal with inflected words, such as plurals, and removed stop words like common English words (the, and, it, etc) and certain political terms (the candidates names, for example). You can start with the top 50 words, but full analysis may require large number of words.\n",
    "Create a document-frequecy (df) matrix with 5000 rows and 50 columns where each column is a particular word (feature) and each row is a tweet (observation). The values of the matrix is how often the word appears. Apply the techniques we learned to reduce the weight of most common words (if necessary). Since this is a sparse matrix, you can use the sparse martix libraries to make things a bit more efficient (we can also use a regular numpy arrays to store these things since the dimensions are not too large). Lecture 6.1 captures some sparse matrix routines you can use.\n",
    "Print the first 10 rows of the df to show the matrix you created\n",
    "\n",
    "Start with the `tidy_format` dataframe"
   ]
  },
  {
   "cell_type": "code",
   "execution_count": 41,
   "metadata": {
    "id": "oiWydwJJapP_"
   },
   "outputs": [
    {
     "name": "stderr",
     "output_type": "stream",
     "text": [
      "[nltk_data] Downloading package stopwords to\n",
      "[nltk_data]     C:\\Users\\ac1792\\AppData\\Roaming\\nltk_data...\n",
      "[nltk_data]   Package stopwords is already up-to-date!\n",
      "[nltk_data] Downloading package wordnet to\n",
      "[nltk_data]     C:\\Users\\ac1792\\AppData\\Roaming\\nltk_data...\n",
      "[nltk_data]   Package wordnet is already up-to-date!\n"
     ]
    },
    {
     "data": {
      "text/html": [
       "<div>\n",
       "<style scoped>\n",
       "    .dataframe tbody tr th:only-of-type {\n",
       "        vertical-align: middle;\n",
       "    }\n",
       "\n",
       "    .dataframe tbody tr th {\n",
       "        vertical-align: top;\n",
       "    }\n",
       "\n",
       "    .dataframe thead th {\n",
       "        text-align: right;\n",
       "    }\n",
       "</style>\n",
       "<table border=\"1\" class=\"dataframe\">\n",
       "  <thead>\n",
       "    <tr style=\"text-align: right;\">\n",
       "      <th></th>\n",
       "      <th>id</th>\n",
       "      <th>num</th>\n",
       "      <th>word</th>\n",
       "    </tr>\n",
       "  </thead>\n",
       "  <tbody>\n",
       "    <tr>\n",
       "      <th>4</th>\n",
       "      <td>682723973449289728</td>\n",
       "      <td>4</td>\n",
       "      <td>foxnews</td>\n",
       "    </tr>\n",
       "    <tr>\n",
       "      <th>5</th>\n",
       "      <td>682723973449289728</td>\n",
       "      <td>5</td>\n",
       "      <td>live</td>\n",
       "    </tr>\n",
       "    <tr>\n",
       "      <th>7</th>\n",
       "      <td>682723973449289728</td>\n",
       "      <td>7</td>\n",
       "      <td>member</td>\n",
       "    </tr>\n",
       "    <tr>\n",
       "      <th>10</th>\n",
       "      <td>682723973449289728</td>\n",
       "      <td>10</td>\n",
       "      <td>family</td>\n",
       "    </tr>\n",
       "    <tr>\n",
       "      <th>14</th>\n",
       "      <td>682723973449289728</td>\n",
       "      <td>14</td>\n",
       "      <td>p</td>\n",
       "    </tr>\n",
       "  </tbody>\n",
       "</table>\n",
       "</div>"
      ],
      "text/plain": [
       "                    id  num     word\n",
       "4   682723973449289728    4  foxnews\n",
       "5   682723973449289728    5     live\n",
       "7   682723973449289728    7   member\n",
       "10  682723973449289728   10   family\n",
       "14  682723973449289728   14        p"
      ]
     },
     "execution_count": 41,
     "metadata": {},
     "output_type": "execute_result"
    }
   ],
   "source": [
    "### BEGIN SOLUTION\n",
    "## code to plot the first 10 rows of the matrix\n",
    "import nltk\n",
    "import nltk.corpus\n",
    "nltk.download('stopwords')\n",
    "nltk.download('wordnet')\n",
    "\n",
    "#create a dataframe called tmp to store all words appear in the tweets\n",
    "\n",
    "tmp = tidy_format.reset_index()\n",
    "\n",
    "#remove stopwords\n",
    "\n",
    "from nltk.corpus import stopwords\n",
    "stop_words = stopwords.words('english')\n",
    "#stop_words.extend(['rt','t','co','https','realdonaldtrump','amp',\"u\",'obama','hillary','trump2016','trump','clinton','http','ha','wa'])\n",
    "stop_words.extend(['rt','t','co','https','realdonaldtrump','amp',\"u\",'hillary','trump2016','trump','clinton','http','ha','wa'])\n",
    "\n",
    "tmp = tmp[~tmp['word'].isin(stop_words)]\n",
    "\n",
    "\n",
    "#deal with plurals\n",
    "\n",
    "from nltk.stem import WordNetLemmatizer\n",
    "\n",
    "lemmatizer = WordNetLemmatizer()\n",
    "\n",
    "tmp['word'] = tmp.word.apply(lemmatizer.lemmatize)\n",
    "\n",
    "\n",
    "# Remove numbers\n",
    "\n",
    "tmp = tmp[~tmp['word'].str.contains('[0-9]')]\n",
    "\n",
    "#Remove words with only 1 or 2 length\n",
    "\n",
    "#tmp = tmp[tmp['word'].apply(lambda x: len(x) > 2) ]\n",
    "\n",
    "tmp.head()\n",
    "\n",
    "### END SOLUTION\n",
    "\n",
    "\n"
   ]
  },
  {
   "cell_type": "markdown",
   "metadata": {
    "id": "ArZki_hcapP_"
   },
   "source": [
    "### Task 5.2 Find the PCA's\n",
    "Write the code to find the first 50 PCA's for the document-frequency matrix. Pass the document-term-matrix to scikit-learn’s (https://scikit-learn.org/stable/modules/decomposition.html#decompositions) PCA method to obtain the components and loading factors."
   ]
  },
  {
   "cell_type": "code",
   "execution_count": 42,
   "metadata": {
    "id": "CRABWO6xapP_"
   },
   "outputs": [],
   "source": [
    "### BEGIN SOLUTION\n",
    "top50 = tmp['word'].value_counts(ascending=True).nlargest(50).to_frame()\n",
    "\n",
    "tmp2 = tmp[tmp['word'].isin(top50.index)]\n",
    "\n",
    "ids = tmp2['id'].unique()\n",
    "ids = ids[:5000]\n",
    "\n",
    "obs = df_trump.loc[ids]\n",
    "\n",
    "pca_matrix = np.zeros((5000, 50))\n",
    "words = top50.index\n",
    "\n",
    "for i in range(5000):\n",
    "    for j in range(50):\n",
    "        if (words[j]) in str(df_trump['no_punc'].loc[ids[i]]).split():\n",
    "            pca_matrix[i][j] += 1\n",
    "            \n",
    "\n",
    "from sklearn.decomposition import PCA\n",
    "pca = PCA(n_components=50)\n",
    "results = pca.fit(pca_matrix)\n",
    "\n",
    "\n",
    "### END SOLUTION"
   ]
  },
  {
   "cell_type": "markdown",
   "metadata": {
    "id": "UCjL4BbYapQA"
   },
   "source": [
    "### Task 5.3 Examine the PCA\n",
    "We can examine the PCA results to look at the heatmap. Make a grid plot which shows the various principal component along the x-axis and the individual words along the y-axes. Each grid box should be color-coded based on the sign of the loading factor and how large the square of that value is. Looking at it vertically, you can see which words constitute your principal components. Looking at it horizontally, you can see how individual terms are shared between components. \n",
    "\n",
    "![title](images/pca.png)\n",
    "\n"
   ]
  },
  {
   "cell_type": "code",
   "execution_count": 43,
   "metadata": {
    "id": "FeF4AKiPapQA"
   },
   "outputs": [
    {
     "data": {
      "image/png": "[encoded data removed]",
      "text/plain": [
       "<Figure size 1296x1296 with 2 Axes>"
      ]
     },
     "metadata": {},
     "output_type": "display_data"
    }
   ],
   "source": [
    "### BEGIN SOLUTION\n",
    "plt.figure(figsize=(18,18))\n",
    "\n",
    "ax = sns.heatmap(results.components_,\n",
    "                 xticklabels=[ \"PC\"+str(x) for x in range(1,results.n_components_+1)],\n",
    "                 yticklabels=list(top50.index),\n",
    "                 cmap = sns.color_palette(\"vlag\", as_cmap=True)\n",
    "                )\n",
    "#ax.invert_yaxis()\n",
    "\n",
    "\n",
    "### END SOLUTION"
   ]
  },
  {
   "cell_type": "markdown",
   "metadata": {
    "id": "BASs-3ERapQA"
   },
   "source": [
    "### Task 5.4 PCA Compare\n",
    "We can determine how many words and how many components are needed to do a good visualization. Plot PC1 and PC2 in a 2D plot. The results should be similar to following scatter plot \n",
    "\n",
    "![title](images/PC1_PC2.png)\n",
    "\n",
    "This is a scatter plot of the values of the components, but with arrows indicating some of the prominent terms as indicated by their loading factors. The values of the loading factors are used to determine the length and direction of these arrows and as such they serve as a way of expressing direction. That is, tweets which use these terms will be moved along the length of those arrows. Shown are the most important parameters."
   ]
  },
  {
   "cell_type": "code",
   "execution_count": 44,
   "metadata": {
    "id": "Kw7mi75wapQA"
   },
   "outputs": [
    {
     "data": {
      "text/plain": [
       "<matplotlib.collections.PathCollection at 0x27e640094c0>"
      ]
     },
     "execution_count": 44,
     "metadata": {},
     "output_type": "execute_result"
    },
    {
     "data": {
      "image/png": "[encoded data removed]",
      "text/plain": [
       "<Figure size 432x288 with 1 Axes>"
      ]
     },
     "metadata": {},
     "output_type": "display_data"
    }
   ],
   "source": [
    "### BEGIN SOLUTION\n",
    "\n",
    "pc1 = results.components_[0]\n",
    "\n",
    "pc2 = results.components_[1]\n",
    "\n",
    "plt.scatter(x = pc1, y = pc2)\n",
    "\n",
    "### END SOLUTION"
   ]
  },
  {
   "cell_type": "markdown",
   "metadata": {
    "id": "n2-oIKbeapQA"
   },
   "source": [
    "## PART 6 - Twitter Engagement\n",
    "\n",
    "In this problem, we'll explore which words led to a greater average number of retweets. For example, at the time of this writing, Donald Trump has two tweets that contain the word 'oakland' (tweets 932570628451954688 and 1016609920031117312) with 36757 and 10286 retweets respectively, for an average of 23,521.5.\n",
    "\n",
    "\n",
    "Your `top_20` table should have this format:\n",
    "\n",
    "<table border=\"1\" class=\"dataframe\">\n",
    "  <thead>\n",
    "    <tr style=\"text-align: right;\">\n",
    "      <th></th>\n",
    "      <th>retweet_count</th>\n",
    "    </tr>\n",
    "    <tr>\n",
    "      <th>word</th>\n",
    "      <th></th>\n",
    "    </tr>\n",
    "  </thead>\n",
    "  <tbody>\n",
    "    <tr>\n",
    "      <th>jong</th>\n",
    "      <td>40675.666667</td>\n",
    "    </tr>\n",
    "    <tr>\n",
    "      <th>try</th>\n",
    "      <td>33937.800000</td>\n",
    "    </tr>\n",
    "    <tr>\n",
    "      <th>kim</th>\n",
    "      <td>32849.595745</td>\n",
    "    </tr>\n",
    "    <tr>\n",
    "      <th>un</th>\n",
    "      <td>32741.731707</td>\n",
    "    </tr>\n",
    "    <tr>\n",
    "      <th>maybe</th>\n",
    "      <td>30473.192308</td>\n",
    "    </tr>\n",
    "  </tbody>\n",
    "</table>"
   ]
  },
  {
   "cell_type": "markdown",
   "metadata": {
    "id": "3MzFQJDUapQA"
   },
   "source": [
    "### Task 6.1\n",
    "Find the top 20 most retweeted words. Include only words that appear in at least 25 tweets. As usual, try to do this without any for loops. You can string together ~5-7 pandas commands and get everything done on one line."
   ]
  },
  {
   "cell_type": "code",
   "execution_count": 53,
   "metadata": {
    "id": "LIiOKJjuapQA"
   },
   "outputs": [
    {
     "data": {
      "text/html": [
       "<div>\n",
       "<style scoped>\n",
       "    .dataframe tbody tr th:only-of-type {\n",
       "        vertical-align: middle;\n",
       "    }\n",
       "\n",
       "    .dataframe tbody tr th {\n",
       "        vertical-align: top;\n",
       "    }\n",
       "\n",
       "    .dataframe thead th {\n",
       "        text-align: right;\n",
       "    }\n",
       "</style>\n",
       "<table border=\"1\" class=\"dataframe\">\n",
       "  <thead>\n",
       "    <tr style=\"text-align: right;\">\n",
       "      <th></th>\n",
       "      <th>retweet_count</th>\n",
       "    </tr>\n",
       "    <tr>\n",
       "      <th>word</th>\n",
       "      <th></th>\n",
       "    </tr>\n",
       "  </thead>\n",
       "  <tbody>\n",
       "    <tr>\n",
       "      <th>jong</th>\n",
       "      <td>39782.800000</td>\n",
       "    </tr>\n",
       "    <tr>\n",
       "      <th>un</th>\n",
       "      <td>32070.756098</td>\n",
       "    </tr>\n",
       "    <tr>\n",
       "      <th>kim</th>\n",
       "      <td>31764.897959</td>\n",
       "    </tr>\n",
       "    <tr>\n",
       "      <th>maybe</th>\n",
       "      <td>29899.846154</td>\n",
       "    </tr>\n",
       "    <tr>\n",
       "      <th>nuclear</th>\n",
       "      <td>28685.140000</td>\n",
       "    </tr>\n",
       "    <tr>\n",
       "      <th>kavanaugh</th>\n",
       "      <td>28651.962963</td>\n",
       "    </tr>\n",
       "    <tr>\n",
       "      <th>try</th>\n",
       "      <td>28256.551724</td>\n",
       "    </tr>\n",
       "    <tr>\n",
       "      <th>mccabe</th>\n",
       "      <td>27666.870968</td>\n",
       "    </tr>\n",
       "    <tr>\n",
       "      <th>old</th>\n",
       "      <td>27613.151515</td>\n",
       "    </tr>\n",
       "    <tr>\n",
       "      <th>players</th>\n",
       "      <td>27099.566667</td>\n",
       "    </tr>\n",
       "    <tr>\n",
       "      <th>illegally</th>\n",
       "      <td>26937.062500</td>\n",
       "    </tr>\n",
       "    <tr>\n",
       "      <th>flag</th>\n",
       "      <td>26595.866667</td>\n",
       "    </tr>\n",
       "    <tr>\n",
       "      <th>lowest</th>\n",
       "      <td>26486.000000</td>\n",
       "    </tr>\n",
       "    <tr>\n",
       "      <th>emails</th>\n",
       "      <td>26227.188679</td>\n",
       "    </tr>\n",
       "    <tr>\n",
       "      <th>nfl</th>\n",
       "      <td>25955.621622</td>\n",
       "    </tr>\n",
       "    <tr>\n",
       "      <th>ban</th>\n",
       "      <td>25008.680000</td>\n",
       "    </tr>\n",
       "    <tr>\n",
       "      <th>obstruction</th>\n",
       "      <td>24959.243243</td>\n",
       "    </tr>\n",
       "    <tr>\n",
       "      <th>fbi</th>\n",
       "      <td>24925.582090</td>\n",
       "    </tr>\n",
       "    <tr>\n",
       "      <th>longer</th>\n",
       "      <td>24648.518519</td>\n",
       "    </tr>\n",
       "    <tr>\n",
       "      <th>anthem</th>\n",
       "      <td>24465.526316</td>\n",
       "    </tr>\n",
       "  </tbody>\n",
       "</table>\n",
       "</div>"
      ],
      "text/plain": [
       "             retweet_count\n",
       "word                      \n",
       "jong          39782.800000\n",
       "un            32070.756098\n",
       "kim           31764.897959\n",
       "maybe         29899.846154\n",
       "nuclear       28685.140000\n",
       "kavanaugh     28651.962963\n",
       "try           28256.551724\n",
       "mccabe        27666.870968\n",
       "old           27613.151515\n",
       "players       27099.566667\n",
       "illegally     26937.062500\n",
       "flag          26595.866667\n",
       "lowest        26486.000000\n",
       "emails        26227.188679\n",
       "nfl           25955.621622\n",
       "ban           25008.680000\n",
       "obstruction   24959.243243\n",
       "fbi           24925.582090\n",
       "longer        24648.518519\n",
       "anthem        24465.526316"
      ]
     },
     "execution_count": 53,
     "metadata": {},
     "output_type": "execute_result"
    }
   ],
   "source": [
    "#top_20 = ...\n",
    "### BEGIN SOLUTION\n",
    "test = df_trump.reset_index()\n",
    "test.index = test['retweet_count']\n",
    "test = test['no_punc'].str.split(expand=True).stack().to_frame().reset_index().drop('level_1', axis=1).rename(columns={0:'word'})\n",
    "val_counts = test['word'].value_counts()\n",
    "test['occ'] = test['word'].map(lambda x : val_counts.loc[x])\n",
    "test = test[test['occ'] >=25].loc[:, ['retweet_count','word'] ]\n",
    "retweet_res = test.groupby('word').mean()['retweet_count'].nlargest(20).to_frame()\n",
    "retweet_res\n",
    "### END SOLUTION"
   ]
  },
  {
   "cell_type": "markdown",
   "metadata": {
    "id": "5lSh8NdyapQA"
   },
   "source": [
    "### Task 6.2\n",
    "Plot a bar chart of your results:"
   ]
  },
  {
   "cell_type": "code",
   "execution_count": 54,
   "metadata": {
    "id": "CPahzHsVapQA"
   },
   "outputs": [
    {
     "data": {
      "text/plain": [
       "<AxesSubplot:xlabel='word', ylabel='retweet_count'>"
      ]
     },
     "execution_count": 54,
     "metadata": {},
     "output_type": "execute_result"
    },
    {
     "data": {
      "image/png": "[encoded data removed]",
      "text/plain": [
       "<Figure size 1728x1296 with 1 Axes>"
      ]
     },
     "metadata": {},
     "output_type": "display_data"
    }
   ],
   "source": [
    "### BEGIN SOLUTION\n",
    "plt.figure(figsize=(24,18))\n",
    "sns.barplot(x=retweet_res.index,y=\"retweet_count\",data=retweet_res)\n",
    "### BEGIN SOLUTION"
   ]
  },
  {
   "cell_type": "markdown",
   "metadata": {
    "id": "3CzsT89dapQA"
   },
   "source": [
    "## PART 7 - Conclusion (Optional for Individual)\n",
    "What else can we do? Let us ask some open ended questions."
   ]
  },
  {
   "cell_type": "markdown",
   "metadata": {
    "id": "00lj_c39apQA"
   },
   "source": [
    "### Task 7.1\n",
    "\"kim\", \"jong\" and \"un\" are apparently really popular in Trump's tweets! It seems like we can conclude that his tweets involving jong are more popular than his other tweets. Or can we?\n",
    "\n",
    "Consider each of the statements about possible confounding factors below. State whether each statement is true or false and explain. If the statement is true, state whether the confounding factor could have made kim jong un related tweets higher in the list than they should be.\n",
    "\n",
    "1. We didn't restrict our word list to nouns, so we have unhelpful words like \"let\" and \"any\" in our result.\n",
    "      - That might be why 'un' is the most popular.\n",
    "1. We didn't remove hashtags in our text, so we have duplicate words (eg. #great and great).\n",
    "      - Some may only have '#great' not 'great' which make the average lower\n",
    "1. We didn't account for the fact that Trump's follower count has increased over time.\n",
    "      - This can affect a lot. As Trump's follower count has increased, the more popular every word be"
   ]
  },
  {
   "cell_type": "code",
   "execution_count": 47,
   "metadata": {
    "id": "dShu7ypuapQB"
   },
   "outputs": [],
   "source": [
    "#### BEGIN SOLUTION\n",
    "#plt.figure(figsize=(20,20))\n",
    "\n",
    "#### END SOLUTION"
   ]
  },
  {
   "cell_type": "markdown",
   "metadata": {
    "id": "b6SBTwpsapQB"
   },
   "source": [
    "### Task 7.2\n",
    "Using the `df_trump` tweets construct an interesting plot describing a property of the data and discuss what you found below.\n",
    "\n",
    "**Ideas:**\n",
    "\n",
    "1. How has the sentiment changed with length of the tweets?\n",
    "1. Does sentiment affect retweet count?\n",
    "1. Are retweets more negative than regular tweets?\n",
    "1. Are there any spikes in the number of retweets and do the correspond to world events? \n",
    "1. What terms have an especially positive or negative sentiment?\n",
    "\n",
    "You can look at other data sources and even tweets. Do some plots and discuss. You can add more cells here as needed.\n"
   ]
  },
  {
   "cell_type": "code",
   "execution_count": 48,
   "metadata": {
    "id": "qqshSSqVapQB"
   },
   "outputs": [],
   "source": [
    "#### BEGIN SOLUTION\n",
    "\n",
    "\n",
    "\n",
    "#### END SOLUTION\n"
   ]
  },
  {
   "cell_type": "markdown",
   "metadata": {
    "id": "Cs8GlQj2apQB"
   },
   "source": [
    "#### BEGIN SOLUTION\n",
    "Discussion: \"Enter question you tried answering\"\n",
    "\n",
    "Answer:\n",
    "#### END SOLUTION"
   ]
  },
  {
   "cell_type": "markdown",
   "metadata": {
    "id": "mdfBoczTapQB"
   },
   "source": [
    "### Group Part - Find Something interesting (Optional for Individuals)\n",
    "Is there still something interesting to find in this data set? Use your own imagination to ask some good questions. Don't be bias and look for the answer in data. Don't ask us what we want, because we do not know either. This will be for EXTRA CREDIT for individuals but part of the regular assignment for groups. Add any cells below.\n"
   ]
  },
  {
   "cell_type": "markdown",
   "metadata": {
    "id": "WHDvFI8bapQB"
   },
   "source": [
    "<div class=\"alert alert-block alert-info\">\n",
    "<h2>Submission Instructions</h2> \n",
    "<b> File Name:</b> Please name the file as yourSection_yourNetID_midsemester.jpynb<br>\n",
    "<b> Group Projects:</b> Each person in the group must submit a copy with both names listed. If you are doing a group project, you must inform your TA prior to 11/3/21 that you intend to work as a group and submit your name and your partner name. We will <b>not accept group work</b> if your TA has not been notified.<br>\n",
    "<b> Submit To: </b> Canvas &rarr; Assignments &rarr; midsemester (remove all output. Do not submit data files<br>\n",
    "<b>Warning:</b> Failure to follow directions may result in loss points.<br>\n",
    "</div>"
   ]
  },
  {
   "cell_type": "markdown",
   "metadata": {
    "id": "gjF3QW2tapQB"
   },
   "source": [
    "Created by Andy Guna @2019-2021 Credits: Josh Hug, and Berkeley Data Science Group, Steve Skiena, David Rodreguez"
   ]
  }
 ],
 "metadata": {
  "colab": {
   "name": "MidSemester Project - F21.ipynb",
   "provenance": []
  },
  "kernelspec": {
   "display_name": "Python 3",
   "language": "python",
   "name": "python3"
  },
  "language_info": {
   "codemirror_mode": {
    "name": "ipython",
    "version": 3
   },
   "file_extension": ".py",
   "mimetype": "text/x-python",
   "name": "python",
   "nbconvert_exporter": "python",
   "pygments_lexer": "ipython3",
   "version": "3.8.8"
  }
 },
 "nbformat": 4,
 "nbformat_minor": 1
}
