{
 "cells": [
  {
   "cell_type": "code",
   "execution_count": 1,
   "metadata": {},
   "outputs": [],
   "source": [
    "# Run this cell to set up your notebook\n",
    "import csv\n",
    "import numpy as np\n",
    "import pandas as pd\n",
    "import matplotlib.pyplot as plt\n",
    "import zipfile\n",
    "import json\n",
    "\n",
    "# Ensure that Pandas shows at least 280 characters in columns, so we can see full tweets\n",
    "pd.set_option('max_colwidth', 280)\n",
    "\n",
    "%matplotlib inline\n",
    "plt.style.use('fivethirtyeight')\n",
    "import seaborn as sns\n",
    "sns.set()\n",
    "sns.set_context(\"talk\")\n",
    "import re"
   ]
  },
  {
   "cell_type": "code",
   "execution_count": 2,
   "metadata": {},
   "outputs": [],
   "source": [
    "# load tweets and convert data to dataframe\n",
    "with open('data/2016-2017.json', 'rb') as f:\n",
    "    old_tweets = json.load(f)\n",
    "with open('data/2017-2018.json', 'rb') as f:\n",
    "    new_tweets = json.load(f)\n",
    "df_old = pd.DataFrame(old_tweets)\n",
    "df_new = pd.DataFrame(new_tweets)\n",
    "df_new = df_new.iloc[:10]\n",
    "df_old = df_old.iloc[:10]"
   ]
  },
  {
   "cell_type": "code",
   "execution_count": 3,
   "metadata": {},
   "outputs": [
    {
     "name": "stdout",
     "output_type": "stream",
     "text": [
      "int64\n"
     ]
    },
    {
     "name": "stderr",
     "output_type": "stream",
     "text": [
      "C:\\Users\\theal\\anaconda3\\lib\\site-packages\\pandas\\core\\indexing.py:1676: SettingWithCopyWarning: \n",
      "A value is trying to be set on a copy of a slice from a DataFrame.\n",
      "Try using .loc[row_indexer,col_indexer] = value instead\n",
      "\n",
      "See the caveats in the documentation: https://pandas.pydata.org/pandas-docs/stable/user_guide/indexing.html#returning-a-view-versus-a-copy\n",
      "  self._setitem_single_column(ilocs[0], value, pi)\n"
     ]
    },
    {
     "data": {
      "text/plain": [
       "80"
      ]
     },
     "execution_count": 3,
     "metadata": {},
     "output_type": "execute_result"
    }
   ],
   "source": [
    "df1 = df_old[['id', 'created_at', 'source', 'text', 'retweet_count']] \n",
    "df2 = df_new[['id', 'created_at', 'source', 'full_text', 'retweet_count']]\n",
    "df2 = df2.rename(columns={'full_text': 'text'})\n",
    "df1.loc[:, 'id'] = df1['id'].astype('int64')\n",
    "df2.loc[:, 'id'] = df2['id'].astype('int64')\n",
    "print(df1.id.dtype)\n",
    "df1 = df1.set_index('id')\n",
    "df2 = df2.set_index('id')\n",
    "df = pd.concat([df1, df2])\n",
    "df.sort_index()\n",
    "df.size"
   ]
  },
  {
   "cell_type": "code",
   "execution_count": 4,
   "metadata": {},
   "outputs": [
    {
     "data": {
      "text/html": [
       "<div>\n",
       "<style scoped>\n",
       "    .dataframe tbody tr th:only-of-type {\n",
       "        vertical-align: middle;\n",
       "    }\n",
       "\n",
       "    .dataframe tbody tr th {\n",
       "        vertical-align: top;\n",
       "    }\n",
       "\n",
       "    .dataframe thead th {\n",
       "        text-align: right;\n",
       "    }\n",
       "</style>\n",
       "<table border=\"1\" class=\"dataframe\">\n",
       "  <thead>\n",
       "    <tr style=\"text-align: right;\">\n",
       "      <th></th>\n",
       "      <th>created_at</th>\n",
       "      <th>source</th>\n",
       "      <th>text</th>\n",
       "      <th>retweet_count</th>\n",
       "    </tr>\n",
       "    <tr>\n",
       "      <th>id</th>\n",
       "      <th></th>\n",
       "      <th></th>\n",
       "      <th></th>\n",
       "      <th></th>\n",
       "    </tr>\n",
       "  </thead>\n",
       "  <tbody>\n",
       "    <tr>\n",
       "      <th>947824196909961216</th>\n",
       "      <td>Mon Jan 01 13:37:52 +0000 2018</td>\n",
       "      <td>Twitter for iPhone</td>\n",
       "      <td>Will be leaving Florida for Washington (D.C.) today at 4:00 P.M. Much work to be done, but it will be a great New Year!</td>\n",
       "      <td>8237</td>\n",
       "    </tr>\n",
       "    <tr>\n",
       "      <th>947810806430826496</th>\n",
       "      <td>Mon Jan 01 12:44:40 +0000 2018</td>\n",
       "      <td>Twitter for iPhone</td>\n",
       "      <td>Iran is failing at every level despite the terrible deal made with them by the Obama Administration. The great Iranian people have been repressed for many years. They are hungry for food &amp;amp; for freedom. Along with human rights, the wealth of Iran is being looted. TIME FOR ...</td>\n",
       "      <td>14595</td>\n",
       "    </tr>\n",
       "    <tr>\n",
       "      <th>947802588174577664</th>\n",
       "      <td>Mon Jan 01 12:12:00 +0000 2018</td>\n",
       "      <td>Twitter for iPhone</td>\n",
       "      <td>The United States has foolishly given Pakistan more than 33 billion dollars in aid over the last 15 years, and they have given us nothing but lies &amp;amp; deceit, thinking of our leaders as fools. They give safe haven to the terrorists we hunt in Afghanistan, with little help. ...</td>\n",
       "      <td>49566</td>\n",
       "    </tr>\n",
       "    <tr>\n",
       "      <th>947614110082043904</th>\n",
       "      <td>Sun Dec 31 23:43:04 +0000 2017</td>\n",
       "      <td>Twitter for iPhone</td>\n",
       "      <td>HAPPY NEW YEAR! We are MAKING AMERICA GREAT AGAIN, and much faster than anyone thought possible!</td>\n",
       "      <td>35164</td>\n",
       "    </tr>\n",
       "    <tr>\n",
       "      <th>947592785519173637</th>\n",
       "      <td>Sun Dec 31 22:18:20 +0000 2017</td>\n",
       "      <td>Twitter for iPhone</td>\n",
       "      <td>As our Country rapidly grows stronger and smarter, I want to wish all of my friends, supporters, enemies, haters, and even the very dishonest Fake News Media, a Happy and Healthy New Year. 2018 will be a great year for America!</td>\n",
       "      <td>39428</td>\n",
       "    </tr>\n",
       "    <tr>\n",
       "      <th>947588263103139841</th>\n",
       "      <td>Sun Dec 31 22:00:21 +0000 2017</td>\n",
       "      <td>Twitter for iPhone</td>\n",
       "      <td>Iran, the Number One State of Sponsored Terror with numerous violations of Human Rights occurring on an hourly basis, has now closed down the Internet so that peaceful demonstrators cannot communicate. Not good!</td>\n",
       "      <td>27984</td>\n",
       "    </tr>\n",
       "    <tr>\n",
       "      <th>947544600918372353</th>\n",
       "      <td>Sun Dec 31 19:06:52 +0000 2017</td>\n",
       "      <td>Media Studio</td>\n",
       "      <td>What a year it’s been, and we're just getting started. Together, we are MAKING AMERICA GREAT AGAIN! Happy New Year!! https://t.co/qsMNyN1UJG</td>\n",
       "      <td>26433</td>\n",
       "    </tr>\n",
       "    <tr>\n",
       "      <th>947536951464333318</th>\n",
       "      <td>Sun Dec 31 18:36:28 +0000 2017</td>\n",
       "      <td>Twitter for iPhone</td>\n",
       "      <td>My deepest condolences to the victims of the terrible shooting in Douglas County @DCSheriff, and their families. We love our police and law enforcement - God Bless them all! #LESM</td>\n",
       "      <td>16989</td>\n",
       "    </tr>\n",
       "    <tr>\n",
       "      <th>947461470924820480</th>\n",
       "      <td>Sun Dec 31 13:36:32 +0000 2017</td>\n",
       "      <td>Twitter for iPhone</td>\n",
       "      <td>Why would smart voters want to put Democrats in Congress in 2018 Election when their policies will totally kill the great wealth created during the months since the Election. People are much better off now not to mention ISIS, VA, Judges, Strong Border, 2nd A, Tax Cuts &amp;amp; ...</td>\n",
       "      <td>25981</td>\n",
       "    </tr>\n",
       "    <tr>\n",
       "      <th>947458942719979520</th>\n",
       "      <td>Sun Dec 31 13:26:29 +0000 2017</td>\n",
       "      <td>Twitter for iPhone</td>\n",
       "      <td>If the Dems (Crooked Hillary) got elected, your stocks would be down 50% from values on Election Day. Now they have a great future - and just beginning! https://t.co/9TzSC8F8vY</td>\n",
       "      <td>14449</td>\n",
       "    </tr>\n",
       "    <tr>\n",
       "      <th>1052233253040640001</th>\n",
       "      <td>Tue Oct 16 16:22:11 +0000 2018</td>\n",
       "      <td>&lt;a href=\"http://twitter.com/download/iphone\" rel=\"nofollow\"&gt;Twitter for iPhone&lt;/a&gt;</td>\n",
       "      <td>REGISTER TO https://t.co/0pWiwCHGbh! #MAGA🇺🇸 https://t.co/ACTMe53TZU</td>\n",
       "      <td>5415</td>\n",
       "    </tr>\n",
       "    <tr>\n",
       "      <th>1052232230972678145</th>\n",
       "      <td>Tue Oct 16 16:18:08 +0000 2018</td>\n",
       "      <td>&lt;a href=\"http://twitter.com/download/iphone\" rel=\"nofollow\"&gt;Twitter for iPhone&lt;/a&gt;</td>\n",
       "      <td>RT @WhiteHouse: https://t.co/RNqLpOtS3O</td>\n",
       "      <td>4478</td>\n",
       "    </tr>\n",
       "    <tr>\n",
       "      <th>1052219253384994816</th>\n",
       "      <td>Tue Oct 16 15:26:33 +0000 2018</td>\n",
       "      <td>&lt;a href=\"http://twitter.com/download/iphone\" rel=\"nofollow\"&gt;Twitter for iPhone&lt;/a&gt;</td>\n",
       "      <td>Is it really possible that Bruce Ohr, whose wife Nellie was paid by Simpson and GPS Fusion for work done on the Fake Dossier, and who was used as a Pawn in this whole SCAM (WITCH HUNT), is still working for the Department of Justice????? Can this really be so?????</td>\n",
       "      <td>13103</td>\n",
       "    </tr>\n",
       "    <tr>\n",
       "      <th>1052217314463100928</th>\n",
       "      <td>Tue Oct 16 15:18:51 +0000 2018</td>\n",
       "      <td>&lt;a href=\"http://twitter.com/download/iphone\" rel=\"nofollow\"&gt;Twitter for iPhone&lt;/a&gt;</td>\n",
       "      <td>“Conflict between Glen Simpson’s testimony to another House Panel about his contact with Justice Department official Bruce Ohr. Ohr was used by Simpson and Steele as a Back Channel to get (FAKE) Dossier to FBI. Simpson pleading Fifth.” Catherine Herridge. Where is Jeff Sessions?</td>\n",
       "      <td>6271</td>\n",
       "    </tr>\n",
       "    <tr>\n",
       "      <th>1052213711295930368</th>\n",
       "      <td>Tue Oct 16 15:04:32 +0000 2018</td>\n",
       "      <td>&lt;a href=\"http://twitter.com/download/iphone\" rel=\"nofollow\"&gt;Twitter for iPhone&lt;/a&gt;</td>\n",
       "      <td>“Federal Judge throws out Stormy Danials lawsuit versus Trump. Trump is entitled to full legal fees.” @FoxNews Great, now I can go after Horseface and her 3rd rate lawyer in the Great State of Texas. She will confirm the letter she signed! She knows nothing about me, a total ...</td>\n",
       "      <td>14594</td>\n",
       "    </tr>\n",
       "    <tr>\n",
       "      <th>1052200515608690688</th>\n",
       "      <td>Tue Oct 16 14:12:06 +0000 2018</td>\n",
       "      <td>&lt;a href=\"http://twitter.com/download/iphone\" rel=\"nofollow\"&gt;Twitter for iPhone&lt;/a&gt;</td>\n",
       "      <td>Incredible number just out, 7,036,000 job openings. Astonishing - it’s all working! Stock Market up big on tremendous potential of USA. Also, Strong Profits. We are Number One in World, by far!</td>\n",
       "      <td>13944</td>\n",
       "    </tr>\n",
       "    <tr>\n",
       "      <th>1052186219696803841</th>\n",
       "      <td>Tue Oct 16 13:15:18 +0000 2018</td>\n",
       "      <td>&lt;a href=\"http://twitter.com/download/iphone\" rel=\"nofollow\"&gt;Twitter for iPhone&lt;/a&gt;</td>\n",
       "      <td>For the record, I have no financial interests in Saudi Arabia (or Russia, for that matter). Any suggestion that I have is just more FAKE NEWS (of which there is plenty)!</td>\n",
       "      <td>13402</td>\n",
       "    </tr>\n",
       "    <tr>\n",
       "      <th>1052184484941049857</th>\n",
       "      <td>Tue Oct 16 13:08:24 +0000 2018</td>\n",
       "      <td>&lt;a href=\"http://twitter.com/download/iphone\" rel=\"nofollow\"&gt;Twitter for iPhone&lt;/a&gt;</td>\n",
       "      <td>“8X more new manufacturing jobs now than with Obama.” @FoxNews  @cvpayne</td>\n",
       "      <td>10397</td>\n",
       "    </tr>\n",
       "    <tr>\n",
       "      <th>1052183647552491521</th>\n",
       "      <td>Tue Oct 16 13:05:04 +0000 2018</td>\n",
       "      <td>&lt;a href=\"http://twitter.com/download/iphone\" rel=\"nofollow\"&gt;Twitter for iPhone&lt;/a&gt;</td>\n",
       "      <td>The United States has strongly informed the President of Honduras that if the large Caravan of people heading to the U.S. is not stopped and brought back to Honduras, no more money or aid will be given to Honduras, effective immediately!</td>\n",
       "      <td>27494</td>\n",
       "    </tr>\n",
       "    <tr>\n",
       "      <th>1052181272137801728</th>\n",
       "      <td>Tue Oct 16 12:55:38 +0000 2018</td>\n",
       "      <td>&lt;a href=\"http://twitter.com/download/iphone\" rel=\"nofollow\"&gt;Twitter for iPhone&lt;/a&gt;</td>\n",
       "      <td>“Op-Ed praises Trump Administrations efforts at the Border.” @FoxNews  The  Washington Examiner States, “Finally, the government has taken steps to stop releasing unaccompanied minors to criminals and traffickers.” This was done by the Obama Administration!</td>\n",
       "      <td>9139</td>\n",
       "    </tr>\n",
       "  </tbody>\n",
       "</table>\n",
       "</div>"
      ],
      "text/plain": [
       "                                         created_at  \\\n",
       "id                                                    \n",
       "947824196909961216   Mon Jan 01 13:37:52 +0000 2018   \n",
       "947810806430826496   Mon Jan 01 12:44:40 +0000 2018   \n",
       "947802588174577664   Mon Jan 01 12:12:00 +0000 2018   \n",
       "947614110082043904   Sun Dec 31 23:43:04 +0000 2017   \n",
       "947592785519173637   Sun Dec 31 22:18:20 +0000 2017   \n",
       "947588263103139841   Sun Dec 31 22:00:21 +0000 2017   \n",
       "947544600918372353   Sun Dec 31 19:06:52 +0000 2017   \n",
       "947536951464333318   Sun Dec 31 18:36:28 +0000 2017   \n",
       "947461470924820480   Sun Dec 31 13:36:32 +0000 2017   \n",
       "947458942719979520   Sun Dec 31 13:26:29 +0000 2017   \n",
       "1052233253040640001  Tue Oct 16 16:22:11 +0000 2018   \n",
       "1052232230972678145  Tue Oct 16 16:18:08 +0000 2018   \n",
       "1052219253384994816  Tue Oct 16 15:26:33 +0000 2018   \n",
       "1052217314463100928  Tue Oct 16 15:18:51 +0000 2018   \n",
       "1052213711295930368  Tue Oct 16 15:04:32 +0000 2018   \n",
       "1052200515608690688  Tue Oct 16 14:12:06 +0000 2018   \n",
       "1052186219696803841  Tue Oct 16 13:15:18 +0000 2018   \n",
       "1052184484941049857  Tue Oct 16 13:08:24 +0000 2018   \n",
       "1052183647552491521  Tue Oct 16 13:05:04 +0000 2018   \n",
       "1052181272137801728  Tue Oct 16 12:55:38 +0000 2018   \n",
       "\n",
       "                                                                                                 source  \\\n",
       "id                                                                                                        \n",
       "947824196909961216                                                                   Twitter for iPhone   \n",
       "947810806430826496                                                                   Twitter for iPhone   \n",
       "947802588174577664                                                                   Twitter for iPhone   \n",
       "947614110082043904                                                                   Twitter for iPhone   \n",
       "947592785519173637                                                                   Twitter for iPhone   \n",
       "947588263103139841                                                                   Twitter for iPhone   \n",
       "947544600918372353                                                                         Media Studio   \n",
       "947536951464333318                                                                   Twitter for iPhone   \n",
       "947461470924820480                                                                   Twitter for iPhone   \n",
       "947458942719979520                                                                   Twitter for iPhone   \n",
       "1052233253040640001  <a href=\"http://twitter.com/download/iphone\" rel=\"nofollow\">Twitter for iPhone</a>   \n",
       "1052232230972678145  <a href=\"http://twitter.com/download/iphone\" rel=\"nofollow\">Twitter for iPhone</a>   \n",
       "1052219253384994816  <a href=\"http://twitter.com/download/iphone\" rel=\"nofollow\">Twitter for iPhone</a>   \n",
       "1052217314463100928  <a href=\"http://twitter.com/download/iphone\" rel=\"nofollow\">Twitter for iPhone</a>   \n",
       "1052213711295930368  <a href=\"http://twitter.com/download/iphone\" rel=\"nofollow\">Twitter for iPhone</a>   \n",
       "1052200515608690688  <a href=\"http://twitter.com/download/iphone\" rel=\"nofollow\">Twitter for iPhone</a>   \n",
       "1052186219696803841  <a href=\"http://twitter.com/download/iphone\" rel=\"nofollow\">Twitter for iPhone</a>   \n",
       "1052184484941049857  <a href=\"http://twitter.com/download/iphone\" rel=\"nofollow\">Twitter for iPhone</a>   \n",
       "1052183647552491521  <a href=\"http://twitter.com/download/iphone\" rel=\"nofollow\">Twitter for iPhone</a>   \n",
       "1052181272137801728  <a href=\"http://twitter.com/download/iphone\" rel=\"nofollow\">Twitter for iPhone</a>   \n",
       "\n",
       "                                                                                                                                                                                                                                                                                                        text  \\\n",
       "id                                                                                                                                                                                                                                                                                                             \n",
       "947824196909961216                                                                                                                                                                   Will be leaving Florida for Washington (D.C.) today at 4:00 P.M. Much work to be done, but it will be a great New Year!   \n",
       "947810806430826496   Iran is failing at every level despite the terrible deal made with them by the Obama Administration. The great Iranian people have been repressed for many years. They are hungry for food &amp; for freedom. Along with human rights, the wealth of Iran is being looted. TIME FOR ...   \n",
       "947802588174577664   The United States has foolishly given Pakistan more than 33 billion dollars in aid over the last 15 years, and they have given us nothing but lies &amp; deceit, thinking of our leaders as fools. They give safe haven to the terrorists we hunt in Afghanistan, with little help. ...   \n",
       "947614110082043904                                                                                                                                                                                          HAPPY NEW YEAR! We are MAKING AMERICA GREAT AGAIN, and much faster than anyone thought possible!   \n",
       "947592785519173637                                                       As our Country rapidly grows stronger and smarter, I want to wish all of my friends, supporters, enemies, haters, and even the very dishonest Fake News Media, a Happy and Healthy New Year. 2018 will be a great year for America!   \n",
       "947588263103139841                                                                       Iran, the Number One State of Sponsored Terror with numerous violations of Human Rights occurring on an hourly basis, has now closed down the Internet so that peaceful demonstrators cannot communicate. Not good!   \n",
       "947544600918372353                                                                                                                                              What a year it’s been, and we're just getting started. Together, we are MAKING AMERICA GREAT AGAIN! Happy New Year!! https://t.co/qsMNyN1UJG   \n",
       "947536951464333318                                                                                                       My deepest condolences to the victims of the terrible shooting in Douglas County @DCSheriff, and their families. We love our police and law enforcement - God Bless them all! #LESM   \n",
       "947461470924820480   Why would smart voters want to put Democrats in Congress in 2018 Election when their policies will totally kill the great wealth created during the months since the Election. People are much better off now not to mention ISIS, VA, Judges, Strong Border, 2nd A, Tax Cuts &amp; ...   \n",
       "947458942719979520                                                                                                          If the Dems (Crooked Hillary) got elected, your stocks would be down 50% from values on Election Day. Now they have a great future - and just beginning! https://t.co/9TzSC8F8vY   \n",
       "1052233253040640001                                                                                                                                                                                                                     REGISTER TO https://t.co/0pWiwCHGbh! #MAGA🇺🇸 https://t.co/ACTMe53TZU   \n",
       "1052232230972678145                                                                                                                                                                                                                                                  RT @WhiteHouse: https://t.co/RNqLpOtS3O   \n",
       "1052219253384994816                 Is it really possible that Bruce Ohr, whose wife Nellie was paid by Simpson and GPS Fusion for work done on the Fake Dossier, and who was used as a Pawn in this whole SCAM (WITCH HUNT), is still working for the Department of Justice????? Can this really be so?????   \n",
       "1052217314463100928  “Conflict between Glen Simpson’s testimony to another House Panel about his contact with Justice Department official Bruce Ohr. Ohr was used by Simpson and Steele as a Back Channel to get (FAKE) Dossier to FBI. Simpson pleading Fifth.” Catherine Herridge. Where is Jeff Sessions?   \n",
       "1052213711295930368  “Federal Judge throws out Stormy Danials lawsuit versus Trump. Trump is entitled to full legal fees.” @FoxNews Great, now I can go after Horseface and her 3rd rate lawyer in the Great State of Texas. She will confirm the letter she signed! She knows nothing about me, a total ...   \n",
       "1052200515608690688                                                                                        Incredible number just out, 7,036,000 job openings. Astonishing - it’s all working! Stock Market up big on tremendous potential of USA. Also, Strong Profits. We are Number One in World, by far!   \n",
       "1052186219696803841                                                                                                                For the record, I have no financial interests in Saudi Arabia (or Russia, for that matter). Any suggestion that I have is just more FAKE NEWS (of which there is plenty)!   \n",
       "1052184484941049857                                                                                                                                                                                                                 “8X more new manufacturing jobs now than with Obama.” @FoxNews  @cvpayne   \n",
       "1052183647552491521                                            The United States has strongly informed the President of Honduras that if the large Caravan of people heading to the U.S. is not stopped and brought back to Honduras, no more money or aid will be given to Honduras, effective immediately!   \n",
       "1052181272137801728                        “Op-Ed praises Trump Administrations efforts at the Border.” @FoxNews  The  Washington Examiner States, “Finally, the government has taken steps to stop releasing unaccompanied minors to criminals and traffickers.” This was done by the Obama Administration!   \n",
       "\n",
       "                     retweet_count  \n",
       "id                                  \n",
       "947824196909961216            8237  \n",
       "947810806430826496           14595  \n",
       "947802588174577664           49566  \n",
       "947614110082043904           35164  \n",
       "947592785519173637           39428  \n",
       "947588263103139841           27984  \n",
       "947544600918372353           26433  \n",
       "947536951464333318           16989  \n",
       "947461470924820480           25981  \n",
       "947458942719979520           14449  \n",
       "1052233253040640001           5415  \n",
       "1052232230972678145           4478  \n",
       "1052219253384994816          13103  \n",
       "1052217314463100928           6271  \n",
       "1052213711295930368          14594  \n",
       "1052200515608690688          13944  \n",
       "1052186219696803841          13402  \n",
       "1052184484941049857          10397  \n",
       "1052183647552491521          27494  \n",
       "1052181272137801728           9139  "
      ]
     },
     "execution_count": 4,
     "metadata": {},
     "output_type": "execute_result"
    }
   ],
   "source": [
    "df"
   ]
  },
  {
   "cell_type": "code",
   "execution_count": 5,
   "metadata": {},
   "outputs": [
    {
     "name": "stdout",
     "output_type": "stream",
     "text": [
      "645\n"
     ]
    },
    {
     "data": {
      "text/html": [
       "<div>\n",
       "<style scoped>\n",
       "    .dataframe tbody tr th:only-of-type {\n",
       "        vertical-align: middle;\n",
       "    }\n",
       "\n",
       "    .dataframe tbody tr th {\n",
       "        vertical-align: top;\n",
       "    }\n",
       "\n",
       "    .dataframe thead th {\n",
       "        text-align: right;\n",
       "    }\n",
       "</style>\n",
       "<table border=\"1\" class=\"dataframe\">\n",
       "  <thead>\n",
       "    <tr style=\"text-align: right;\">\n",
       "      <th></th>\n",
       "      <th>id</th>\n",
       "      <th>word</th>\n",
       "    </tr>\n",
       "  </thead>\n",
       "  <tbody>\n",
       "    <tr>\n",
       "      <th>0</th>\n",
       "      <td>947824196909961216</td>\n",
       "      <td>Will</td>\n",
       "    </tr>\n",
       "    <tr>\n",
       "      <th>1</th>\n",
       "      <td>947824196909961216</td>\n",
       "      <td>be</td>\n",
       "    </tr>\n",
       "    <tr>\n",
       "      <th>2</th>\n",
       "      <td>947824196909961216</td>\n",
       "      <td>leaving</td>\n",
       "    </tr>\n",
       "    <tr>\n",
       "      <th>3</th>\n",
       "      <td>947824196909961216</td>\n",
       "      <td>Florida</td>\n",
       "    </tr>\n",
       "    <tr>\n",
       "      <th>4</th>\n",
       "      <td>947824196909961216</td>\n",
       "      <td>for</td>\n",
       "    </tr>\n",
       "    <tr>\n",
       "      <th>5</th>\n",
       "      <td>947824196909961216</td>\n",
       "      <td>Washington</td>\n",
       "    </tr>\n",
       "    <tr>\n",
       "      <th>6</th>\n",
       "      <td>947824196909961216</td>\n",
       "      <td>(D.C.)</td>\n",
       "    </tr>\n",
       "    <tr>\n",
       "      <th>7</th>\n",
       "      <td>947824196909961216</td>\n",
       "      <td>today</td>\n",
       "    </tr>\n",
       "    <tr>\n",
       "      <th>8</th>\n",
       "      <td>947824196909961216</td>\n",
       "      <td>at</td>\n",
       "    </tr>\n",
       "    <tr>\n",
       "      <th>9</th>\n",
       "      <td>947824196909961216</td>\n",
       "      <td>4:00</td>\n",
       "    </tr>\n",
       "    <tr>\n",
       "      <th>10</th>\n",
       "      <td>947824196909961216</td>\n",
       "      <td>P.M.</td>\n",
       "    </tr>\n",
       "    <tr>\n",
       "      <th>11</th>\n",
       "      <td>947824196909961216</td>\n",
       "      <td>Much</td>\n",
       "    </tr>\n",
       "    <tr>\n",
       "      <th>12</th>\n",
       "      <td>947824196909961216</td>\n",
       "      <td>work</td>\n",
       "    </tr>\n",
       "    <tr>\n",
       "      <th>13</th>\n",
       "      <td>947824196909961216</td>\n",
       "      <td>to</td>\n",
       "    </tr>\n",
       "    <tr>\n",
       "      <th>14</th>\n",
       "      <td>947824196909961216</td>\n",
       "      <td>be</td>\n",
       "    </tr>\n",
       "    <tr>\n",
       "      <th>15</th>\n",
       "      <td>947824196909961216</td>\n",
       "      <td>done,</td>\n",
       "    </tr>\n",
       "    <tr>\n",
       "      <th>16</th>\n",
       "      <td>947824196909961216</td>\n",
       "      <td>but</td>\n",
       "    </tr>\n",
       "    <tr>\n",
       "      <th>17</th>\n",
       "      <td>947824196909961216</td>\n",
       "      <td>it</td>\n",
       "    </tr>\n",
       "    <tr>\n",
       "      <th>18</th>\n",
       "      <td>947824196909961216</td>\n",
       "      <td>will</td>\n",
       "    </tr>\n",
       "    <tr>\n",
       "      <th>19</th>\n",
       "      <td>947824196909961216</td>\n",
       "      <td>be</td>\n",
       "    </tr>\n",
       "  </tbody>\n",
       "</table>\n",
       "</div>"
      ],
      "text/plain": [
       "                    id        word\n",
       "0   947824196909961216        Will\n",
       "1   947824196909961216          be\n",
       "2   947824196909961216     leaving\n",
       "3   947824196909961216     Florida\n",
       "4   947824196909961216         for\n",
       "5   947824196909961216  Washington\n",
       "6   947824196909961216      (D.C.)\n",
       "7   947824196909961216       today\n",
       "8   947824196909961216          at\n",
       "9   947824196909961216        4:00\n",
       "10  947824196909961216        P.M.\n",
       "11  947824196909961216        Much\n",
       "12  947824196909961216        work\n",
       "13  947824196909961216          to\n",
       "14  947824196909961216          be\n",
       "15  947824196909961216       done,\n",
       "16  947824196909961216         but\n",
       "17  947824196909961216          it\n",
       "18  947824196909961216        will\n",
       "19  947824196909961216          be"
      ]
     },
     "execution_count": 5,
     "metadata": {},
     "output_type": "execute_result"
    }
   ],
   "source": [
    "# separate 'text' column into words\n",
    "df_sep = df['text'].str.split(expand=True).stack().to_frame().reset_index()\n",
    "df_sep = df_sep.rename(columns={'level_1': 'num', 0: 'word'})\n",
    "tmp = df_sep.drop('num', axis=1)\n",
    "print(len(tmp))\n",
    "tmp.head(20)"
   ]
  },
  {
   "cell_type": "code",
   "execution_count": 6,
   "metadata": {},
   "outputs": [
    {
     "name": "stderr",
     "output_type": "stream",
     "text": [
      "[nltk_data] Downloading package stopwords to\n",
      "[nltk_data]     C:\\Users\\theal\\AppData\\Roaming\\nltk_data...\n",
      "[nltk_data]   Package stopwords is already up-to-date!\n",
      "[nltk_data] Downloading package wordnet to\n",
      "[nltk_data]     C:\\Users\\theal\\AppData\\Roaming\\nltk_data...\n",
      "[nltk_data]   Package wordnet is already up-to-date!\n"
     ]
    },
    {
     "data": {
      "text/plain": [
       "True"
      ]
     },
     "execution_count": 6,
     "metadata": {},
     "output_type": "execute_result"
    }
   ],
   "source": [
    "# remove stopwords\n",
    "import nltk\n",
    "import nltk.corpus\n",
    "nltk.download('stopwords')\n",
    "nltk.download('wordnet')"
   ]
  },
  {
   "cell_type": "code",
   "execution_count": 7,
   "metadata": {},
   "outputs": [
    {
     "name": "stdout",
     "output_type": "stream",
     "text": [
      "['i', 'me', 'my', 'myself', 'we', 'our', 'ours', 'ourselves', 'you', \"you're\", \"you've\", \"you'll\", \"you'd\", 'your', 'yours', 'yourself', 'yourselves', 'he', 'him', 'his', 'himself', 'she', \"she's\", 'her', 'hers', 'herself', 'it', \"it's\", 'its', 'itself', 'they', 'them', 'their', 'theirs', 'themselves', 'what', 'which', 'who', 'whom', 'this', 'that', \"that'll\", 'these', 'those', 'am', 'is', 'are', 'was', 'were', 'be', 'been', 'being', 'have', 'has', 'had', 'having', 'do', 'does', 'did', 'doing', 'a', 'an', 'the', 'and', 'but', 'if', 'or', 'because', 'as', 'until', 'while', 'of', 'at', 'by', 'for', 'with', 'about', 'against', 'between', 'into', 'through', 'during', 'before', 'after', 'above', 'below', 'to', 'from', 'up', 'down', 'in', 'out', 'on', 'off', 'over', 'under', 'again', 'further', 'then', 'once', 'here', 'there', 'when', 'where', 'why', 'how', 'all', 'any', 'both', 'each', 'few', 'more', 'most', 'other', 'some', 'such', 'no', 'nor', 'not', 'only', 'own', 'same', 'so', 'than', 'too', 'very', 's', 't', 'can', 'will', 'just', 'don', \"don't\", 'should', \"should've\", 'now', 'd', 'll', 'm', 'o', 're', 've', 'y', 'ain', 'aren', \"aren't\", 'couldn', \"couldn't\", 'didn', \"didn't\", 'doesn', \"doesn't\", 'hadn', \"hadn't\", 'hasn', \"hasn't\", 'haven', \"haven't\", 'isn', \"isn't\", 'ma', 'mightn', \"mightn't\", 'mustn', \"mustn't\", 'needn', \"needn't\", 'shan', \"shan't\", 'shouldn', \"shouldn't\", 'wasn', \"wasn't\", 'weren', \"weren't\", 'won', \"won't\", 'wouldn', \"wouldn't\"]\n"
     ]
    }
   ],
   "source": [
    "from nltk.corpus import stopwords\n",
    "stop_words = stopwords.words('english')\n",
    "print(stop_words)"
   ]
  },
  {
   "cell_type": "code",
   "execution_count": 8,
   "metadata": {},
   "outputs": [
    {
     "data": {
      "text/html": [
       "<div>\n",
       "<style scoped>\n",
       "    .dataframe tbody tr th:only-of-type {\n",
       "        vertical-align: middle;\n",
       "    }\n",
       "\n",
       "    .dataframe tbody tr th {\n",
       "        vertical-align: top;\n",
       "    }\n",
       "\n",
       "    .dataframe thead th {\n",
       "        text-align: right;\n",
       "    }\n",
       "</style>\n",
       "<table border=\"1\" class=\"dataframe\">\n",
       "  <thead>\n",
       "    <tr style=\"text-align: right;\">\n",
       "      <th></th>\n",
       "      <th>id</th>\n",
       "      <th>word</th>\n",
       "    </tr>\n",
       "  </thead>\n",
       "  <tbody>\n",
       "    <tr>\n",
       "      <th>0</th>\n",
       "      <td>947824196909961216</td>\n",
       "      <td>Will</td>\n",
       "    </tr>\n",
       "    <tr>\n",
       "      <th>2</th>\n",
       "      <td>947824196909961216</td>\n",
       "      <td>leaving</td>\n",
       "    </tr>\n",
       "    <tr>\n",
       "      <th>3</th>\n",
       "      <td>947824196909961216</td>\n",
       "      <td>Florida</td>\n",
       "    </tr>\n",
       "    <tr>\n",
       "      <th>5</th>\n",
       "      <td>947824196909961216</td>\n",
       "      <td>Washington</td>\n",
       "    </tr>\n",
       "    <tr>\n",
       "      <th>6</th>\n",
       "      <td>947824196909961216</td>\n",
       "      <td>(D.C.)</td>\n",
       "    </tr>\n",
       "    <tr>\n",
       "      <th>7</th>\n",
       "      <td>947824196909961216</td>\n",
       "      <td>today</td>\n",
       "    </tr>\n",
       "    <tr>\n",
       "      <th>9</th>\n",
       "      <td>947824196909961216</td>\n",
       "      <td>4:00</td>\n",
       "    </tr>\n",
       "    <tr>\n",
       "      <th>10</th>\n",
       "      <td>947824196909961216</td>\n",
       "      <td>P.M.</td>\n",
       "    </tr>\n",
       "    <tr>\n",
       "      <th>11</th>\n",
       "      <td>947824196909961216</td>\n",
       "      <td>Much</td>\n",
       "    </tr>\n",
       "    <tr>\n",
       "      <th>12</th>\n",
       "      <td>947824196909961216</td>\n",
       "      <td>work</td>\n",
       "    </tr>\n",
       "    <tr>\n",
       "      <th>15</th>\n",
       "      <td>947824196909961216</td>\n",
       "      <td>done,</td>\n",
       "    </tr>\n",
       "    <tr>\n",
       "      <th>21</th>\n",
       "      <td>947824196909961216</td>\n",
       "      <td>great</td>\n",
       "    </tr>\n",
       "    <tr>\n",
       "      <th>22</th>\n",
       "      <td>947824196909961216</td>\n",
       "      <td>New</td>\n",
       "    </tr>\n",
       "    <tr>\n",
       "      <th>23</th>\n",
       "      <td>947824196909961216</td>\n",
       "      <td>Year!</td>\n",
       "    </tr>\n",
       "    <tr>\n",
       "      <th>24</th>\n",
       "      <td>947810806430826496</td>\n",
       "      <td>Iran</td>\n",
       "    </tr>\n",
       "    <tr>\n",
       "      <th>26</th>\n",
       "      <td>947810806430826496</td>\n",
       "      <td>failing</td>\n",
       "    </tr>\n",
       "    <tr>\n",
       "      <th>28</th>\n",
       "      <td>947810806430826496</td>\n",
       "      <td>every</td>\n",
       "    </tr>\n",
       "    <tr>\n",
       "      <th>29</th>\n",
       "      <td>947810806430826496</td>\n",
       "      <td>level</td>\n",
       "    </tr>\n",
       "    <tr>\n",
       "      <th>30</th>\n",
       "      <td>947810806430826496</td>\n",
       "      <td>despite</td>\n",
       "    </tr>\n",
       "    <tr>\n",
       "      <th>32</th>\n",
       "      <td>947810806430826496</td>\n",
       "      <td>terrible</td>\n",
       "    </tr>\n",
       "  </tbody>\n",
       "</table>\n",
       "</div>"
      ],
      "text/plain": [
       "                    id        word\n",
       "0   947824196909961216        Will\n",
       "2   947824196909961216     leaving\n",
       "3   947824196909961216     Florida\n",
       "5   947824196909961216  Washington\n",
       "6   947824196909961216      (D.C.)\n",
       "7   947824196909961216       today\n",
       "9   947824196909961216        4:00\n",
       "10  947824196909961216        P.M.\n",
       "11  947824196909961216        Much\n",
       "12  947824196909961216        work\n",
       "15  947824196909961216       done,\n",
       "21  947824196909961216       great\n",
       "22  947824196909961216         New\n",
       "23  947824196909961216       Year!\n",
       "24  947810806430826496        Iran\n",
       "26  947810806430826496     failing\n",
       "28  947810806430826496       every\n",
       "29  947810806430826496       level\n",
       "30  947810806430826496     despite\n",
       "32  947810806430826496    terrible"
      ]
     },
     "execution_count": 8,
     "metadata": {},
     "output_type": "execute_result"
    }
   ],
   "source": [
    "stop_words.extend(['rt','t','co','https','realdonaldtrump','amp',\"u\",'hillary','trump2016','trump','clinton','http','ha','wa'])\n",
    "tmp = tmp[~tmp['word'].isin(stop_words)]\n",
    "tmp.head(20)"
   ]
  },
  {
   "cell_type": "code",
   "execution_count": 9,
   "metadata": {},
   "outputs": [
    {
     "name": "stdout",
     "output_type": "stream",
     "text": [
      "rocks:  rock\n",
      "better:  good\n",
      "studying:  study\n"
     ]
    }
   ],
   "source": [
    "# deal with plurals\n",
    "from nltk.stem import WordNetLemmatizer\n",
    "\n",
    "lemmatizer = WordNetLemmatizer()\n",
    "\n",
    "print(\"rocks: \",lemmatizer.lemmatize(\"rocks\"))\n",
    "print(\"better: \",lemmatizer.lemmatize(\"better\", pos = 'a'))\n",
    "print(\"studying: \",lemmatizer.lemmatize(\"studying\", pos = 'v'))"
   ]
  },
  {
   "cell_type": "code",
   "execution_count": 10,
   "metadata": {},
   "outputs": [
    {
     "name": "stderr",
     "output_type": "stream",
     "text": [
      "[nltk_data] Downloading package punkt to\n",
      "[nltk_data]     C:\\Users\\theal\\AppData\\Roaming\\nltk_data...\n"
     ]
    },
    {
     "name": "stdout",
     "output_type": "stream",
     "text": [
      "tokenization:  ['studies', 'studying', 'cries', 'cry']\n",
      "Lemma for studies is study\n",
      "Lemma for studying is studying\n",
      "Lemma for cries is cry\n",
      "Lemma for cry is cry\n"
     ]
    },
    {
     "name": "stderr",
     "output_type": "stream",
     "text": [
      "[nltk_data]   Unzipping tokenizers\\punkt.zip.\n"
     ]
    }
   ],
   "source": [
    "nltk.download('punkt')\n",
    "text = 'studies studying cries cry'\n",
    "tokenization = nltk.word_tokenize(text)\n",
    "print(\"tokenization: \",tokenization)\n",
    "for w in tokenization:\n",
    "    print(\"Lemma for {} is {}\".format(w, lemmatizer.lemmatize(w)))"
   ]
  },
  {
   "cell_type": "code",
   "execution_count": 11,
   "metadata": {},
   "outputs": [
    {
     "data": {
      "text/html": [
       "<div>\n",
       "<style scoped>\n",
       "    .dataframe tbody tr th:only-of-type {\n",
       "        vertical-align: middle;\n",
       "    }\n",
       "\n",
       "    .dataframe tbody tr th {\n",
       "        vertical-align: top;\n",
       "    }\n",
       "\n",
       "    .dataframe thead th {\n",
       "        text-align: right;\n",
       "    }\n",
       "</style>\n",
       "<table border=\"1\" class=\"dataframe\">\n",
       "  <thead>\n",
       "    <tr style=\"text-align: right;\">\n",
       "      <th></th>\n",
       "      <th>id</th>\n",
       "      <th>word</th>\n",
       "    </tr>\n",
       "  </thead>\n",
       "  <tbody>\n",
       "    <tr>\n",
       "      <th>0</th>\n",
       "      <td>947824196909961216</td>\n",
       "      <td>Will</td>\n",
       "    </tr>\n",
       "    <tr>\n",
       "      <th>2</th>\n",
       "      <td>947824196909961216</td>\n",
       "      <td>leaving</td>\n",
       "    </tr>\n",
       "    <tr>\n",
       "      <th>3</th>\n",
       "      <td>947824196909961216</td>\n",
       "      <td>Florida</td>\n",
       "    </tr>\n",
       "    <tr>\n",
       "      <th>5</th>\n",
       "      <td>947824196909961216</td>\n",
       "      <td>Washington</td>\n",
       "    </tr>\n",
       "    <tr>\n",
       "      <th>6</th>\n",
       "      <td>947824196909961216</td>\n",
       "      <td>(D.C.)</td>\n",
       "    </tr>\n",
       "    <tr>\n",
       "      <th>7</th>\n",
       "      <td>947824196909961216</td>\n",
       "      <td>today</td>\n",
       "    </tr>\n",
       "    <tr>\n",
       "      <th>9</th>\n",
       "      <td>947824196909961216</td>\n",
       "      <td>4:00</td>\n",
       "    </tr>\n",
       "    <tr>\n",
       "      <th>10</th>\n",
       "      <td>947824196909961216</td>\n",
       "      <td>P.M.</td>\n",
       "    </tr>\n",
       "    <tr>\n",
       "      <th>11</th>\n",
       "      <td>947824196909961216</td>\n",
       "      <td>Much</td>\n",
       "    </tr>\n",
       "    <tr>\n",
       "      <th>12</th>\n",
       "      <td>947824196909961216</td>\n",
       "      <td>work</td>\n",
       "    </tr>\n",
       "    <tr>\n",
       "      <th>15</th>\n",
       "      <td>947824196909961216</td>\n",
       "      <td>done,</td>\n",
       "    </tr>\n",
       "    <tr>\n",
       "      <th>21</th>\n",
       "      <td>947824196909961216</td>\n",
       "      <td>great</td>\n",
       "    </tr>\n",
       "    <tr>\n",
       "      <th>22</th>\n",
       "      <td>947824196909961216</td>\n",
       "      <td>New</td>\n",
       "    </tr>\n",
       "    <tr>\n",
       "      <th>23</th>\n",
       "      <td>947824196909961216</td>\n",
       "      <td>Year!</td>\n",
       "    </tr>\n",
       "    <tr>\n",
       "      <th>24</th>\n",
       "      <td>947810806430826496</td>\n",
       "      <td>Iran</td>\n",
       "    </tr>\n",
       "    <tr>\n",
       "      <th>26</th>\n",
       "      <td>947810806430826496</td>\n",
       "      <td>failing</td>\n",
       "    </tr>\n",
       "    <tr>\n",
       "      <th>28</th>\n",
       "      <td>947810806430826496</td>\n",
       "      <td>every</td>\n",
       "    </tr>\n",
       "    <tr>\n",
       "      <th>29</th>\n",
       "      <td>947810806430826496</td>\n",
       "      <td>level</td>\n",
       "    </tr>\n",
       "    <tr>\n",
       "      <th>30</th>\n",
       "      <td>947810806430826496</td>\n",
       "      <td>despite</td>\n",
       "    </tr>\n",
       "    <tr>\n",
       "      <th>32</th>\n",
       "      <td>947810806430826496</td>\n",
       "      <td>terrible</td>\n",
       "    </tr>\n",
       "  </tbody>\n",
       "</table>\n",
       "</div>"
      ],
      "text/plain": [
       "                    id        word\n",
       "0   947824196909961216        Will\n",
       "2   947824196909961216     leaving\n",
       "3   947824196909961216     Florida\n",
       "5   947824196909961216  Washington\n",
       "6   947824196909961216      (D.C.)\n",
       "7   947824196909961216       today\n",
       "9   947824196909961216        4:00\n",
       "10  947824196909961216        P.M.\n",
       "11  947824196909961216        Much\n",
       "12  947824196909961216        work\n",
       "15  947824196909961216       done,\n",
       "21  947824196909961216       great\n",
       "22  947824196909961216         New\n",
       "23  947824196909961216       Year!\n",
       "24  947810806430826496        Iran\n",
       "26  947810806430826496     failing\n",
       "28  947810806430826496       every\n",
       "29  947810806430826496       level\n",
       "30  947810806430826496     despite\n",
       "32  947810806430826496    terrible"
      ]
     },
     "execution_count": 11,
     "metadata": {},
     "output_type": "execute_result"
    }
   ],
   "source": [
    "tmp['word'] = tmp.word.apply(lemmatizer.lemmatize)\n",
    "tmp.head(20)"
   ]
  },
  {
   "cell_type": "code",
   "execution_count": 12,
   "metadata": {},
   "outputs": [
    {
     "data": {
      "text/html": [
       "<div>\n",
       "<style scoped>\n",
       "    .dataframe tbody tr th:only-of-type {\n",
       "        vertical-align: middle;\n",
       "    }\n",
       "\n",
       "    .dataframe tbody tr th {\n",
       "        vertical-align: top;\n",
       "    }\n",
       "\n",
       "    .dataframe thead th {\n",
       "        text-align: right;\n",
       "    }\n",
       "</style>\n",
       "<table border=\"1\" class=\"dataframe\">\n",
       "  <thead>\n",
       "    <tr style=\"text-align: right;\">\n",
       "      <th></th>\n",
       "      <th>word</th>\n",
       "    </tr>\n",
       "  </thead>\n",
       "  <tbody>\n",
       "    <tr>\n",
       "      <th>great</th>\n",
       "      <td>5</td>\n",
       "    </tr>\n",
       "    <tr>\n",
       "      <th>The</th>\n",
       "      <td>4</td>\n",
       "    </tr>\n",
       "    <tr>\n",
       "      <th>I</th>\n",
       "      <td>4</td>\n",
       "    </tr>\n",
       "    <tr>\n",
       "      <th>We</th>\n",
       "      <td>3</td>\n",
       "    </tr>\n",
       "    <tr>\n",
       "      <th>New</th>\n",
       "      <td>3</td>\n",
       "    </tr>\n",
       "  </tbody>\n",
       "</table>\n",
       "</div>"
      ],
      "text/plain": [
       "       word\n",
       "great     5\n",
       "The       4\n",
       "I         4\n",
       "We        3\n",
       "New       3"
      ]
     },
     "execution_count": 12,
     "metadata": {},
     "output_type": "execute_result"
    }
   ],
   "source": [
    "# get the words with top 5 frequency\n",
    "top5 = tmp['word'].value_counts(ascending=True).nlargest(5).to_frame()\n",
    "top5"
   ]
  },
  {
   "cell_type": "code",
   "execution_count": 13,
   "metadata": {},
   "outputs": [
    {
     "data": {
      "text/html": [
       "<div>\n",
       "<style scoped>\n",
       "    .dataframe tbody tr th:only-of-type {\n",
       "        vertical-align: middle;\n",
       "    }\n",
       "\n",
       "    .dataframe tbody tr th {\n",
       "        vertical-align: top;\n",
       "    }\n",
       "\n",
       "    .dataframe thead th {\n",
       "        text-align: right;\n",
       "    }\n",
       "</style>\n",
       "<table border=\"1\" class=\"dataframe\">\n",
       "  <thead>\n",
       "    <tr style=\"text-align: right;\">\n",
       "      <th></th>\n",
       "      <th>id</th>\n",
       "      <th>word</th>\n",
       "    </tr>\n",
       "  </thead>\n",
       "  <tbody>\n",
       "    <tr>\n",
       "      <th>21</th>\n",
       "      <td>947824196909961216</td>\n",
       "      <td>great</td>\n",
       "    </tr>\n",
       "    <tr>\n",
       "      <th>22</th>\n",
       "      <td>947824196909961216</td>\n",
       "      <td>New</td>\n",
       "    </tr>\n",
       "    <tr>\n",
       "      <th>41</th>\n",
       "      <td>947810806430826496</td>\n",
       "      <td>The</td>\n",
       "    </tr>\n",
       "    <tr>\n",
       "      <th>42</th>\n",
       "      <td>947810806430826496</td>\n",
       "      <td>great</td>\n",
       "    </tr>\n",
       "    <tr>\n",
       "      <th>73</th>\n",
       "      <td>947802588174577664</td>\n",
       "      <td>The</td>\n",
       "    </tr>\n",
       "    <tr>\n",
       "      <th>127</th>\n",
       "      <td>947614110082043904</td>\n",
       "      <td>We</td>\n",
       "    </tr>\n",
       "    <tr>\n",
       "      <th>148</th>\n",
       "      <td>947592785519173637</td>\n",
       "      <td>I</td>\n",
       "    </tr>\n",
       "    <tr>\n",
       "      <th>171</th>\n",
       "      <td>947592785519173637</td>\n",
       "      <td>New</td>\n",
       "    </tr>\n",
       "    <tr>\n",
       "      <th>177</th>\n",
       "      <td>947592785519173637</td>\n",
       "      <td>great</td>\n",
       "    </tr>\n",
       "    <tr>\n",
       "      <th>232</th>\n",
       "      <td>947544600918372353</td>\n",
       "      <td>New</td>\n",
       "    </tr>\n",
       "    <tr>\n",
       "      <th>252</th>\n",
       "      <td>947536951464333318</td>\n",
       "      <td>We</td>\n",
       "    </tr>\n",
       "    <tr>\n",
       "      <th>285</th>\n",
       "      <td>947461470924820480</td>\n",
       "      <td>great</td>\n",
       "    </tr>\n",
       "    <tr>\n",
       "      <th>336</th>\n",
       "      <td>947458942719979520</td>\n",
       "      <td>great</td>\n",
       "    </tr>\n",
       "    <tr>\n",
       "      <th>464</th>\n",
       "      <td>1052213711295930368</td>\n",
       "      <td>I</td>\n",
       "    </tr>\n",
       "    <tr>\n",
       "      <th>519</th>\n",
       "      <td>1052200515608690688</td>\n",
       "      <td>We</td>\n",
       "    </tr>\n",
       "    <tr>\n",
       "      <th>530</th>\n",
       "      <td>1052186219696803841</td>\n",
       "      <td>I</td>\n",
       "    </tr>\n",
       "    <tr>\n",
       "      <th>546</th>\n",
       "      <td>1052186219696803841</td>\n",
       "      <td>I</td>\n",
       "    </tr>\n",
       "    <tr>\n",
       "      <th>569</th>\n",
       "      <td>1052183647552491521</td>\n",
       "      <td>The</td>\n",
       "    </tr>\n",
       "    <tr>\n",
       "      <th>619</th>\n",
       "      <td>1052181272137801728</td>\n",
       "      <td>The</td>\n",
       "    </tr>\n",
       "  </tbody>\n",
       "</table>\n",
       "</div>"
      ],
      "text/plain": [
       "                      id   word\n",
       "21    947824196909961216  great\n",
       "22    947824196909961216    New\n",
       "41    947810806430826496    The\n",
       "42    947810806430826496  great\n",
       "73    947802588174577664    The\n",
       "127   947614110082043904     We\n",
       "148   947592785519173637      I\n",
       "171   947592785519173637    New\n",
       "177   947592785519173637  great\n",
       "232   947544600918372353    New\n",
       "252   947536951464333318     We\n",
       "285   947461470924820480  great\n",
       "336   947458942719979520  great\n",
       "464  1052213711295930368      I\n",
       "519  1052200515608690688     We\n",
       "530  1052186219696803841      I\n",
       "546  1052186219696803841      I\n",
       "569  1052183647552491521    The\n",
       "619  1052181272137801728    The"
      ]
     },
     "execution_count": 13,
     "metadata": {},
     "output_type": "execute_result"
    }
   ],
   "source": [
    "# fileter the ids to make sure each id contains at least one of the words in top5\n",
    "tmp2 = tmp[tmp['word'].isin(top5.index)]\n",
    "tmp2"
   ]
  },
  {
   "cell_type": "code",
   "execution_count": 14,
   "metadata": {},
   "outputs": [
    {
     "data": {
      "text/plain": [
       "array([ 947824196909961216,  947810806430826496,  947802588174577664,\n",
       "        947614110082043904,  947592785519173637,  947544600918372353,\n",
       "        947536951464333318,  947461470924820480,  947458942719979520,\n",
       "       1052213711295930368], dtype=int64)"
      ]
     },
     "execution_count": 14,
     "metadata": {},
     "output_type": "execute_result"
    }
   ],
   "source": [
    "# get the first 10 unique ids\n",
    "idlist = tmp2['id'].unique()\n",
    "idlist = idlist[:10]\n",
    "idlist"
   ]
  },
  {
   "cell_type": "code",
   "execution_count": 15,
   "metadata": {},
   "outputs": [
    {
     "data": {
      "text/plain": [
       "Index(['great', 'The', 'I', 'We', 'New'], dtype='object')"
      ]
     },
     "execution_count": 15,
     "metadata": {},
     "output_type": "execute_result"
    }
   ],
   "source": [
    "top5.index"
   ]
  },
  {
   "cell_type": "code",
   "execution_count": 16,
   "metadata": {},
   "outputs": [
    {
     "data": {
      "text/html": [
       "<div>\n",
       "<style scoped>\n",
       "    .dataframe tbody tr th:only-of-type {\n",
       "        vertical-align: middle;\n",
       "    }\n",
       "\n",
       "    .dataframe tbody tr th {\n",
       "        vertical-align: top;\n",
       "    }\n",
       "\n",
       "    .dataframe thead th {\n",
       "        text-align: right;\n",
       "    }\n",
       "</style>\n",
       "<table border=\"1\" class=\"dataframe\">\n",
       "  <thead>\n",
       "    <tr style=\"text-align: right;\">\n",
       "      <th></th>\n",
       "      <th>created_at</th>\n",
       "      <th>source</th>\n",
       "      <th>text</th>\n",
       "      <th>retweet_count</th>\n",
       "    </tr>\n",
       "    <tr>\n",
       "      <th>id</th>\n",
       "      <th></th>\n",
       "      <th></th>\n",
       "      <th></th>\n",
       "      <th></th>\n",
       "    </tr>\n",
       "  </thead>\n",
       "  <tbody>\n",
       "    <tr>\n",
       "      <th>947824196909961216</th>\n",
       "      <td>Mon Jan 01 13:37:52 +0000 2018</td>\n",
       "      <td>Twitter for iPhone</td>\n",
       "      <td>Will be leaving Florida for Washington (D.C.) today at 4:00 P.M. Much work to be done, but it will be a great New Year!</td>\n",
       "      <td>8237</td>\n",
       "    </tr>\n",
       "    <tr>\n",
       "      <th>947810806430826496</th>\n",
       "      <td>Mon Jan 01 12:44:40 +0000 2018</td>\n",
       "      <td>Twitter for iPhone</td>\n",
       "      <td>Iran is failing at every level despite the terrible deal made with them by the Obama Administration. The great Iranian people have been repressed for many years. They are hungry for food &amp;amp; for freedom. Along with human rights, the wealth of Iran is being looted. TIME FOR ...</td>\n",
       "      <td>14595</td>\n",
       "    </tr>\n",
       "    <tr>\n",
       "      <th>947802588174577664</th>\n",
       "      <td>Mon Jan 01 12:12:00 +0000 2018</td>\n",
       "      <td>Twitter for iPhone</td>\n",
       "      <td>The United States has foolishly given Pakistan more than 33 billion dollars in aid over the last 15 years, and they have given us nothing but lies &amp;amp; deceit, thinking of our leaders as fools. They give safe haven to the terrorists we hunt in Afghanistan, with little help. ...</td>\n",
       "      <td>49566</td>\n",
       "    </tr>\n",
       "    <tr>\n",
       "      <th>947614110082043904</th>\n",
       "      <td>Sun Dec 31 23:43:04 +0000 2017</td>\n",
       "      <td>Twitter for iPhone</td>\n",
       "      <td>HAPPY NEW YEAR! We are MAKING AMERICA GREAT AGAIN, and much faster than anyone thought possible!</td>\n",
       "      <td>35164</td>\n",
       "    </tr>\n",
       "    <tr>\n",
       "      <th>947592785519173637</th>\n",
       "      <td>Sun Dec 31 22:18:20 +0000 2017</td>\n",
       "      <td>Twitter for iPhone</td>\n",
       "      <td>As our Country rapidly grows stronger and smarter, I want to wish all of my friends, supporters, enemies, haters, and even the very dishonest Fake News Media, a Happy and Healthy New Year. 2018 will be a great year for America!</td>\n",
       "      <td>39428</td>\n",
       "    </tr>\n",
       "    <tr>\n",
       "      <th>947544600918372353</th>\n",
       "      <td>Sun Dec 31 19:06:52 +0000 2017</td>\n",
       "      <td>Media Studio</td>\n",
       "      <td>What a year it’s been, and we're just getting started. Together, we are MAKING AMERICA GREAT AGAIN! Happy New Year!! https://t.co/qsMNyN1UJG</td>\n",
       "      <td>26433</td>\n",
       "    </tr>\n",
       "    <tr>\n",
       "      <th>947536951464333318</th>\n",
       "      <td>Sun Dec 31 18:36:28 +0000 2017</td>\n",
       "      <td>Twitter for iPhone</td>\n",
       "      <td>My deepest condolences to the victims of the terrible shooting in Douglas County @DCSheriff, and their families. We love our police and law enforcement - God Bless them all! #LESM</td>\n",
       "      <td>16989</td>\n",
       "    </tr>\n",
       "    <tr>\n",
       "      <th>947461470924820480</th>\n",
       "      <td>Sun Dec 31 13:36:32 +0000 2017</td>\n",
       "      <td>Twitter for iPhone</td>\n",
       "      <td>Why would smart voters want to put Democrats in Congress in 2018 Election when their policies will totally kill the great wealth created during the months since the Election. People are much better off now not to mention ISIS, VA, Judges, Strong Border, 2nd A, Tax Cuts &amp;amp; ...</td>\n",
       "      <td>25981</td>\n",
       "    </tr>\n",
       "    <tr>\n",
       "      <th>947458942719979520</th>\n",
       "      <td>Sun Dec 31 13:26:29 +0000 2017</td>\n",
       "      <td>Twitter for iPhone</td>\n",
       "      <td>If the Dems (Crooked Hillary) got elected, your stocks would be down 50% from values on Election Day. Now they have a great future - and just beginning! https://t.co/9TzSC8F8vY</td>\n",
       "      <td>14449</td>\n",
       "    </tr>\n",
       "    <tr>\n",
       "      <th>1052213711295930368</th>\n",
       "      <td>Tue Oct 16 15:04:32 +0000 2018</td>\n",
       "      <td>&lt;a href=\"http://twitter.com/download/iphone\" rel=\"nofollow\"&gt;Twitter for iPhone&lt;/a&gt;</td>\n",
       "      <td>“Federal Judge throws out Stormy Danials lawsuit versus Trump. Trump is entitled to full legal fees.” @FoxNews Great, now I can go after Horseface and her 3rd rate lawyer in the Great State of Texas. She will confirm the letter she signed! She knows nothing about me, a total ...</td>\n",
       "      <td>14594</td>\n",
       "    </tr>\n",
       "  </tbody>\n",
       "</table>\n",
       "</div>"
      ],
      "text/plain": [
       "                                         created_at  \\\n",
       "id                                                    \n",
       "947824196909961216   Mon Jan 01 13:37:52 +0000 2018   \n",
       "947810806430826496   Mon Jan 01 12:44:40 +0000 2018   \n",
       "947802588174577664   Mon Jan 01 12:12:00 +0000 2018   \n",
       "947614110082043904   Sun Dec 31 23:43:04 +0000 2017   \n",
       "947592785519173637   Sun Dec 31 22:18:20 +0000 2017   \n",
       "947544600918372353   Sun Dec 31 19:06:52 +0000 2017   \n",
       "947536951464333318   Sun Dec 31 18:36:28 +0000 2017   \n",
       "947461470924820480   Sun Dec 31 13:36:32 +0000 2017   \n",
       "947458942719979520   Sun Dec 31 13:26:29 +0000 2017   \n",
       "1052213711295930368  Tue Oct 16 15:04:32 +0000 2018   \n",
       "\n",
       "                                                                                                 source  \\\n",
       "id                                                                                                        \n",
       "947824196909961216                                                                   Twitter for iPhone   \n",
       "947810806430826496                                                                   Twitter for iPhone   \n",
       "947802588174577664                                                                   Twitter for iPhone   \n",
       "947614110082043904                                                                   Twitter for iPhone   \n",
       "947592785519173637                                                                   Twitter for iPhone   \n",
       "947544600918372353                                                                         Media Studio   \n",
       "947536951464333318                                                                   Twitter for iPhone   \n",
       "947461470924820480                                                                   Twitter for iPhone   \n",
       "947458942719979520                                                                   Twitter for iPhone   \n",
       "1052213711295930368  <a href=\"http://twitter.com/download/iphone\" rel=\"nofollow\">Twitter for iPhone</a>   \n",
       "\n",
       "                                                                                                                                                                                                                                                                                                        text  \\\n",
       "id                                                                                                                                                                                                                                                                                                             \n",
       "947824196909961216                                                                                                                                                                   Will be leaving Florida for Washington (D.C.) today at 4:00 P.M. Much work to be done, but it will be a great New Year!   \n",
       "947810806430826496   Iran is failing at every level despite the terrible deal made with them by the Obama Administration. The great Iranian people have been repressed for many years. They are hungry for food &amp; for freedom. Along with human rights, the wealth of Iran is being looted. TIME FOR ...   \n",
       "947802588174577664   The United States has foolishly given Pakistan more than 33 billion dollars in aid over the last 15 years, and they have given us nothing but lies &amp; deceit, thinking of our leaders as fools. They give safe haven to the terrorists we hunt in Afghanistan, with little help. ...   \n",
       "947614110082043904                                                                                                                                                                                          HAPPY NEW YEAR! We are MAKING AMERICA GREAT AGAIN, and much faster than anyone thought possible!   \n",
       "947592785519173637                                                       As our Country rapidly grows stronger and smarter, I want to wish all of my friends, supporters, enemies, haters, and even the very dishonest Fake News Media, a Happy and Healthy New Year. 2018 will be a great year for America!   \n",
       "947544600918372353                                                                                                                                              What a year it’s been, and we're just getting started. Together, we are MAKING AMERICA GREAT AGAIN! Happy New Year!! https://t.co/qsMNyN1UJG   \n",
       "947536951464333318                                                                                                       My deepest condolences to the victims of the terrible shooting in Douglas County @DCSheriff, and their families. We love our police and law enforcement - God Bless them all! #LESM   \n",
       "947461470924820480   Why would smart voters want to put Democrats in Congress in 2018 Election when their policies will totally kill the great wealth created during the months since the Election. People are much better off now not to mention ISIS, VA, Judges, Strong Border, 2nd A, Tax Cuts &amp; ...   \n",
       "947458942719979520                                                                                                          If the Dems (Crooked Hillary) got elected, your stocks would be down 50% from values on Election Day. Now they have a great future - and just beginning! https://t.co/9TzSC8F8vY   \n",
       "1052213711295930368  “Federal Judge throws out Stormy Danials lawsuit versus Trump. Trump is entitled to full legal fees.” @FoxNews Great, now I can go after Horseface and her 3rd rate lawyer in the Great State of Texas. She will confirm the letter she signed! She knows nothing about me, a total ...   \n",
       "\n",
       "                     retweet_count  \n",
       "id                                  \n",
       "947824196909961216            8237  \n",
       "947810806430826496           14595  \n",
       "947802588174577664           49566  \n",
       "947614110082043904           35164  \n",
       "947592785519173637           39428  \n",
       "947544600918372353           26433  \n",
       "947536951464333318           16989  \n",
       "947461470924820480           25981  \n",
       "947458942719979520           14449  \n",
       "1052213711295930368          14594  "
      ]
     },
     "execution_count": 16,
     "metadata": {},
     "output_type": "execute_result"
    }
   ],
   "source": [
    "df.loc[idlist]"
   ]
  },
  {
   "cell_type": "code",
   "execution_count": 17,
   "metadata": {},
   "outputs": [
    {
     "data": {
      "text/plain": [
       "array([[1., 0., 0., 0., 1.],\n",
       "       [1., 1., 0., 0., 0.],\n",
       "       [0., 1., 0., 0., 0.],\n",
       "       [0., 0., 0., 1., 0.],\n",
       "       [1., 0., 1., 0., 1.],\n",
       "       [0., 0., 0., 0., 1.],\n",
       "       [0., 0., 0., 1., 0.],\n",
       "       [1., 0., 0., 0., 0.],\n",
       "       [1., 0., 0., 0., 0.],\n",
       "       [0., 0., 1., 0., 0.]])"
      ]
     },
     "execution_count": 17,
     "metadata": {},
     "output_type": "execute_result"
    }
   ],
   "source": [
    "# create the tf-matrix\n",
    "matrix = np.zeros((10, 5))\n",
    "words = top5.index\n",
    "for i in range(10):\n",
    "    for j in range(5):\n",
    "        if (words[j]) in df['text'].loc[idlist[i]].split():\n",
    "            matrix[i][j] += 1\n",
    "matrix"
   ]
  },
  {
   "cell_type": "markdown",
   "metadata": {},
   "source": [
    "# PCA\n",
    "\n",
    "Are there eigenvalues for non-square matrices?\n",
    "\n",
    "It is not exactly true that non-square matrices can have eigenvalues. Indeed, the definition of an eigenvalue is for square matrices. For non-square matrices, we can define singular values:\n",
    "\n",
    "Definition: The singular values of a m×n matrix A are the positive square roots of the nonzero eigenvalues of the corresponding matrix ATA. The corresponding eigenvectors are called the singular vectors.\n",
    "\n",
    "\n",
    "To calculate the SVD for a non-square matrix, we use left singular vectors and right singular vectors for a matrix A.\n",
    "https://math.stackexchange.com/questions/3982195/what-are-left-and-right-singular-vectors-in-svd"
   ]
  },
  {
   "cell_type": "code",
   "execution_count": 18,
   "metadata": {},
   "outputs": [],
   "source": [
    "mu = matrix.mean(axis = 0)\n",
    "\n",
    "matrix_ =matrix - mu\n",
    "\n",
    "Sigma = matrix_.T @ matrix / len(matrix_)\n",
    "\n",
    "import scipy.linalg as linalg\n",
    "u,lam, uh = linalg.svd(Sigma)"
   ]
  },
  {
   "cell_type": "code",
   "execution_count": 19,
   "metadata": {},
   "outputs": [
    {
     "data": {
      "text/plain": [
       "array([[-0.66362117, -0.40927136, -0.41010987,  0.38703509,  0.27224553],\n",
       "       [ 0.09316281, -0.61924511,  0.44683897, -0.38189228,  0.51220054],\n",
       "       [-0.21592214,  0.39630539,  0.65392265,  0.51059851,  0.3286244 ],\n",
       "       [ 0.49953474,  0.2348178 , -0.4420423 ,  0.15047087,  0.69085655],\n",
       "       [-0.50474777,  0.48665705, -0.09554376, -0.64885268,  0.27974309]])"
      ]
     },
     "execution_count": 19,
     "metadata": {},
     "output_type": "execute_result"
    }
   ],
   "source": [
    "u"
   ]
  },
  {
   "cell_type": "code",
   "execution_count": 20,
   "metadata": {},
   "outputs": [
    {
     "name": "stdout",
     "output_type": "stream",
     "text": [
      "[[ 0.66362117 -0.09316281  0.21592214 -0.49953474  0.50474777]\n",
      " [ 0.40927136  0.61924511 -0.39630539 -0.2348178  -0.48665705]\n",
      " [-0.41010987  0.44683897  0.65392265 -0.4420423  -0.09554376]\n",
      " [-0.38703509  0.38189228 -0.51059851 -0.15047087  0.64885268]\n",
      " [ 0.27224553  0.51220054  0.3286244   0.69085655  0.27974309]]\n"
     ]
    }
   ],
   "source": [
    "# PCA\n",
    "from sklearn.decomposition import PCA\n",
    "pca = PCA(n_components=5)\n",
    "pca.fit(matrix)\n",
    "print(pca.components_)"
   ]
  },
  {
   "cell_type": "code",
   "execution_count": 21,
   "metadata": {},
   "outputs": [
    {
     "name": "stdout",
     "output_type": "stream",
     "text": [
      "[0.40367099 0.27546724 0.17095805 0.14144297 0.0529052 ]\n"
     ]
    }
   ],
   "source": [
    "print(pca.explained_variance_)"
   ]
  },
  {
   "cell_type": "code",
   "execution_count": 22,
   "metadata": {},
   "outputs": [
    {
     "data": {
      "text/plain": [
       "<AxesSubplot:>"
      ]
     },
     "execution_count": 22,
     "metadata": {},
     "output_type": "execute_result"
    },
    {
     "data": {
      "image/png": "[encoded data removed]",
      "text/plain": [
       "<Figure size 1440x720 with 1 Axes>"
      ]
     },
     "metadata": {},
     "output_type": "display_data"
    }
   ],
   "source": [
    "import seaborn as sns\n",
    "fig = plt.figure( figsize = (20,10))\n",
    "sns.barplot(x = words, y = u[:,0])"
   ]
  },
  {
   "cell_type": "code",
   "execution_count": 23,
   "metadata": {},
   "outputs": [
    {
     "data": {
      "text/plain": [
       "<AxesSubplot:>"
      ]
     },
     "execution_count": 23,
     "metadata": {},
     "output_type": "execute_result"
    },
    {
     "data": {
      "image/png": "[encoded data removed]",
      "text/plain": [
       "<Figure size 1440x720 with 1 Axes>"
      ]
     },
     "metadata": {},
     "output_type": "display_data"
    }
   ],
   "source": [
    "fig = plt.figure( figsize = (20,10))\n",
    "sns.barplot(x = words, y = u[:,1])"
   ]
  },
  {
   "cell_type": "code",
   "execution_count": 24,
   "metadata": {},
   "outputs": [
    {
     "data": {
      "text/plain": [
       "<AxesSubplot:>"
      ]
     },
     "execution_count": 24,
     "metadata": {},
     "output_type": "execute_result"
    },
    {
     "data": {
      "image/png": "[encoded data removed]",
      "text/plain": [
       "<Figure size 1440x720 with 1 Axes>"
      ]
     },
     "metadata": {},
     "output_type": "display_data"
    }
   ],
   "source": [
    "fig = plt.figure( figsize = (20,10))\n",
    "sns.barplot(x = words, y = u[:,2])"
   ]
  },
  {
   "cell_type": "code",
   "execution_count": 25,
   "metadata": {},
   "outputs": [
    {
     "data": {
      "text/plain": [
       "<AxesSubplot:>"
      ]
     },
     "execution_count": 25,
     "metadata": {},
     "output_type": "execute_result"
    },
    {
     "data": {
      "image/png": "[encoded data removed]",
      "text/plain": [
       "<Figure size 1440x720 with 1 Axes>"
      ]
     },
     "metadata": {},
     "output_type": "display_data"
    }
   ],
   "source": [
    "fig = plt.figure( figsize = (20,10))\n",
    "sns.barplot(x = words, y = u[:,3])"
   ]
  },
  {
   "cell_type": "code",
   "execution_count": 26,
   "metadata": {},
   "outputs": [
    {
     "data": {
      "text/plain": [
       "<AxesSubplot:>"
      ]
     },
     "execution_count": 26,
     "metadata": {},
     "output_type": "execute_result"
    },
    {
     "data": {
      "image/png": "[encoded data removed]",
      "text/plain": [
       "<Figure size 1440x720 with 1 Axes>"
      ]
     },
     "metadata": {},
     "output_type": "display_data"
    }
   ],
   "source": [
    "fig = plt.figure( figsize = (20,10))\n",
    "sns.barplot(x = words, y = u[:,4])"
   ]
  },
  {
   "cell_type": "code",
   "execution_count": null,
   "metadata": {},
   "outputs": [],
   "source": []
  }
 ],
 "metadata": {
  "kernelspec": {
   "display_name": "Python 3",
   "language": "python",
   "name": "python3"
  },
  "language_info": {
   "codemirror_mode": {
    "name": "ipython",
    "version": 3
   },
   "file_extension": ".py",
   "mimetype": "text/x-python",
   "name": "python",
   "nbconvert_exporter": "python",
   "pygments_lexer": "ipython3",
   "version": "3.8.8"
  }
 },
 "nbformat": 4,
 "nbformat_minor": 4
}
